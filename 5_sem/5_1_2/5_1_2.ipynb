{
 "cells": [
  {
   "cell_type": "code",
   "execution_count": 1,
   "metadata": {},
   "outputs": [],
   "source": [
    "import pandas as pd\n",
    "import numpy as np\n",
    "from matplotlib import pyplot as plt\n",
    "import matplotlib as mpl\n",
    "import statsmodels.api as sm"
   ]
  },
  {
   "cell_type": "markdown",
   "metadata": {},
   "source": [
    "# Лаборатоная работа № 5.1.2\n",
    "## Исследование эффекта Комптона\n",
    "#### Работу выполнили студенты 772 группы:\n",
    "- Усеинов Булат\n",
    "- Зубков Максим\n",
    "- Шевцов Владимир"
   ]
  },
  {
   "cell_type": "markdown",
   "metadata": {},
   "source": [
    "## Часть I. \n",
    "### Экспериментальная установка"
   ]
  },
  {
   "cell_type": "code",
   "execution_count": 2,
   "metadata": {},
   "outputs": [],
   "source": [
    "#TODO"
   ]
  },
  {
   "cell_type": "markdown",
   "metadata": {},
   "source": [
    "## Часть II. \n",
    "### Обработка экспериментальных данных"
   ]
  },
  {
   "cell_type": "code",
   "execution_count": 3,
   "metadata": {},
   "outputs": [],
   "source": [
    "data = pd.DataFrame()\n",
    "data['Thetta'] = [0, 10, 20, 30, 40, 50, 60, 70, 80, 90, 100, 110, 120]\n",
    "data['X'] = 1 - np.cos(np.deg2rad(data['Thetta']))\n",
    "data['N_min'] = [805, 775, 705, 655, 595, 500, 445, 380, 350, 320, 300, 279, 260]\n",
    "data['N_max'] = [815, 785, 720, 665, 605, 540, 475, 420, 375, 350, 315, 295, 275]\n",
    "data['N'] = (data['N_min'] + data['N_max']) / 2.\n",
    "data['1/N'] = 1 / data['N']\n",
    "data['sigma_N'] = (data['N_max'] - data['N_min']) / 2.\n",
    "data['weight'] = 1 / data['sigma_N']"
   ]
  },
  {
   "cell_type": "code",
   "execution_count": 4,
   "metadata": {},
   "outputs": [
    {
     "data": {
      "text/html": [
       "<div>\n",
       "<style scoped>\n",
       "    .dataframe tbody tr th:only-of-type {\n",
       "        vertical-align: middle;\n",
       "    }\n",
       "\n",
       "    .dataframe tbody tr th {\n",
       "        vertical-align: top;\n",
       "    }\n",
       "\n",
       "    .dataframe thead th {\n",
       "        text-align: right;\n",
       "    }\n",
       "</style>\n",
       "<table border=\"1\" class=\"dataframe\">\n",
       "  <thead>\n",
       "    <tr style=\"text-align: right;\">\n",
       "      <th></th>\n",
       "      <th>Thetta</th>\n",
       "      <th>X</th>\n",
       "      <th>N_min</th>\n",
       "      <th>N_max</th>\n",
       "      <th>N</th>\n",
       "      <th>1/N</th>\n",
       "      <th>sigma_N</th>\n",
       "      <th>weight</th>\n",
       "    </tr>\n",
       "  </thead>\n",
       "  <tbody>\n",
       "    <tr>\n",
       "      <th>0</th>\n",
       "      <td>0</td>\n",
       "      <td>0.000000</td>\n",
       "      <td>805</td>\n",
       "      <td>815</td>\n",
       "      <td>810.0</td>\n",
       "      <td>0.001235</td>\n",
       "      <td>5.0</td>\n",
       "      <td>0.200000</td>\n",
       "    </tr>\n",
       "    <tr>\n",
       "      <th>1</th>\n",
       "      <td>10</td>\n",
       "      <td>0.015192</td>\n",
       "      <td>775</td>\n",
       "      <td>785</td>\n",
       "      <td>780.0</td>\n",
       "      <td>0.001282</td>\n",
       "      <td>5.0</td>\n",
       "      <td>0.200000</td>\n",
       "    </tr>\n",
       "    <tr>\n",
       "      <th>2</th>\n",
       "      <td>20</td>\n",
       "      <td>0.060307</td>\n",
       "      <td>705</td>\n",
       "      <td>720</td>\n",
       "      <td>712.5</td>\n",
       "      <td>0.001404</td>\n",
       "      <td>7.5</td>\n",
       "      <td>0.133333</td>\n",
       "    </tr>\n",
       "    <tr>\n",
       "      <th>3</th>\n",
       "      <td>30</td>\n",
       "      <td>0.133975</td>\n",
       "      <td>655</td>\n",
       "      <td>665</td>\n",
       "      <td>660.0</td>\n",
       "      <td>0.001515</td>\n",
       "      <td>5.0</td>\n",
       "      <td>0.200000</td>\n",
       "    </tr>\n",
       "    <tr>\n",
       "      <th>4</th>\n",
       "      <td>40</td>\n",
       "      <td>0.233956</td>\n",
       "      <td>595</td>\n",
       "      <td>605</td>\n",
       "      <td>600.0</td>\n",
       "      <td>0.001667</td>\n",
       "      <td>5.0</td>\n",
       "      <td>0.200000</td>\n",
       "    </tr>\n",
       "    <tr>\n",
       "      <th>5</th>\n",
       "      <td>50</td>\n",
       "      <td>0.357212</td>\n",
       "      <td>500</td>\n",
       "      <td>540</td>\n",
       "      <td>520.0</td>\n",
       "      <td>0.001923</td>\n",
       "      <td>20.0</td>\n",
       "      <td>0.050000</td>\n",
       "    </tr>\n",
       "    <tr>\n",
       "      <th>6</th>\n",
       "      <td>60</td>\n",
       "      <td>0.500000</td>\n",
       "      <td>445</td>\n",
       "      <td>475</td>\n",
       "      <td>460.0</td>\n",
       "      <td>0.002174</td>\n",
       "      <td>15.0</td>\n",
       "      <td>0.066667</td>\n",
       "    </tr>\n",
       "    <tr>\n",
       "      <th>7</th>\n",
       "      <td>70</td>\n",
       "      <td>0.657980</td>\n",
       "      <td>380</td>\n",
       "      <td>420</td>\n",
       "      <td>400.0</td>\n",
       "      <td>0.002500</td>\n",
       "      <td>20.0</td>\n",
       "      <td>0.050000</td>\n",
       "    </tr>\n",
       "    <tr>\n",
       "      <th>8</th>\n",
       "      <td>80</td>\n",
       "      <td>0.826352</td>\n",
       "      <td>350</td>\n",
       "      <td>375</td>\n",
       "      <td>362.5</td>\n",
       "      <td>0.002759</td>\n",
       "      <td>12.5</td>\n",
       "      <td>0.080000</td>\n",
       "    </tr>\n",
       "    <tr>\n",
       "      <th>9</th>\n",
       "      <td>90</td>\n",
       "      <td>1.000000</td>\n",
       "      <td>320</td>\n",
       "      <td>350</td>\n",
       "      <td>335.0</td>\n",
       "      <td>0.002985</td>\n",
       "      <td>15.0</td>\n",
       "      <td>0.066667</td>\n",
       "    </tr>\n",
       "    <tr>\n",
       "      <th>10</th>\n",
       "      <td>100</td>\n",
       "      <td>1.173648</td>\n",
       "      <td>300</td>\n",
       "      <td>315</td>\n",
       "      <td>307.5</td>\n",
       "      <td>0.003252</td>\n",
       "      <td>7.5</td>\n",
       "      <td>0.133333</td>\n",
       "    </tr>\n",
       "    <tr>\n",
       "      <th>11</th>\n",
       "      <td>110</td>\n",
       "      <td>1.342020</td>\n",
       "      <td>279</td>\n",
       "      <td>295</td>\n",
       "      <td>287.0</td>\n",
       "      <td>0.003484</td>\n",
       "      <td>8.0</td>\n",
       "      <td>0.125000</td>\n",
       "    </tr>\n",
       "    <tr>\n",
       "      <th>12</th>\n",
       "      <td>120</td>\n",
       "      <td>1.500000</td>\n",
       "      <td>260</td>\n",
       "      <td>275</td>\n",
       "      <td>267.5</td>\n",
       "      <td>0.003738</td>\n",
       "      <td>7.5</td>\n",
       "      <td>0.133333</td>\n",
       "    </tr>\n",
       "  </tbody>\n",
       "</table>\n",
       "</div>"
      ],
      "text/plain": [
       "    Thetta         X  N_min  N_max      N       1/N  sigma_N    weight\n",
       "0        0  0.000000    805    815  810.0  0.001235      5.0  0.200000\n",
       "1       10  0.015192    775    785  780.0  0.001282      5.0  0.200000\n",
       "2       20  0.060307    705    720  712.5  0.001404      7.5  0.133333\n",
       "3       30  0.133975    655    665  660.0  0.001515      5.0  0.200000\n",
       "4       40  0.233956    595    605  600.0  0.001667      5.0  0.200000\n",
       "5       50  0.357212    500    540  520.0  0.001923     20.0  0.050000\n",
       "6       60  0.500000    445    475  460.0  0.002174     15.0  0.066667\n",
       "7       70  0.657980    380    420  400.0  0.002500     20.0  0.050000\n",
       "8       80  0.826352    350    375  362.5  0.002759     12.5  0.080000\n",
       "9       90  1.000000    320    350  335.0  0.002985     15.0  0.066667\n",
       "10     100  1.173648    300    315  307.5  0.003252      7.5  0.133333\n",
       "11     110  1.342020    279    295  287.0  0.003484      8.0  0.125000\n",
       "12     120  1.500000    260    275  267.5  0.003738      7.5  0.133333"
      ]
     },
     "execution_count": 4,
     "metadata": {},
     "output_type": "execute_result"
    }
   ],
   "source": [
    "data"
   ]
  },
  {
   "cell_type": "markdown",
   "metadata": {},
   "source": [
    "### Для того, чтобы провести лучшую прямую воспользуемся методом минимизации $\\chi^2$, его также называют взвешенным методом наименьших квадратов (Weighted Least Squares - WLS). "
   ]
  },
  {
   "cell_type": "code",
   "execution_count": 5,
   "metadata": {},
   "outputs": [
    {
     "name": "stderr",
     "output_type": "stream",
     "text": [
      "/Users/bulat/anaconda3/lib/python3.7/site-packages/numpy/core/fromnumeric.py:2389: FutureWarning: Method .ptp is deprecated and will be removed in a future version. Use numpy.ptp instead.\n",
      "  return ptp(axis=axis, out=out, **kwargs)\n"
     ]
    }
   ],
   "source": [
    "X = sm.add_constant(data['X'])\n",
    "wls_model = sm.WLS(data['1/N'], X, weights=data['weight'])\n",
    "results = wls_model.fit()"
   ]
  },
  {
   "cell_type": "markdown",
   "metadata": {},
   "source": [
    "### Получим параметры полинома вида: $$y = \\mathbf{X} \\cdot x + \\mathbf{const}$$ \n",
    "- $\\mathbf{X} $ - наклон прямой.\n",
    "- $\\mathbf{const}$ - сдвиг прямой."
   ]
  },
  {
   "cell_type": "code",
   "execution_count": 6,
   "metadata": {},
   "outputs": [
    {
     "data": {
      "text/plain": [
       "const    0.001282\n",
       "X        0.001670\n",
       "dtype: float64"
      ]
     },
     "execution_count": 6,
     "metadata": {},
     "output_type": "execute_result"
    }
   ],
   "source": [
    "results.params"
   ]
  },
  {
   "cell_type": "markdown",
   "metadata": {},
   "source": [
    "### Данная реализация WLS дает возможность получить ошибки коэффициентов и другую информацию о том, насколько хорошо была проведена прямая."
   ]
  },
  {
   "cell_type": "code",
   "execution_count": 7,
   "metadata": {},
   "outputs": [
    {
     "name": "stderr",
     "output_type": "stream",
     "text": [
      "/Users/bulat/anaconda3/lib/python3.7/site-packages/scipy/stats/stats.py:1450: UserWarning: kurtosistest only valid for n>=20 ... continuing anyway, n=13\n",
      "  \"anyway, n=%i\" % int(n))\n"
     ]
    },
    {
     "data": {
      "text/html": [
       "<table class=\"simpletable\">\n",
       "<caption>WLS Regression Results</caption>\n",
       "<tr>\n",
       "  <th>Dep. Variable:</th>           <td>1/N</td>       <th>  R-squared:         </th> <td>   0.998</td>\n",
       "</tr>\n",
       "<tr>\n",
       "  <th>Model:</th>                   <td>WLS</td>       <th>  Adj. R-squared:    </th> <td>   0.998</td>\n",
       "</tr>\n",
       "<tr>\n",
       "  <th>Method:</th>             <td>Least Squares</td>  <th>  F-statistic:       </th> <td>   4808.</td>\n",
       "</tr>\n",
       "<tr>\n",
       "  <th>Date:</th>             <td>Mon, 07 Oct 2019</td> <th>  Prob (F-statistic):</th> <td>6.97e-16</td>\n",
       "</tr>\n",
       "<tr>\n",
       "  <th>Time:</th>                 <td>03:52:08</td>     <th>  Log-Likelihood:    </th> <td>  111.49</td>\n",
       "</tr>\n",
       "<tr>\n",
       "  <th>No. Observations:</th>      <td>    13</td>      <th>  AIC:               </th> <td>  -219.0</td>\n",
       "</tr>\n",
       "<tr>\n",
       "  <th>Df Residuals:</th>          <td>    11</td>      <th>  BIC:               </th> <td>  -217.8</td>\n",
       "</tr>\n",
       "<tr>\n",
       "  <th>Df Model:</th>              <td>     1</td>      <th>                     </th>     <td> </td>   \n",
       "</tr>\n",
       "<tr>\n",
       "  <th>Covariance Type:</th>      <td>nonrobust</td>    <th>                     </th>     <td> </td>   \n",
       "</tr>\n",
       "</table>\n",
       "<table class=\"simpletable\">\n",
       "<tr>\n",
       "    <td></td>       <th>coef</th>     <th>std err</th>      <th>t</th>      <th>P>|t|</th>  <th>[0.025</th>    <th>0.975]</th>  \n",
       "</tr>\n",
       "<tr>\n",
       "  <th>const</th> <td>    0.0013</td> <td> 1.78e-05</td> <td>   72.227</td> <td> 0.000</td> <td>    0.001</td> <td>    0.001</td>\n",
       "</tr>\n",
       "<tr>\n",
       "  <th>X</th>     <td>    0.0017</td> <td> 2.41e-05</td> <td>   69.340</td> <td> 0.000</td> <td>    0.002</td> <td>    0.002</td>\n",
       "</tr>\n",
       "</table>\n",
       "<table class=\"simpletable\">\n",
       "<tr>\n",
       "  <th>Omnibus:</th>       <td> 0.470</td> <th>  Durbin-Watson:     </th> <td>   0.510</td>\n",
       "</tr>\n",
       "<tr>\n",
       "  <th>Prob(Omnibus):</th> <td> 0.791</td> <th>  Jarque-Bera (JB):  </th> <td>   0.514</td>\n",
       "</tr>\n",
       "<tr>\n",
       "  <th>Skew:</th>          <td> 0.021</td> <th>  Prob(JB):          </th> <td>   0.773</td>\n",
       "</tr>\n",
       "<tr>\n",
       "  <th>Kurtosis:</th>      <td> 2.027</td> <th>  Cond. No.          </th> <td>    2.46</td>\n",
       "</tr>\n",
       "</table><br/><br/>Warnings:<br/>[1] Standard Errors assume that the covariance matrix of the errors is correctly specified."
      ],
      "text/plain": [
       "<class 'statsmodels.iolib.summary.Summary'>\n",
       "\"\"\"\n",
       "                            WLS Regression Results                            \n",
       "==============================================================================\n",
       "Dep. Variable:                    1/N   R-squared:                       0.998\n",
       "Model:                            WLS   Adj. R-squared:                  0.998\n",
       "Method:                 Least Squares   F-statistic:                     4808.\n",
       "Date:                Mon, 07 Oct 2019   Prob (F-statistic):           6.97e-16\n",
       "Time:                        03:52:08   Log-Likelihood:                 111.49\n",
       "No. Observations:                  13   AIC:                            -219.0\n",
       "Df Residuals:                      11   BIC:                            -217.8\n",
       "Df Model:                           1                                         \n",
       "Covariance Type:            nonrobust                                         \n",
       "==============================================================================\n",
       "                 coef    std err          t      P>|t|      [0.025      0.975]\n",
       "------------------------------------------------------------------------------\n",
       "const          0.0013   1.78e-05     72.227      0.000       0.001       0.001\n",
       "X              0.0017   2.41e-05     69.340      0.000       0.002       0.002\n",
       "==============================================================================\n",
       "Omnibus:                        0.470   Durbin-Watson:                   0.510\n",
       "Prob(Omnibus):                  0.791   Jarque-Bera (JB):                0.514\n",
       "Skew:                           0.021   Prob(JB):                        0.773\n",
       "Kurtosis:                       2.027   Cond. No.                         2.46\n",
       "==============================================================================\n",
       "\n",
       "Warnings:\n",
       "[1] Standard Errors assume that the covariance matrix of the errors is correctly specified.\n",
       "\"\"\""
      ]
     },
     "execution_count": 7,
     "metadata": {},
     "output_type": "execute_result"
    }
   ],
   "source": [
    "results.summary()"
   ]
  },
  {
   "cell_type": "markdown",
   "metadata": {},
   "source": [
    "### Из этого отчета видим следующие погрешности:\n",
    "- $\\delta \\mathbf{X} = 2.41 \\cdot 10^{-5}$\n",
    "- $\\delta \\mathbf{const} = 1.78 \\cdot 10^{-5}$"
   ]
  },
  {
   "cell_type": "code",
   "execution_count": 8,
   "metadata": {},
   "outputs": [
    {
     "data": {
      "text/plain": [
       "<matplotlib.legend.Legend at 0x1c1c153400>"
      ]
     },
     "execution_count": 8,
     "metadata": {},
     "output_type": "execute_result"
    },
    {
     "data": {
      "image/png": "[encoded data removed]",
      "text/plain": [
       "<Figure size 1440x936 with 1 Axes>"
      ]
     },
     "metadata": {},
     "output_type": "display_data"
    }
   ],
   "source": [
    "mpl.style.use('seaborn')\n",
    "plt.figure(figsize=(20,13))\n",
    "plt.title(r\"$\\dfrac{1}{N(\\Theta)} = f(1-\\cos \\Theta)$\")\n",
    "plt.xlabel(r'$1-\\cos \\Theta$')\n",
    "plt.ylabel(r'$\\dfrac{1}{N(\\Theta)}$')\n",
    "plt.plot(data['X'], data['1/N'], 'o', label='Средние величины', color='red' )\n",
    "plt.plot(data['X'], 1/data['N_min'], 'v', label='Верхние границы', color='green')\n",
    "plt.plot(data['X'], 1/data['N_max'], '^', label='Нижние границы', color='green')\n",
    "plt.plot(data['X'], 0.001670*data['X'] + 0.001282, label = 'Искомая прямая', color='indigo' )\n",
    "plt.plot([0,0], [0.0012, 0.0035], '--', label = r'$\\cos \\Theta = 1$', color='orange')\n",
    "plt.plot([1, 1], [0.0012, 0.0035], '-.', label = r'$\\cos \\Theta = 0$', color='orange' )\n",
    "plt.legend()"
   ]
  },
  {
   "cell_type": "markdown",
   "metadata": {},
   "source": [
    "### Найдем точку обратную величину к ординате точки пересечения построенного графика и оси ординат, для того, чтобы определить занчение $N(0)$"
   ]
  },
  {
   "cell_type": "code",
   "execution_count": 9,
   "metadata": {},
   "outputs": [
    {
     "name": "stdout",
     "output_type": "stream",
     "text": [
      "N_0 = 780.0312012480499\n",
      "delta N_0 = 10.830386413584469\n",
      "\n",
      "\n",
      "N(0) = 780.031 ± 10.83\n"
     ]
    }
   ],
   "source": [
    "x = 0\n",
    "N_0 = 1 / (0.001670*x + 0.001282)\n",
    "print(f'N_0 = {N_0}')\n",
    "delta_N_0 = (2.41e-05*x + 1.78e-05) / (0.001670*x + 0.001282) * (1 / (0.001670*x + 0.001282))\n",
    "print(f'delta N_0 = {delta_N_0}\\n\\n')\n",
    "print(f'N(0) = {round(N_0, 3)} ± {round(delta_N_0, 3)}')"
   ]
  },
  {
   "cell_type": "markdown",
   "metadata": {},
   "source": [
    "### Найдем точку обратную величину к ординате точки пересечения построенного графика и прямой $\\cos \\Theta = 0$, для того, чтобы определить занчение $N(90)$"
   ]
  },
  {
   "cell_type": "code",
   "execution_count": 10,
   "metadata": {},
   "outputs": [
    {
     "name": "stdout",
     "output_type": "stream",
     "text": [
      "N_90 = 338.75338753387535\n",
      "delta N_90 = 4.808186632001822\n",
      "\n",
      "\n",
      "N(90) = 338.753 ± 4.808\n"
     ]
    }
   ],
   "source": [
    "x = 1\n",
    "N_90 = 1/ (0.001670*x + 0.001282)\n",
    "print(f'N_90 = {N_90}')\n",
    "delta_N_90 = (2.41e-05*x + 1.78e-05) / (0.001670*x + 0.001282) * (1 / (0.001670*x + 0.001282))\n",
    "print(f'delta N_90 = {delta_N_90}\\n\\n')\n",
    "print(f'N(90) = {round(N_90, 3)} ± {round(delta_N_90, 3)}')"
   ]
  },
  {
   "cell_type": "markdown",
   "metadata": {},
   "source": [
    "### По формуле $$mc^2 = E_{\\gamma}\\dfrac{N(90)}{N(0) - N(90)}$$\n",
    "где $E_{\\gamma} = 662 \\text{ кэВ}$\n",
    "### рассчитаем экспериментальную энергию покоя частицы, на которой происходит комптоновское рассеяние первичных $\\gamma-$квантов."
   ]
  },
  {
   "cell_type": "code",
   "execution_count": 11,
   "metadata": {},
   "outputs": [
    {
     "name": "stdout",
     "output_type": "stream",
     "text": [
      "mc^2 = 508.19401197604793\n",
      "delta mc^2 = 25.223223062856327\n",
      "\n",
      "\n",
      "mc^2 = 508.194 ± 25.223\n"
     ]
    }
   ],
   "source": [
    "mc2 = 662 * N_90 / (N_0 - N_90)\n",
    "print(f\"mc^2 = {mc2}\")\n",
    "delta_mc2 = (((delta_N_0 + delta_N_90) / (N_0 - N_90)) + (delta_N_90 / N_90)) * (N_90 / (N_0 - N_90)) * 662\n",
    "print(f\"delta mc^2 = {delta_mc2}\\n\\n\")\n",
    "print(f'mc^2 = {round(mc2, 3)} ± {round(delta_mc2, 3)}')"
   ]
  },
  {
   "cell_type": "markdown",
   "metadata": {},
   "source": [
    "### Так как в теории $mc^2 = 511 \\text{ кэВ}$ и на практике мы получили $mc^2 = 508.194 \\pm 25.223 \\text{ кэВ}$, то можно сделать вывод, что эксперимент вполне соотносится с теорией."
   ]
  }
 ],
 "metadata": {
  "kernelspec": {
   "display_name": "Python 3",
   "language": "python",
   "name": "python3"
  },
  "language_info": {
   "codemirror_mode": {
    "name": "ipython",
    "version": 3
   },
   "file_extension": ".py",
   "mimetype": "text/x-python",
   "name": "python",
   "nbconvert_exporter": "python",
   "pygments_lexer": "ipython3",
   "version": "3.7.3"
  }
 },
 "nbformat": 4,
 "nbformat_minor": 4
}
