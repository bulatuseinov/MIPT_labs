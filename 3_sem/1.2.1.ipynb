{
 "cells": [
  {
   "cell_type": "markdown",
   "metadata": {},
   "source": [
    "# Лабораторная работа № 121"
   ]
  },
  {
   "cell_type": "markdown",
   "metadata": {},
   "source": [
    "## Выполнил Усеинов Булат\n",
    "### группа 778"
   ]
  },
  {
   "cell_type": "markdown",
   "metadata": {},
   "source": [
    "# Измерение магнитного поля Земли"
   ]
  },
  {
   "cell_type": "markdown",
   "metadata": {},
   "source": [
    "$\\textbf{Цель работы}$: определить характеристики шарообразных неодимовых магнитов и, используя законы взаимодействия магнитных моментов с полем, измерить горизонтальную и вертикальную составляющие индукции магнитного поля Земли и магнитное наклонение."
   ]
  },
  {
   "cell_type": "markdown",
   "metadata": {},
   "source": [
    "$\\textbf{В работе используются}$: 12 одинаковых неодимовых магнитных шариков, тонкая нить для изготовления крутильного маятника, медная проволока диаметром (0,5 – 0,6) мм, электронные весы, секундомер, измеритель магнитной индукции АТЕ-8702, штангенциркуль, брусок из немагнитного материала (25x30x60 мм3), деревянная линейка, штатив из немагнитного материала."
   ]
  },
  {
   "cell_type": "markdown",
   "metadata": {},
   "source": [
    "$\\textbf{Точечный магнитный диполь}$\n",
    "Простейший магнитный диполь может быть образован витком с током или постоянным магни- том. По определению, магнитный момент $P_m$ тонкого витка площадью 𝑆 с током 𝐼 равен:\n",
    "\n",
    "### $𝑃 =\\frac{I}{c}\\overrightarrow{S}=\\frac{I}{c}S\\overrightarrow{n}$\n",
    "\n",
    "$\\overrightarrow{n}$ — единичный вектор нормали к площадке S (вектор магнитного\n",
    "момента $\\overrightarrow{P_m}$ направлен от южного (S) к северному (N) полюсу). Если размеры контура с током или\n",
    "магнитной стрелки малы по сравнению расстоянием до диполя, то соответствующий магнитный\n",
    "диполь 𝑃 называют элементарным или точечным."
   ]
  },
  {
   "cell_type": "markdown",
   "metadata": {},
   "source": [
    "Магнитное поле точечного диполя определяется по формуле:\n",
    "    \n",
    "### $\\overrightarrow{B} = 3\\frac{(\\overrightarrow{P_m}, \\overrightarrow{r}) \\overrightarrow{r}}{r^5} - \\frac{\\overrightarrow{P_m}}{r^3}$"
   ]
  },
  {
   "cell_type": "markdown",
   "metadata": {},
   "source": [
    "В магнитном поле с индукцией 𝐵 на точечный магнитный диполь 𝑃𝑚 действует механический\n",
    "момент сил:\n",
    "### $\\overrightarrow{M}=\\overrightarrow{P_m}\\times \\overrightarrow{B}$"
   ]
  },
  {
   "cell_type": "markdown",
   "metadata": {},
   "source": [
    "Магнитный диполь в магнитном поле обладает энергией:\n",
    "### $W = -(\\overrightarrow{P_m}, \\overrightarrow{B})$"
   ]
  },
  {
   "cell_type": "markdown",
   "metadata": {},
   "source": [
    "В неоднородном поле на точечный магнитный диполь, кроме момента сил, действует ещё и сила:\n",
    "### $\\overrightarrow{F} = (\\overrightarrow{P_m}, \\overrightarrow{\\nabla})\\overrightarrow{B}$"
   ]
  },
  {
   "cell_type": "markdown",
   "metadata": {},
   "source": [
    "Зная магнитные моменты $P_1$ и $P_2$ двух небольших постоянных магнитов, можно рассчитать силу их взаимодействия. Если магнитны моменты $P_1 = P_2 = P_m$ двух одинаковых небольших магнитов направлены вдоль соединяющей их прямой, а расстояние между ними равно 𝑟, то магниты взаимодействуют с силой:\n",
    "\n",
    "### $F = P_m \\frac{\\partial B}{\\partial r} = P_m\\frac{\\partial(2P_m/r^3)}{\\partial r} = -6\\frac{P_m^2}{r^4}$"
   ]
  },
  {
   "cell_type": "markdown",
   "metadata": {},
   "source": [
    "Если магнитные моменты направлены перпендикулярно соединяющей их прямой, то сила их взаимодействия окажется в два раза меньшей: \n",
    "### $𝐹 = 3\\frac{P_m^2}{r^4}$"
   ]
  },
  {
   "cell_type": "markdown",
   "metadata": {},
   "source": [
    "## Определение магнитного момента, намагниченности и остаточной магнитной индукции вещества магнитных шариков.\n",
    "### Метод A"
   ]
  },
  {
   "cell_type": "code",
   "execution_count": 2,
   "metadata": {},
   "outputs": [],
   "source": [
    "import numpy as np\n",
    "import pandas as pd\n",
    "%matplotlib inline\n",
    "from matplotlib import pyplot as plt"
   ]
  },
  {
   "cell_type": "code",
   "execution_count": 3,
   "metadata": {},
   "outputs": [
    {
     "name": "stdout",
     "output_type": "stream",
     "text": [
      "Диаметр шариков: 0.598 ± 0.002 cm\n"
     ]
    }
   ],
   "source": [
    "ds = np.array([5.96, 6.02, 5.97]) #миллиметры\n",
    "d = ds.mean()\n",
    "dd = (0.01 ** 2 + 1/6*np.sum((ds - d) ** 2)) ** 0.5\n",
    "print (\"Диаметр шариков:\", round(d/10, 3), '±', round(dd/10, 3), 'cm')\n",
    "d /= 10\n",
    "dd /= 10"
   ]
  },
  {
   "cell_type": "code",
   "execution_count": 4,
   "metadata": {},
   "outputs": [
    {
     "name": "stdout",
     "output_type": "stream",
     "text": [
      "Максимальное расстояние: 2.71 ± 0.06 cm\n"
     ]
    }
   ],
   "source": [
    "m = 10.215/12 #грамм\n",
    "dm = 0.001/12\n",
    "g = 9.81 * 100 #см/с^2\n",
    "\n",
    "r_max = 21.07/10 + d #сантиметры\n",
    "d_r_max = 0.01/10 + dd\n",
    "print('Максимальное расстояние:', round(r_max, 2), '±', 0.06, 'cm')\n",
    "#r_max = 2.71\n",
    "#d_r_max = 0.06"
   ]
  },
  {
   "cell_type": "code",
   "execution_count": 5,
   "metadata": {},
   "outputs": [
    {
     "name": "stdout",
     "output_type": "stream",
     "text": [
      "Магнитный момент:  86.0 ± 0.0 G*cm^3\n",
      "Намагниченность:  770.0 ± 10.0 G\n",
      "Индукция магнитного поля на полюсах:  6400.0 ± 0.0 G\n",
      "Измеренная с помощью магнитометра: 2000 ± 100.0 G\n",
      "Остаточная магнитная индукция:  9700.0 ± 100.0 G (табличное значение ~ 10500 G)\n"
     ]
    }
   ],
   "source": [
    "#расчитаем величину магнитного момента P_m\n",
    "P_m1 = ((m*g*(r_max**4))/6) ** 0.5\n",
    "dP_m1 = P_m1 * (4*(d_r_max/r_max) ** 2 + (dm/m)**2) ** 0.5\n",
    "print (\"Магнитный момент: \", round(P_m1, 0), '±', round(dP_m1, 0), 'G*cm^3')\n",
    "#P_m1 = 87\n",
    "#dP_m1 = 4\n",
    "\n",
    "#намагниченность\n",
    "p_m1 = P_m1/(4/3*np.pi*(d/2)**3) \n",
    "dp_m1 = p_m1 * (3*(dd/d)**2 + (dP_m1/P_m1) ** 2) ** 0.5\n",
    "print ('Намагниченность: ', round(p_m1, -1), '±', round(dp_m1, -1), 'G')\n",
    "#p_m1 = 780\n",
    "#dp_m1 = 40\n",
    "\n",
    "#индукция на полюсах\n",
    "B_p1 = 2*P_m1/((d/2)**3)\n",
    "dB_p1 = B_p1 * (3*(dd/d)**2+(dP_m1/P_m1)**2) ** 0.5\n",
    "print(\"Индукция магнитного поля на полюсах: \", round(B_p1, -2), '±', round(dB_p1, -2), 'G')\n",
    "print ('Измеренная с помощью магнитометра:', round(1950, -2), '±', round(1950*0.05 + 10, -2), 'G')\n",
    "B_r1 = 4*np.pi*p_m1\n",
    "dB_r1 = B_r1*dp_m1/p_m1\n",
    "print(\"Остаточная магнитная индукция: \", round(B_r1, -2), '±', round(dB_r1, -2), 'G', '(табличное значение ~ 10500 G)') \n"
   ]
  },
  {
   "cell_type": "markdown",
   "metadata": {},
   "source": [
    "### Метод B"
   ]
  },
  {
   "cell_type": "code",
   "execution_count": 140,
   "metadata": {},
   "outputs": [
    {
     "name": "stdout",
     "output_type": "stream",
     "text": [
      "Магнитный момент:  85.0 ± 1.0 erg/G\n",
      "Намагниченность:  750.0 ± 10.0 erg/G*cm^-3)\n",
      "Индукция магнитного поля на полюсах:  6300.0 ± 100.0 G\n",
      "Остаточная магнитная индукция:  9500.0 ± 400.0 G\n"
     ]
    }
   ],
   "source": [
    "#вес оторвавшейся цепочки\n",
    "F = 368.5 * g\n",
    "dF = F*1e-2\n",
    "#сила сцепления\n",
    "F_0 = F/(1.08)\n",
    "P_m2 = ((F_0 * d ** 4) /6) ** 0.5\n",
    "dP_m2 = P_m2 * ((dF/F)**2 + (dd/d)**2) ** 0.5 \n",
    "print (\"Магнитный момент: \", round(P_m2, 0), '±', round(dP_m2, 0), 'erg/G')\n",
    "\n",
    "#намагниченность\n",
    "p_m2 = P_m2/(4/3*np.pi*(d/2)**3) \n",
    "dp_m2 = p_m2 * (3*(dd/d)**2 + (dP_m2/P_m2) ** 2) ** 0.5\n",
    "print ('Намагниченность: ', round(p_m2, -1), '±', round(dp_m2, -1), 'erg/G*cm^-3)')\n",
    "#p_m2 = 750\n",
    "#dp_m2 = 10\n",
    "\n",
    "#индукция на полюсах\n",
    "B_p2 = 2*P_m2/((d/2)**3)\n",
    "dB_p2 = B_p2 * (3*(dd/d)**2+(dP_m2/P_m2)**2) ** 0.5\n",
    "print(\"Индукция магнитного поля на полюсах: \", round(B_p2, -2), '±', round(dB_p2, -2), 'G')\n",
    "\n",
    "B_r2 = 4*np.pi*p_m2\n",
    "dB_r2 = B_r1*dp_m1/p_m2\n",
    "print(\"Остаточная магнитная индукция: \", round(B_r2, -2), '±', round(dB_r2, -2), 'G')"
   ]
  },
  {
   "cell_type": "markdown",
   "metadata": {},
   "source": [
    "### Определение горизонтальной составляющей магнитного поля Земли."
   ]
  },
  {
   "cell_type": "code",
   "execution_count": 141,
   "metadata": {},
   "outputs": [],
   "source": [
    "T = pd.DataFrame()\n",
    "T[3] = [13.36/20, 13.53/20, 13.45/20]\n",
    "T[4] = [16.90/20, 16.93/20, 16.84/20]\n",
    "T[5] = [20.79/20, 20.86/20, 20.80/20]\n",
    "T[6] = [25.50/20, 25.41/20, 25.54/20]\n",
    "T[7] = [30.60/20, 31.03/20, 31.32/20]\n",
    "T[8] = [16.80/10, 16.89/10, 16.85/10]\n",
    "T[9] = [19.00/10, 19.09/10, 18.97/10]\n",
    "T[10] = [21.14/10, 21.32/10, 21.18/10]\n",
    "T[11] = [23.45/10, 23.81/10, 23.70/10]\n",
    "T[12] = [25.46/10, 25.59/10, 25.63/10]\n"
   ]
  },
  {
   "cell_type": "markdown",
   "metadata": {},
   "source": [
    "### Свернем стрелку в кольцо и убедимся, что крутильные колебания не возбуждаются. Это значит, что упругость нити при расчетах можно не учитывать"
   ]
  },
  {
   "cell_type": "code",
   "execution_count": 172,
   "metadata": {},
   "outputs": [
    {
     "name": "stdout",
     "output_type": "stream",
     "text": [
      "k =  0.213 ± 0.001\n"
     ]
    },
    {
     "data": {
      "image/png": "[encoded data removed]",
      "text/plain": [
       "<Figure size 576x576 with 1 Axes>"
      ]
     },
     "metadata": {},
     "output_type": "display_data"
    }
   ],
   "source": [
    "x = np.array([3, 4, 5, 6, 7, 8, 9, 10, 11, 12])\n",
    "y = np.array(T.mean())\n",
    "kh = np.sum(x*y)/np.sum(x ** 2)\n",
    "dkh = 1/10**0.5 * (np.sum(y **2)/np.sum(x **2) - kh**2) ** 0.5\n",
    "plt.figure(figsize=(8,8))\n",
    "plt.plot(x, y, 'o')\n",
    "plt.plot([0, 13], [0, 13*kh])\n",
    "plt.title('T(n)')\n",
    "plt.grid()\n",
    "print (\"k = \", round(kh, 3), '±', round(dkh, 3))"
   ]
  },
  {
   "cell_type": "code",
   "execution_count": 157,
   "metadata": {},
   "outputs": [
    {
     "name": "stdout",
     "output_type": "stream",
     "text": [
      "Горизонтальная составляющая магнитного поля Земли:  0.261 ± 0.004 G\n"
     ]
    }
   ],
   "source": [
    "#горизонтальная составляющая магнитного поля Земли\n",
    "Bh = np.pi**2 * m * d**2 / (3 * kh ** 2 * P_m2)\n",
    "dBh = Bh * ((dm/m) ** 2 + 2*(dd/d)**2 + 2*(dkh/kh)**2 + (dP_m2/P_m2)**2)**0.5\n",
    "print ('Горизонтальная составляющая магнитного поля Земли: ', round(Bh, 3), '±', round(dBh, 3)+0.001, 'G')"
   ]
  },
  {
   "cell_type": "markdown",
   "metadata": {},
   "source": [
    "### Определение вертикальной составляющей магнитного поля Земли"
   ]
  },
  {
   "cell_type": "code",
   "execution_count": 162,
   "metadata": {},
   "outputs": [
    {
     "data": {
      "text/html": [
       "<div>\n",
       "<style scoped>\n",
       "    .dataframe tbody tr th:only-of-type {\n",
       "        vertical-align: middle;\n",
       "    }\n",
       "\n",
       "    .dataframe tbody tr th {\n",
       "        vertical-align: top;\n",
       "    }\n",
       "\n",
       "    .dataframe thead th {\n",
       "        text-align: right;\n",
       "    }\n",
       "</style>\n",
       "<table border=\"1\" class=\"dataframe\">\n",
       "  <thead>\n",
       "    <tr style=\"text-align: right;\">\n",
       "      <th></th>\n",
       "      <th>n</th>\n",
       "      <th>m, g</th>\n",
       "      <th>l, cm</th>\n",
       "      <th>M, dyn*cm</th>\n",
       "    </tr>\n",
       "  </thead>\n",
       "  <tbody>\n",
       "    <tr>\n",
       "      <th>0</th>\n",
       "      <td>4</td>\n",
       "      <td>0.300</td>\n",
       "      <td>0.598</td>\n",
       "      <td>176.0</td>\n",
       "    </tr>\n",
       "    <tr>\n",
       "      <th>1</th>\n",
       "      <td>6</td>\n",
       "      <td>0.200</td>\n",
       "      <td>1.197</td>\n",
       "      <td>235.0</td>\n",
       "    </tr>\n",
       "    <tr>\n",
       "      <th>2</th>\n",
       "      <td>8</td>\n",
       "      <td>0.185</td>\n",
       "      <td>1.795</td>\n",
       "      <td>326.0</td>\n",
       "    </tr>\n",
       "    <tr>\n",
       "      <th>3</th>\n",
       "      <td>10</td>\n",
       "      <td>0.218</td>\n",
       "      <td>2.393</td>\n",
       "      <td>512.0</td>\n",
       "    </tr>\n",
       "  </tbody>\n",
       "</table>\n",
       "</div>"
      ],
      "text/plain": [
       "    n   m, g  l, cm  M, dyn*cm\n",
       "0   4  0.300  0.598      176.0\n",
       "1   6  0.200  1.197      235.0\n",
       "2   8  0.185  1.795      326.0\n",
       "3  10  0.218  2.393      512.0"
      ]
     },
     "execution_count": 162,
     "metadata": {},
     "output_type": "execute_result"
    }
   ],
   "source": [
    "B = pd.DataFrame()\n",
    "B['n'] = np.array([4, 6, 8, 10])\n",
    "B['m, g'] = np.array([0.3, 0.2, 0.185, 0.218])\n",
    "B['l, cm'] = np.array([round(d, 3), round(2*d, 3), round(3*d, 3), round(4*d, 3)])\n",
    "B['M, dyn*cm'] = round(g * B['m, g']*B['l, cm'], 0)\n",
    "B"
   ]
  },
  {
   "cell_type": "code",
   "execution_count": 173,
   "metadata": {},
   "outputs": [
    {
     "name": "stdout",
     "output_type": "stream",
     "text": [
      "k =  46.0 ± 3.0\n"
     ]
    },
    {
     "data": {
      "image/png": "[encoded data removed]",
      "text/plain": [
       "<Figure size 432x288 with 1 Axes>"
      ]
     },
     "metadata": {},
     "output_type": "display_data"
    }
   ],
   "source": [
    "kv = np.sum(B['n']*B['M, dyn*cm'])/np.sum(B['n'] ** 2)\n",
    "dkv = 1/2 * (np.sum(B['M, dyn*cm']**2)/np.sum(B['n']**2) - kv**2)**0.5\n",
    "plt.plot(B['n'], B['M, dyn*cm'], '.')\n",
    "plt.plot([0, 12], [0, 12*kv])\n",
    "plt.grid(\n",
    "plt.title('M(n)')\n",
    "print ('k = ', round(kv, 0), '±', round(dkv,0))"
   ]
  },
  {
   "cell_type": "code",
   "execution_count": 178,
   "metadata": {},
   "outputs": [
    {
     "name": "stdout",
     "output_type": "stream",
     "text": [
      "Вертикальная составляющая магнитного поля Земли:  0.539 ± 0.002 G\n"
     ]
    }
   ],
   "source": [
    "# вертикальная составляющая магнитного поля Земли\n",
    "Bv = kv / P_m2\n",
    "dBv = Bv * ((dkv/kv) ** 2 + (dP_m2/P_m2)**2)\n",
    "print ('Вертикальная составляющая магнитного поля Земли: ', round(Bv, 3), '±', round(dBv, 3), 'G')"
   ]
  },
  {
   "cell_type": "markdown",
   "metadata": {},
   "source": [
    "### $\\beta = arctg(\\frac{B_v}{B_h})$"
   ]
  },
  {
   "cell_type": "code",
   "execution_count": 190,
   "metadata": {},
   "outputs": [
    {
     "name": "stdout",
     "output_type": "stream",
     "text": [
      "Магнитное наклонение:  64.0 ± 1.0 °\n"
     ]
    }
   ],
   "source": [
    "beta = np.arctan(Bv/Bh)\n",
    "dbeta = 1/(1+beta ** 2) * Bv/Bh * ((dBv/Bv)**2 + (dBh/Bh)**2)**0.5 * 57.2958\n",
    "print('Магнитное наклонение: ', round(beta * 57.2958, 0), '±', round(dbeta, 0), '°')"
   ]
  },
  {
   "cell_type": "code",
   "execution_count": 225,
   "metadata": {},
   "outputs": [],
   "source": [
    "tabl = pd.DataFrame()\n",
    "tabl['Br, G']  = ['9500 ± 500', 10500]\n",
    "tabl['Bh, G']  = ['0.261 ± 0.004', 0.2]\n",
    "tabl['Bv, G']  = ['0.539 ± 0.002', 0.5]\n",
    "tabl['β, ˚'] = ['64 ± 1', round(np.arctan(3.8823139814) * 57.2958, 0)]"
   ]
  },
  {
   "cell_type": "code",
   "execution_count": 226,
   "metadata": {},
   "outputs": [
    {
     "data": {
      "text/html": [
       "<div>\n",
       "<style scoped>\n",
       "    .dataframe tbody tr th:only-of-type {\n",
       "        vertical-align: middle;\n",
       "    }\n",
       "\n",
       "    .dataframe tbody tr th {\n",
       "        vertical-align: top;\n",
       "    }\n",
       "\n",
       "    .dataframe thead th {\n",
       "        text-align: right;\n",
       "    }\n",
       "</style>\n",
       "<table border=\"1\" class=\"dataframe\">\n",
       "  <thead>\n",
       "    <tr style=\"text-align: right;\">\n",
       "      <th></th>\n",
       "      <th>Br, G</th>\n",
       "      <th>Bh, G</th>\n",
       "      <th>Bv, G</th>\n",
       "      <th>β, ˚</th>\n",
       "    </tr>\n",
       "  </thead>\n",
       "  <tbody>\n",
       "    <tr>\n",
       "      <th>0</th>\n",
       "      <td>9500 ± 500</td>\n",
       "      <td>0.261 ± 0.004</td>\n",
       "      <td>0.539 ± 0.002</td>\n",
       "      <td>64 ± 1</td>\n",
       "    </tr>\n",
       "    <tr>\n",
       "      <th>1</th>\n",
       "      <td>10500</td>\n",
       "      <td>0.2</td>\n",
       "      <td>0.5</td>\n",
       "      <td>76</td>\n",
       "    </tr>\n",
       "  </tbody>\n",
       "</table>\n",
       "</div>"
      ],
      "text/plain": [
       "        Br, G          Bh, G          Bv, G    β, ˚\n",
       "0  9500 ± 500  0.261 ± 0.004  0.539 ± 0.002  64 ± 1\n",
       "1       10500            0.2            0.5      76"
      ]
     },
     "execution_count": 226,
     "metadata": {},
     "output_type": "execute_result"
    }
   ],
   "source": [
    "tabl"
   ]
  },
  {
   "cell_type": "code",
   "execution_count": null,
   "metadata": {},
   "outputs": [],
   "source": []
  }
 ],
 "metadata": {
  "kernelspec": {
   "display_name": "Python 3",
   "language": "python",
   "name": "python3"
  },
  "language_info": {
   "codemirror_mode": {
    "name": "ipython",
    "version": 3
   },
   "file_extension": ".py",
   "mimetype": "text/x-python",
   "name": "python",
   "nbconvert_exporter": "python",
   "pygments_lexer": "ipython3",
   "version": "3.6.8"
  }
 },
 "nbformat": 4,
 "nbformat_minor": 2
}
