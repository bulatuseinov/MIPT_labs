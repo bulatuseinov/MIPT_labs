{
 "cells": [
  {
   "cell_type": "markdown",
   "metadata": {},
   "source": [
    "#  Лабораторная работа №3.4.1\n"
   ]
  },
  {
   "cell_type": "markdown",
   "metadata": {},
   "source": [
    "## Выполнил Усеинов Булат"
   ]
  },
  {
   "cell_type": "markdown",
   "metadata": {},
   "source": [
    "### Группа 778"
   ]
  },
  {
   "cell_type": "code",
   "execution_count": 2,
   "metadata": {},
   "outputs": [],
   "source": [
    "import math\n",
    "import numpy as np\n",
    "import pandas as pd\n",
    "from scipy import interpolate\n",
    "from matplotlib import pyplot as plt"
   ]
  },
  {
   "cell_type": "markdown",
   "metadata": {},
   "source": [
    "#### Объявим приборные погрещшности величин в эксперименте"
   ]
  },
  {
   "cell_type": "code",
   "execution_count": 21,
   "metadata": {},
   "outputs": [],
   "source": [
    "delta_I = 0.01\n",
    "delta_m = 1 * (10**(-6))\n",
    "delta_Phi = 0.0001\n",
    "delta_B = delta_Phi / 72"
   ]
  },
  {
   "cell_type": "markdown",
   "metadata": {},
   "source": [
    "## Часть I. Калибровка Электромагнита."
   ]
  },
  {
   "cell_type": "code",
   "execution_count": 4,
   "metadata": {},
   "outputs": [
    {
     "data": {
      "text/html": [
       "<div>\n",
       "<style scoped>\n",
       "    .dataframe tbody tr th:only-of-type {\n",
       "        vertical-align: middle;\n",
       "    }\n",
       "\n",
       "    .dataframe tbody tr th {\n",
       "        vertical-align: top;\n",
       "    }\n",
       "\n",
       "    .dataframe thead th {\n",
       "        text-align: right;\n",
       "    }\n",
       "</style>\n",
       "<table border=\"1\" class=\"dataframe\">\n",
       "  <thead>\n",
       "    <tr style=\"text-align: right;\">\n",
       "      <th></th>\n",
       "      <th>I, A</th>\n",
       "      <th>Ф, Вб</th>\n",
       "    </tr>\n",
       "  </thead>\n",
       "  <tbody>\n",
       "    <tr>\n",
       "      <th>0</th>\n",
       "      <td>0.13</td>\n",
       "      <td>0.8</td>\n",
       "    </tr>\n",
       "    <tr>\n",
       "      <th>1</th>\n",
       "      <td>0.26</td>\n",
       "      <td>1.5</td>\n",
       "    </tr>\n",
       "    <tr>\n",
       "      <th>2</th>\n",
       "      <td>0.39</td>\n",
       "      <td>2.2</td>\n",
       "    </tr>\n",
       "    <tr>\n",
       "      <th>3</th>\n",
       "      <td>0.52</td>\n",
       "      <td>2.6</td>\n",
       "    </tr>\n",
       "    <tr>\n",
       "      <th>4</th>\n",
       "      <td>0.65</td>\n",
       "      <td>3.0</td>\n",
       "    </tr>\n",
       "    <tr>\n",
       "      <th>5</th>\n",
       "      <td>0.78</td>\n",
       "      <td>3.3</td>\n",
       "    </tr>\n",
       "    <tr>\n",
       "      <th>6</th>\n",
       "      <td>0.91</td>\n",
       "      <td>3.6</td>\n",
       "    </tr>\n",
       "    <tr>\n",
       "      <th>7</th>\n",
       "      <td>1.16</td>\n",
       "      <td>3.9</td>\n",
       "    </tr>\n",
       "  </tbody>\n",
       "</table>\n",
       "</div>"
      ],
      "text/plain": [
       "   I, A  Ф, Вб\n",
       "0  0.13    0.8\n",
       "1  0.26    1.5\n",
       "2  0.39    2.2\n",
       "3  0.52    2.6\n",
       "4  0.65    3.0\n",
       "5  0.78    3.3\n",
       "6  0.91    3.6\n",
       "7  1.16    3.9"
      ]
     },
     "execution_count": 4,
     "metadata": {},
     "output_type": "execute_result"
    }
   ],
   "source": [
    "data = pd.DataFrame()\n",
    "data[\"I, A\"] = [0.13, 0.26, 0.39, 0.52, 0.65, 0.78, 0.91, 1.16]\n",
    "data[\"Ф, Вб\"] = [0.8, 1.5, 2.2, 2.6, 3., 3.3, 3.6, 3.9]\n",
    "data"
   ]
  },
  {
   "cell_type": "markdown",
   "metadata": {},
   "source": [
    "### Рассчитаем B по формуле:\n",
    "$$B = \\frac{\\Phi}{SN}$$"
   ]
  },
  {
   "cell_type": "code",
   "execution_count": 5,
   "metadata": {},
   "outputs": [
    {
     "name": "stdout",
     "output_type": "stream",
     "text": [
      "SN =  72\n"
     ]
    }
   ],
   "source": [
    "print(\"SN = \", 72)"
   ]
  },
  {
   "cell_type": "code",
   "execution_count": 6,
   "metadata": {},
   "outputs": [
    {
     "data": {
      "text/html": [
       "<div>\n",
       "<style scoped>\n",
       "    .dataframe tbody tr th:only-of-type {\n",
       "        vertical-align: middle;\n",
       "    }\n",
       "\n",
       "    .dataframe tbody tr th {\n",
       "        vertical-align: top;\n",
       "    }\n",
       "\n",
       "    .dataframe thead th {\n",
       "        text-align: right;\n",
       "    }\n",
       "</style>\n",
       "<table border=\"1\" class=\"dataframe\">\n",
       "  <thead>\n",
       "    <tr style=\"text-align: right;\">\n",
       "      <th></th>\n",
       "      <th>I, A</th>\n",
       "      <th>Ф, Вб</th>\n",
       "      <th>B, Тл</th>\n",
       "    </tr>\n",
       "  </thead>\n",
       "  <tbody>\n",
       "    <tr>\n",
       "      <th>0</th>\n",
       "      <td>0.13</td>\n",
       "      <td>0.8</td>\n",
       "      <td>0.011111</td>\n",
       "    </tr>\n",
       "    <tr>\n",
       "      <th>1</th>\n",
       "      <td>0.26</td>\n",
       "      <td>1.5</td>\n",
       "      <td>0.020833</td>\n",
       "    </tr>\n",
       "    <tr>\n",
       "      <th>2</th>\n",
       "      <td>0.39</td>\n",
       "      <td>2.2</td>\n",
       "      <td>0.030556</td>\n",
       "    </tr>\n",
       "    <tr>\n",
       "      <th>3</th>\n",
       "      <td>0.52</td>\n",
       "      <td>2.6</td>\n",
       "      <td>0.036111</td>\n",
       "    </tr>\n",
       "    <tr>\n",
       "      <th>4</th>\n",
       "      <td>0.65</td>\n",
       "      <td>3.0</td>\n",
       "      <td>0.041667</td>\n",
       "    </tr>\n",
       "    <tr>\n",
       "      <th>5</th>\n",
       "      <td>0.78</td>\n",
       "      <td>3.3</td>\n",
       "      <td>0.045833</td>\n",
       "    </tr>\n",
       "    <tr>\n",
       "      <th>6</th>\n",
       "      <td>0.91</td>\n",
       "      <td>3.6</td>\n",
       "      <td>0.050000</td>\n",
       "    </tr>\n",
       "    <tr>\n",
       "      <th>7</th>\n",
       "      <td>1.16</td>\n",
       "      <td>3.9</td>\n",
       "      <td>0.054167</td>\n",
       "    </tr>\n",
       "  </tbody>\n",
       "</table>\n",
       "</div>"
      ],
      "text/plain": [
       "   I, A  Ф, Вб     B, Тл\n",
       "0  0.13    0.8  0.011111\n",
       "1  0.26    1.5  0.020833\n",
       "2  0.39    2.2  0.030556\n",
       "3  0.52    2.6  0.036111\n",
       "4  0.65    3.0  0.041667\n",
       "5  0.78    3.3  0.045833\n",
       "6  0.91    3.6  0.050000\n",
       "7  1.16    3.9  0.054167"
      ]
     },
     "execution_count": 6,
     "metadata": {},
     "output_type": "execute_result"
    }
   ],
   "source": [
    "data[\"B, Тл\"] =  (data[\"Ф, Вб\"] ) / 72.\n",
    "data"
   ]
  },
  {
   "cell_type": "code",
   "execution_count": 7,
   "metadata": {},
   "outputs": [],
   "source": [
    "# Построим калибровочную кривую\n",
    "f = interpolate.interp1d(data['I, A'], data['B, Тл'], kind='quadratic')"
   ]
  },
  {
   "cell_type": "code",
   "execution_count": 8,
   "metadata": {},
   "outputs": [
    {
     "data": {
      "image/png": "[encoded data removed]",
      "text/plain": [
       "<matplotlib.figure.Figure at 0x10fd65208>"
      ]
     },
     "metadata": {},
     "output_type": "display_data"
    }
   ],
   "source": [
    "x = np.linspace(0.13, 1.16, 700)\n",
    "plt.figure(figsize=(14,8))\n",
    "plt.plot(x, f(x), '-' )\n",
    "plt.plot(data['I, A'], data['B, Тл'], '*')\n",
    "plt.xlabel(\"I,A\")\n",
    "plt.ylabel(\"B, мТл\")\n",
    "plt.grid()"
   ]
  },
  {
   "cell_type": "markdown",
   "metadata": {},
   "source": [
    "## Часть II. Эксперимент для меди и алюминия."
   ]
  },
  {
   "cell_type": "code",
   "execution_count": 9,
   "metadata": {},
   "outputs": [
    {
     "data": {
      "text/html": [
       "<div>\n",
       "<style scoped>\n",
       "    .dataframe tbody tr th:only-of-type {\n",
       "        vertical-align: middle;\n",
       "    }\n",
       "\n",
       "    .dataframe tbody tr th {\n",
       "        vertical-align: top;\n",
       "    }\n",
       "\n",
       "    .dataframe thead th {\n",
       "        text-align: right;\n",
       "    }\n",
       "</style>\n",
       "<table border=\"1\" class=\"dataframe\">\n",
       "  <thead>\n",
       "    <tr style=\"text-align: right;\">\n",
       "      <th></th>\n",
       "      <th>I, A</th>\n",
       "      <th>Ф, Вб</th>\n",
       "      <th>B, Тл</th>\n",
       "      <th>m_Cu, mg</th>\n",
       "      <th>m_Al, mg</th>\n",
       "      <th>|dP_Cu|, N</th>\n",
       "      <th>|dP_Al|, N</th>\n",
       "      <th>B**2, Тл**2</th>\n",
       "    </tr>\n",
       "  </thead>\n",
       "  <tbody>\n",
       "    <tr>\n",
       "      <th>0</th>\n",
       "      <td>0.13</td>\n",
       "      <td>0.8</td>\n",
       "      <td>0.011111</td>\n",
       "      <td>0.0</td>\n",
       "      <td>2.0</td>\n",
       "      <td>0.000000</td>\n",
       "      <td>0.000020</td>\n",
       "      <td>0.012346</td>\n",
       "    </tr>\n",
       "    <tr>\n",
       "      <th>1</th>\n",
       "      <td>0.26</td>\n",
       "      <td>1.5</td>\n",
       "      <td>0.020833</td>\n",
       "      <td>-2.0</td>\n",
       "      <td>6.0</td>\n",
       "      <td>-0.000020</td>\n",
       "      <td>0.000059</td>\n",
       "      <td>0.043403</td>\n",
       "    </tr>\n",
       "    <tr>\n",
       "      <th>2</th>\n",
       "      <td>0.39</td>\n",
       "      <td>2.2</td>\n",
       "      <td>0.030556</td>\n",
       "      <td>-4.0</td>\n",
       "      <td>11.0</td>\n",
       "      <td>-0.000039</td>\n",
       "      <td>0.000108</td>\n",
       "      <td>0.093364</td>\n",
       "    </tr>\n",
       "    <tr>\n",
       "      <th>3</th>\n",
       "      <td>0.52</td>\n",
       "      <td>2.6</td>\n",
       "      <td>0.036111</td>\n",
       "      <td>-6.0</td>\n",
       "      <td>19.0</td>\n",
       "      <td>-0.000059</td>\n",
       "      <td>0.000186</td>\n",
       "      <td>0.130401</td>\n",
       "    </tr>\n",
       "    <tr>\n",
       "      <th>4</th>\n",
       "      <td>0.65</td>\n",
       "      <td>3.0</td>\n",
       "      <td>0.041667</td>\n",
       "      <td>-10.0</td>\n",
       "      <td>24.0</td>\n",
       "      <td>-0.000098</td>\n",
       "      <td>0.000236</td>\n",
       "      <td>0.173611</td>\n",
       "    </tr>\n",
       "    <tr>\n",
       "      <th>5</th>\n",
       "      <td>0.78</td>\n",
       "      <td>3.3</td>\n",
       "      <td>0.045833</td>\n",
       "      <td>-13.0</td>\n",
       "      <td>27.0</td>\n",
       "      <td>-0.000128</td>\n",
       "      <td>0.000265</td>\n",
       "      <td>0.210069</td>\n",
       "    </tr>\n",
       "    <tr>\n",
       "      <th>6</th>\n",
       "      <td>0.91</td>\n",
       "      <td>3.6</td>\n",
       "      <td>0.050000</td>\n",
       "      <td>-15.0</td>\n",
       "      <td>33.0</td>\n",
       "      <td>-0.000147</td>\n",
       "      <td>0.000324</td>\n",
       "      <td>0.250000</td>\n",
       "    </tr>\n",
       "    <tr>\n",
       "      <th>7</th>\n",
       "      <td>1.16</td>\n",
       "      <td>3.9</td>\n",
       "      <td>0.054167</td>\n",
       "      <td>-24.0</td>\n",
       "      <td>44.0</td>\n",
       "      <td>-0.000236</td>\n",
       "      <td>0.000432</td>\n",
       "      <td>0.293403</td>\n",
       "    </tr>\n",
       "  </tbody>\n",
       "</table>\n",
       "</div>"
      ],
      "text/plain": [
       "   I, A  Ф, Вб     B, Тл  m_Cu, mg  m_Al, mg  |dP_Cu|, N  |dP_Al|, N  \\\n",
       "0  0.13    0.8  0.011111       0.0       2.0    0.000000    0.000020   \n",
       "1  0.26    1.5  0.020833      -2.0       6.0   -0.000020    0.000059   \n",
       "2  0.39    2.2  0.030556      -4.0      11.0   -0.000039    0.000108   \n",
       "3  0.52    2.6  0.036111      -6.0      19.0   -0.000059    0.000186   \n",
       "4  0.65    3.0  0.041667     -10.0      24.0   -0.000098    0.000236   \n",
       "5  0.78    3.3  0.045833     -13.0      27.0   -0.000128    0.000265   \n",
       "6  0.91    3.6  0.050000     -15.0      33.0   -0.000147    0.000324   \n",
       "7  1.16    3.9  0.054167     -24.0      44.0   -0.000236    0.000432   \n",
       "\n",
       "   B**2, Тл**2  \n",
       "0     0.012346  \n",
       "1     0.043403  \n",
       "2     0.093364  \n",
       "3     0.130401  \n",
       "4     0.173611  \n",
       "5     0.210069  \n",
       "6     0.250000  \n",
       "7     0.293403  "
      ]
     },
     "execution_count": 9,
     "metadata": {},
     "output_type": "execute_result"
    }
   ],
   "source": [
    "g = 9.8155\n",
    "data[\"m_Cu, mg\"] = [0., -2., -4., -6., -10., -13., -15., -24.]\n",
    "data[\"m_Al, mg\"] = [2., 6, 11., 19., 24., 27., 33., 44.]\n",
    "data[\"|dP_Cu|, N\"] = data[\"m_Cu, mg\"]*0.000001*g\n",
    "data[\"|dP_Al|, N\"] = data[\"m_Al, mg\"]*0.000001*g\n",
    "data[\"B**2, Тл**2\"] = ((data[\"B, Тл\"])**2 )*100\n",
    "data"
   ]
  },
  {
   "cell_type": "code",
   "execution_count": 15,
   "metadata": {},
   "outputs": [
    {
     "data": {
      "image/png": "[encoded data removed]",
      "text/plain": [
       "<matplotlib.figure.Figure at 0x181a1736a0>"
      ]
     },
     "metadata": {},
     "output_type": "display_data"
    }
   ],
   "source": [
    "plt.figure(figsize=(14,8))\n",
    "plt.title(r'$\\Delta P = f(B^2)$')\n",
    "A = np.vstack([data[\"B**2, Тл**2\"], np.ones(len(data[\"B**2, Тл**2\"]))]).T\n",
    "b_Cu, a_Cu = np.linalg.lstsq(A, data[\"|dP_Cu|, N\"], rcond = None)[0]\n",
    "plt.plot(data[\"B**2, Тл**2\"],b_Cu*data[\"B**2, Тл**2\"] + a_Cu, 'r', label = 'Медь')\n",
    "A = np.vstack([data[\"B**2, Тл**2\"], np.ones(len(data[\"B**2, Тл**2\"]))]).T\n",
    "b_Al, a_Al = np.linalg.lstsq(A, data[\"|dP_Al|, N\"], rcond = None)[0]\n",
    "plt.plot(data[\"B**2, Тл**2\"],b_Al*data[\"B**2, Тл**2\"] + a_Al, 'r', label = 'Алюминий')\n",
    "plt.plot(data[\"B**2, Тл**2\"], data[\"|dP_Cu|, N\"], 'o', label = 'Медь' )\n",
    "plt.plot(data[\"B**2, Тл**2\"], data[\"|dP_Al|, N\"], 'o', label = 'Алюминий')\n",
    "plt.grid()\n",
    "plt.xlabel(r\"$B^2, Тл^2 $\")\n",
    "plt.ylabel(r\"$\\Delta P, Н$\")\n",
    "plt.legend();"
   ]
  },
  {
   "cell_type": "markdown",
   "metadata": {},
   "source": [
    "### Рассчитаем погрешность наклонов по МНК:\n"
   ]
  },
  {
   "cell_type": "code",
   "execution_count": 1,
   "metadata": {},
   "outputs": [
    {
     "ename": "NameError",
     "evalue": "name 'data' is not defined",
     "output_type": "error",
     "traceback": [
      "\u001b[0;31m---------------------------------------------------------------------------\u001b[0m",
      "\u001b[0;31mNameError\u001b[0m                                 Traceback (most recent call last)",
      "\u001b[0;32m<ipython-input-1-bf3c9ad9caeb>\u001b[0m in \u001b[0;36m<module>\u001b[0;34m()\u001b[0m\n\u001b[1;32m      4\u001b[0m \u001b[0msum4\u001b[0m \u001b[0;34m=\u001b[0m \u001b[0;36m0.\u001b[0m\u001b[0;34m\u001b[0m\u001b[0m\n\u001b[1;32m      5\u001b[0m \u001b[0;32mfor\u001b[0m \u001b[0mi\u001b[0m \u001b[0;32min\u001b[0m \u001b[0mrange\u001b[0m\u001b[0;34m(\u001b[0m\u001b[0;36m8\u001b[0m\u001b[0;34m)\u001b[0m\u001b[0;34m:\u001b[0m\u001b[0;34m\u001b[0m\u001b[0m\n\u001b[0;32m----> 6\u001b[0;31m     \u001b[0msum1\u001b[0m \u001b[0;34m+=\u001b[0m \u001b[0;34m(\u001b[0m\u001b[0mdata\u001b[0m\u001b[0;34m[\u001b[0m\u001b[0;34m\"|dP_Cu|, N\"\u001b[0m\u001b[0;34m]\u001b[0m\u001b[0;34m[\u001b[0m\u001b[0mi\u001b[0m\u001b[0;34m]\u001b[0m \u001b[0;34m-\u001b[0m \u001b[0mb_Cu\u001b[0m \u001b[0;34m*\u001b[0m \u001b[0mdata\u001b[0m\u001b[0;34m[\u001b[0m\u001b[0;34m\"B**2, Тл**2\"\u001b[0m\u001b[0;34m]\u001b[0m\u001b[0;34m[\u001b[0m\u001b[0mi\u001b[0m\u001b[0;34m]\u001b[0m \u001b[0;34m-\u001b[0m \u001b[0ma_Cu\u001b[0m \u001b[0;34m)\u001b[0m\u001b[0;34m**\u001b[0m\u001b[0;36m2\u001b[0m\u001b[0;34m\u001b[0m\u001b[0m\n\u001b[0m\u001b[1;32m      7\u001b[0m     \u001b[0msum2\u001b[0m \u001b[0;34m+=\u001b[0m \u001b[0;34m(\u001b[0m\u001b[0mdata\u001b[0m\u001b[0;34m[\u001b[0m\u001b[0;34m\"B**2, Тл**2\"\u001b[0m\u001b[0;34m]\u001b[0m\u001b[0;34m[\u001b[0m\u001b[0mi\u001b[0m\u001b[0;34m]\u001b[0m \u001b[0;34m-\u001b[0m \u001b[0mnp\u001b[0m\u001b[0;34m.\u001b[0m\u001b[0mmean\u001b[0m\u001b[0;34m(\u001b[0m\u001b[0mdata\u001b[0m\u001b[0;34m[\u001b[0m\u001b[0;34m\"B**2, Тл**2\"\u001b[0m\u001b[0;34m]\u001b[0m\u001b[0;34m)\u001b[0m\u001b[0;34m)\u001b[0m\u001b[0;34m**\u001b[0m\u001b[0;36m2\u001b[0m\u001b[0;34m\u001b[0m\u001b[0m\n\u001b[1;32m      8\u001b[0m     \u001b[0msum3\u001b[0m \u001b[0;34m+=\u001b[0m \u001b[0;34m(\u001b[0m\u001b[0mdata\u001b[0m\u001b[0;34m[\u001b[0m\u001b[0;34m\"|dP_Al|, N\"\u001b[0m\u001b[0;34m]\u001b[0m\u001b[0;34m[\u001b[0m\u001b[0mi\u001b[0m\u001b[0;34m]\u001b[0m \u001b[0;34m-\u001b[0m \u001b[0mb_Al\u001b[0m \u001b[0;34m*\u001b[0m \u001b[0mdata\u001b[0m\u001b[0;34m[\u001b[0m\u001b[0;34m\"B**2, Тл**2\"\u001b[0m\u001b[0;34m]\u001b[0m\u001b[0;34m[\u001b[0m\u001b[0mi\u001b[0m\u001b[0;34m]\u001b[0m \u001b[0;34m-\u001b[0m \u001b[0ma_Al\u001b[0m \u001b[0;34m)\u001b[0m\u001b[0;34m**\u001b[0m\u001b[0;36m2\u001b[0m\u001b[0;34m\u001b[0m\u001b[0m\n",
      "\u001b[0;31mNameError\u001b[0m: name 'data' is not defined"
     ]
    }
   ],
   "source": [
    "sum1 = 0.\n",
    "sum2 = 0.\n",
    "sum3 = 0.\n",
    "sum4 = 0.\n",
    "for i in range(8):\n",
    "    sum1 += (data[\"|dP_Cu|, N\"][i] - b_Cu * data[\"B**2, Тл**2\"][i] - a_Cu )**2\n",
    "    sum2 += (data[\"B**2, Тл**2\"][i] - np.mean(data[\"B**2, Тл**2\"]))**2\n",
    "    sum3 += (data[\"|dP_Al|, N\"][i] - b_Al * data[\"B**2, Тл**2\"][i] - a_Al )**2\n",
    "    sum4 += (data[\"B**2, Тл**2\"][i] - np.mean(data[\"B**2, Тл**2\"]))**2\n",
    "delta_p_cu = np.sqrt(sum1 / (7 * sum2))\n",
    "delta_p_al = np.sqrt(sum3 / (7 * sum4))\n",
    "print(\"Медь = {:.4} \\pm\".format(b_Cu),round(delta_p_cu, 4) )\n",
    "print(\"Алюминий = {:.4} \\pm\".format(b_Al),round(delta_p_al, 4) )"
   ]
  },
  {
   "cell_type": "code",
   "execution_count": 19,
   "metadata": {},
   "outputs": [],
   "source": [
    "d_Cu = 0.01\n",
    "d_Al = 0.01\n",
    "S_Cu = (np.pi * (d_Cu**2))/4\n",
    "S_Al = S_Cu\n",
    "mu_0 = 1.256 * (10**(-6)) \n"
   ]
  },
  {
   "cell_type": "markdown",
   "metadata": {},
   "source": [
    "### Определим $\\chi$ по формуле : $$\\chi = \\frac{\\Delta P}{B^2}\\cdot \\frac{2 \\mu_0}{s}$$где $M = \\chi \\cdot H$, причем $\\frac{|\\Delta P|}{B^2}$ есть наклон построенного графика "
   ]
  },
  {
   "cell_type": "code",
   "execution_count": 26,
   "metadata": {},
   "outputs": [
    {
     "name": "stdout",
     "output_type": "stream",
     "text": [
      "chi_Cu = -1.221e-05 +- 1.153e-06\n",
      "chi_Al = 2.23e-05 +- 1.062e-06\n"
     ]
    }
   ],
   "source": [
    "# Определим Хи и его погрешность\n",
    "delta_chi_cu = delta_p_cu * (mu_0/S_Cu)\n",
    "delta_chi_al = delta_p_al * (mu_0/S_Cu)\n",
    "\n",
    "chi_Cu = b_Cu *(mu_0/S_Cu)\n",
    "chi_Al = b_Al *(mu_0/S_Cu)\n",
    "print(\"chi_Cu = {:.4} +- {:.4}\".format(chi_Cu,delta_chi_cu))\n",
    "print(r\"chi_Al = {:.4} +- {:.4}\".format(chi_Al,delta_chi_al))"
   ]
  },
  {
   "cell_type": "markdown",
   "metadata": {},
   "source": [
    "## Получим значения коэффициентов $\\chi_{Al} = (2.2 \\pm 0.1)\\cdot 10^{-5}$ и $\\chi_{Cu} = (-1.2 \\pm 0.1  )\\cdot 10^{-5}$"
   ]
  },
  {
   "cell_type": "markdown",
   "metadata": {},
   "source": [
    "### Формулы для расчета погрешностей в этой работе:\n",
    "\n",
    "$$S_{\\Delta P} = \\sqrt{\\frac{1}{n-1}\\cdot(\\frac{\\Sigma(y_i-bx_i-a)^2}{\\Sigma(x_i-\\overline x)^2})}$$"
   ]
  },
  {
   "cell_type": "markdown",
   "metadata": {},
   "source": []
  },
  {
   "cell_type": "markdown",
   "metadata": {},
   "source": []
  }
 ],
 "metadata": {
  "kernelspec": {
   "display_name": "Python 3",
   "language": "python",
   "name": "python3"
  },
  "language_info": {
   "codemirror_mode": {
    "name": "ipython",
    "version": 3
   },
   "file_extension": ".py",
   "mimetype": "text/x-python",
   "name": "python",
   "nbconvert_exporter": "python",
   "pygments_lexer": "ipython3",
   "version": "3.6.4"
  }
 },
 "nbformat": 4,
 "nbformat_minor": 2
}
