{
 "cells": [
  {
   "cell_type": "markdown",
   "metadata": {},
   "source": [
    "# Лаборатрная работа №3.2.6\n",
    "## Выполнил Усеинов Булат Рустэмович\n",
    "### 778  группа"
   ]
  },
  {
   "cell_type": "code",
   "execution_count": 2,
   "metadata": {},
   "outputs": [],
   "source": [
    "import numpy as np\n",
    "import pandas as pd\n",
    "from scipy import interpolate\n",
    "from matplotlib import pyplot as plt\n",
    "import math"
   ]
  },
  {
   "cell_type": "markdown",
   "metadata": {},
   "source": [
    "### Объявим приборные погрешности величин в эксперименте."
   ]
  },
  {
   "cell_type": "code",
   "execution_count": 3,
   "metadata": {},
   "outputs": [],
   "source": [
    "delta_x = 0.001 #погрешность отклонения зайчика\n",
    "delta_u = 3. / 150 #погрешность напряжения\n",
    "delta_r = 100  #погрешность сопротивления\n"
   ]
  },
  {
   "cell_type": "markdown",
   "metadata": {},
   "source": [
    "## Часть I. Определение динамической постоянной."
   ]
  },
  {
   "cell_type": "code",
   "execution_count": 46,
   "metadata": {},
   "outputs": [],
   "source": [
    "U0 = (3. / 150) * 66\n",
    "R2 = 10000\n",
    "R0 = 580\n",
    "a2 = 2.2\n",
    "R1R2 = 1./2000\n",
    "C = 2 * (10 ** (-6))"
   ]
  },
  {
   "cell_type": "code",
   "execution_count": 5,
   "metadata": {},
   "outputs": [
    {
     "data": {
      "text/html": [
       "<div>\n",
       "<style scoped>\n",
       "    .dataframe tbody tr th:only-of-type {\n",
       "        vertical-align: middle;\n",
       "    }\n",
       "\n",
       "    .dataframe tbody tr th {\n",
       "        vertical-align: top;\n",
       "    }\n",
       "\n",
       "    .dataframe thead th {\n",
       "        text-align: right;\n",
       "    }\n",
       "</style>\n",
       "<table border=\"1\" class=\"dataframe\">\n",
       "  <thead>\n",
       "    <tr style=\"text-align: right;\">\n",
       "      <th></th>\n",
       "      <th>R, Om</th>\n",
       "      <th>x, cm</th>\n",
       "      <th>x, m</th>\n",
       "      <th>I, A</th>\n",
       "    </tr>\n",
       "  </thead>\n",
       "  <tbody>\n",
       "    <tr>\n",
       "      <th>0</th>\n",
       "      <td>4700</td>\n",
       "      <td>23.5</td>\n",
       "      <td>0.235</td>\n",
       "      <td>1.250000e-07</td>\n",
       "    </tr>\n",
       "    <tr>\n",
       "      <th>1</th>\n",
       "      <td>10000</td>\n",
       "      <td>10.5</td>\n",
       "      <td>0.105</td>\n",
       "      <td>6.238185e-08</td>\n",
       "    </tr>\n",
       "    <tr>\n",
       "      <th>2</th>\n",
       "      <td>15000</td>\n",
       "      <td>6.3</td>\n",
       "      <td>0.063</td>\n",
       "      <td>4.236200e-08</td>\n",
       "    </tr>\n",
       "    <tr>\n",
       "      <th>3</th>\n",
       "      <td>20000</td>\n",
       "      <td>4.1</td>\n",
       "      <td>0.041</td>\n",
       "      <td>3.206997e-08</td>\n",
       "    </tr>\n",
       "    <tr>\n",
       "      <th>4</th>\n",
       "      <td>25000</td>\n",
       "      <td>2.9</td>\n",
       "      <td>0.029</td>\n",
       "      <td>2.580141e-08</td>\n",
       "    </tr>\n",
       "    <tr>\n",
       "      <th>5</th>\n",
       "      <td>30000</td>\n",
       "      <td>2.0</td>\n",
       "      <td>0.020</td>\n",
       "      <td>2.158273e-08</td>\n",
       "    </tr>\n",
       "    <tr>\n",
       "      <th>6</th>\n",
       "      <td>35000</td>\n",
       "      <td>1.4</td>\n",
       "      <td>0.014</td>\n",
       "      <td>1.854975e-08</td>\n",
       "    </tr>\n",
       "    <tr>\n",
       "      <th>7</th>\n",
       "      <td>40000</td>\n",
       "      <td>0.8</td>\n",
       "      <td>0.008</td>\n",
       "      <td>1.626417e-08</td>\n",
       "    </tr>\n",
       "    <tr>\n",
       "      <th>8</th>\n",
       "      <td>45000</td>\n",
       "      <td>0.4</td>\n",
       "      <td>0.004</td>\n",
       "      <td>1.448004e-08</td>\n",
       "    </tr>\n",
       "    <tr>\n",
       "      <th>9</th>\n",
       "      <td>50000</td>\n",
       "      <td>0.1</td>\n",
       "      <td>0.001</td>\n",
       "      <td>1.304864e-08</td>\n",
       "    </tr>\n",
       "  </tbody>\n",
       "</table>\n",
       "</div>"
      ],
      "text/plain": [
       "   R, Om  x, cm   x, m          I, A\n",
       "0   4700   23.5  0.235  1.250000e-07\n",
       "1  10000   10.5  0.105  6.238185e-08\n",
       "2  15000    6.3  0.063  4.236200e-08\n",
       "3  20000    4.1  0.041  3.206997e-08\n",
       "4  25000    2.9  0.029  2.580141e-08\n",
       "5  30000    2.0  0.020  2.158273e-08\n",
       "6  35000    1.4  0.014  1.854975e-08\n",
       "7  40000    0.8  0.008  1.626417e-08\n",
       "8  45000    0.4  0.004  1.448004e-08\n",
       "9  50000    0.1  0.001  1.304864e-08"
      ]
     },
     "execution_count": 5,
     "metadata": {},
     "output_type": "execute_result"
    }
   ],
   "source": [
    "data1 = pd.DataFrame()\n",
    "data1['R, Om'] = [4700, 10000, 15000, 20000, 25000, 30000, 35000, 40000, 45000, 50000]\n",
    "data1['x, cm'] = [23.5, 10.5, 6.3, 4.1, 2.9, 2.0, 1.4, 0.8, 0.4, 0.1]\n",
    "data1['x, m'] = 0.01 * data1['x, cm']\n",
    "data1['I, A'] = U0 * R1R2 * (1 / (data1['R, Om'] + R0))\n",
    "data1"
   ]
  },
  {
   "cell_type": "code",
   "execution_count": 61,
   "metadata": {},
   "outputs": [
    {
     "data": {
      "text/plain": [
       "Text(0, 0.5, 'I,A')"
      ]
     },
     "execution_count": 61,
     "metadata": {},
     "output_type": "execute_result"
    },
    {
     "data": {
      "image/png": "[encoded data removed]",
      "text/plain": [
       "<Figure size 1008x576 with 1 Axes>"
      ]
     },
     "metadata": {},
     "output_type": "display_data"
    }
   ],
   "source": [
    "plt.figure(figsize=(14,8))\n",
    "plt.title(r' I = f(x)')\n",
    "plt.plot(data1['x, m'], data1['I, A'], 'x' )\n",
    "A = np.vstack([data1['x, m'], np.ones(len(data1['x, m']))]).T\n",
    "b, a = np.linalg.lstsq(A, data1['I, A'], rcond = None)[0]\n",
    "plt.plot(data1['x, m'], b*data1['x, m'] + a, '--')\n",
    "plt.grid()\n",
    "plt.xlabel(r'x ,m')\n",
    "plt.ylabel(r'I,A')\n"
   ]
  },
  {
   "cell_type": "markdown",
   "metadata": {},
   "source": [
    "### Из формулы $C_1 = \\frac{2aI}{x}$ найдем динамическую постоянную $C_1$, учтем, что $\\frac{I}{x}$ есть наклон нашего графика, построенного выше"
   ]
  },
  {
   "cell_type": "code",
   "execution_count": 64,
   "metadata": {},
   "outputs": [
    {
     "name": "stdout",
     "output_type": "stream",
     "text": [
      "c1 = (1.054e-06 +- 1.266e-09) А/(м/м)\n"
     ]
    }
   ],
   "source": [
    "c1 = a2 * b\n",
    "# расчет погрешностей\n",
    "sum1 = 0.\n",
    "sum2 = 0.\n",
    "\n",
    "for i in range(len(data1['I, A'])):\n",
    "    sum1 += (data1['I, A'][i] - b * data1['x, m'][i] - a )**2\n",
    "    sum2 += (data1['x, m'][i] - np.mean(data1['x, m']))**2\n",
    "   \n",
    "delta_c1 = np.sqrt(sum1 / ((len(data1['I, A'])-1) * sum2))\n",
    "\n",
    "print('c1 = ({:.4} +- {:.4}) А/(м/м)'.format(c1, delta_c1))"
   ]
  },
  {
   "cell_type": "markdown",
   "metadata": {},
   "source": [
    "## Часть II. Определение критического сопротивления."
   ]
  },
  {
   "cell_type": "markdown",
   "metadata": {},
   "source": [
    "### Определим логарифмический декремент затухания по формуле $\\Theta_0 = \\ln{\\frac{x_n}{x_{n+1}}}$"
   ]
  },
  {
   "cell_type": "code",
   "execution_count": 8,
   "metadata": {},
   "outputs": [],
   "source": [
    "data_2 = pd.DataFrame()\n",
    "data_21 = pd.DataFrame()\n",
    "data_2['x, cm'] = [23.9, 21.0, 18.9, 16.8, 15.1]\n",
    "a = np.zeros(4)\n",
    "for i in range(data_2['x, cm'].shape[0]-1):\n",
    "    a[i] = math.log(data_2['x, cm'][i]/data_2['x, cm'][i+1])\n",
    "data_21['ln'] = a"
   ]
  },
  {
   "cell_type": "code",
   "execution_count": 9,
   "metadata": {},
   "outputs": [
    {
     "name": "stdout",
     "output_type": "stream",
     "text": [
      "theta_0 = 0.1148\n"
     ]
    }
   ],
   "source": [
    "print('theta_0 = {:.4}'.format(np.mean(data_21['ln'])))"
   ]
  },
  {
   "cell_type": "code",
   "execution_count": 10,
   "metadata": {},
   "outputs": [
    {
     "data": {
      "text/html": [
       "<div>\n",
       "<style scoped>\n",
       "    .dataframe tbody tr th:only-of-type {\n",
       "        vertical-align: middle;\n",
       "    }\n",
       "\n",
       "    .dataframe tbody tr th {\n",
       "        vertical-align: top;\n",
       "    }\n",
       "\n",
       "    .dataframe thead th {\n",
       "        text-align: right;\n",
       "    }\n",
       "</style>\n",
       "<table border=\"1\" class=\"dataframe\">\n",
       "  <thead>\n",
       "    <tr style=\"text-align: right;\">\n",
       "      <th></th>\n",
       "      <th>R, Om</th>\n",
       "      <th>x1, cm</th>\n",
       "      <th>x2, cm</th>\n",
       "      <th>theta</th>\n",
       "      <th>1/theta^2</th>\n",
       "      <th>(R+R0)^2</th>\n",
       "    </tr>\n",
       "  </thead>\n",
       "  <tbody>\n",
       "    <tr>\n",
       "      <th>0</th>\n",
       "      <td>10200</td>\n",
       "      <td>2.5</td>\n",
       "      <td>0.3</td>\n",
       "      <td>2.120264</td>\n",
       "      <td>0.222444</td>\n",
       "      <td>116208400</td>\n",
       "    </tr>\n",
       "    <tr>\n",
       "      <th>1</th>\n",
       "      <td>15200</td>\n",
       "      <td>3.4</td>\n",
       "      <td>0.7</td>\n",
       "      <td>1.580450</td>\n",
       "      <td>0.400349</td>\n",
       "      <td>249008400</td>\n",
       "    </tr>\n",
       "    <tr>\n",
       "      <th>2</th>\n",
       "      <td>18000</td>\n",
       "      <td>3.7</td>\n",
       "      <td>1.0</td>\n",
       "      <td>1.308333</td>\n",
       "      <td>0.584203</td>\n",
       "      <td>345216400</td>\n",
       "    </tr>\n",
       "    <tr>\n",
       "      <th>3</th>\n",
       "      <td>20000</td>\n",
       "      <td>3.7</td>\n",
       "      <td>1.2</td>\n",
       "      <td>1.126011</td>\n",
       "      <td>0.788705</td>\n",
       "      <td>423536400</td>\n",
       "    </tr>\n",
       "    <tr>\n",
       "      <th>4</th>\n",
       "      <td>25000</td>\n",
       "      <td>3.6</td>\n",
       "      <td>1.5</td>\n",
       "      <td>0.875469</td>\n",
       "      <td>1.304724</td>\n",
       "      <td>654336400</td>\n",
       "    </tr>\n",
       "    <tr>\n",
       "      <th>5</th>\n",
       "      <td>30000</td>\n",
       "      <td>4.0</td>\n",
       "      <td>2.0</td>\n",
       "      <td>0.693147</td>\n",
       "      <td>2.081369</td>\n",
       "      <td>935136400</td>\n",
       "    </tr>\n",
       "    <tr>\n",
       "      <th>6</th>\n",
       "      <td>34000</td>\n",
       "      <td>3.5</td>\n",
       "      <td>1.7</td>\n",
       "      <td>0.722135</td>\n",
       "      <td>1.917624</td>\n",
       "      <td>1195776400</td>\n",
       "    </tr>\n",
       "  </tbody>\n",
       "</table>\n",
       "</div>"
      ],
      "text/plain": [
       "   R, Om  x1, cm  x2, cm     theta  1/theta^2    (R+R0)^2\n",
       "0  10200     2.5     0.3  2.120264   0.222444   116208400\n",
       "1  15200     3.4     0.7  1.580450   0.400349   249008400\n",
       "2  18000     3.7     1.0  1.308333   0.584203   345216400\n",
       "3  20000     3.7     1.2  1.126011   0.788705   423536400\n",
       "4  25000     3.6     1.5  0.875469   1.304724   654336400\n",
       "5  30000     4.0     2.0  0.693147   2.081369   935136400\n",
       "6  34000     3.5     1.7  0.722135   1.917624  1195776400"
      ]
     },
     "execution_count": 10,
     "metadata": {},
     "output_type": "execute_result"
    }
   ],
   "source": [
    "k = 1./1000\n",
    "data2 = pd.DataFrame()\n",
    "data2['R, Om'] = [10200, 15200, 18000, 20000, 25000, 30000, 34000]\n",
    "data2['x1, cm'] = [2.5, 3.4, 3.7, 3.7, 3.6, 4.0, 3.5]\n",
    "data2['x2, cm'] = [0.3, 0.7, 1.0, 1.2, 1.5, 2.0, 1.7]\n",
    "data2['theta'] = np.log(data2['x1, cm'] / data2['x2, cm'])\n",
    "data2['1/theta^2'] = 1 / (data2['theta']**2)\n",
    "data2['(R+R0)^2'] = (data2['R, Om'] + R0)**2\n",
    "\n",
    "data2"
   ]
  },
  {
   "cell_type": "code",
   "execution_count": 65,
   "metadata": {},
   "outputs": [
    {
     "data": {
      "text/plain": [
       "1.5649755753904335e-09"
      ]
     },
     "execution_count": 65,
     "metadata": {},
     "output_type": "execute_result"
    },
    {
     "data": {
      "image/png": "[encoded data removed]",
      "text/plain": [
       "<Figure size 1008x576 with 1 Axes>"
      ]
     },
     "metadata": {},
     "output_type": "display_data"
    }
   ],
   "source": [
    "R = np.array(data2['(R+R0)^2'][:3])\n",
    "th = np.array(data2['1/theta^2'][:3])\n",
    "plt.figure(figsize=(14, 8))\n",
    "plt.plot(data2['(R+R0)^2'], data2['1/theta^2'], 'x')\n",
    "B = np.vstack([R, np.ones(len(R))]).T\n",
    "b1, a1 = np.linalg.lstsq(B, th, rcond = None)[0]\n",
    "plt.plot(data2['(R+R0)^2'], b1*data2['(R+R0)^2'] + a1, '--')\n",
    "plt.plot(R, b1*R + a1, '-')\n",
    "plt.xlabel(r'$(R+R0)^2$')\n",
    "plt.ylabel(r'$1/\\theta^2$')\n",
    "b1"
   ]
  },
  {
   "cell_type": "markdown",
   "metadata": {},
   "source": [
    "### Рассчитаем критическое сопротивление в стационарном режиме по формуле $R_{кр} = \\frac{1}{2 \\pi} \\sqrt{\\frac{\\Delta (R_0+R)^2}{ \\Delta(1 / \\Theta^2)}}$"
   ]
  },
  {
   "cell_type": "code",
   "execution_count": 69,
   "metadata": {},
   "outputs": [
    {
     "name": "stdout",
     "output_type": "stream",
     "text": [
      "Rкр = (3443.15 +- 1.3332476391494352e-10) Om\n"
     ]
    }
   ],
   "source": [
    "#рассчитаем погрешности для сопротивления\n",
    "sum1 = 0.\n",
    "sum2 = 0.\n",
    "\n",
    "for i in range(2):\n",
    "    sum1 += (data2['1/theta^2'][i] - b1 * data2['(R+R0)^2'][i] - a1 )**2\n",
    "    sum2 += (data2['(R+R0)^2'][i] - np.mean(data2['(R+R0)^2'][:3]))**2\n",
    "   \n",
    "delta_Rcr = np.sqrt(sum1 / (2 * sum2))\n",
    "\n",
    "print('Rкр = ({:.6} +- {:6}) Om'.format(1 / (b1**0.5 * 2 * np.pi) - R0, delta_Rcr ))"
   ]
  },
  {
   "cell_type": "markdown",
   "metadata": {},
   "source": [
    "## Часть II. Балистический режим"
   ]
  },
  {
   "cell_type": "code",
   "execution_count": 13,
   "metadata": {},
   "outputs": [
    {
     "data": {
      "text/html": [
       "<div>\n",
       "<style scoped>\n",
       "    .dataframe tbody tr th:only-of-type {\n",
       "        vertical-align: middle;\n",
       "    }\n",
       "\n",
       "    .dataframe tbody tr th {\n",
       "        vertical-align: top;\n",
       "    }\n",
       "\n",
       "    .dataframe thead th {\n",
       "        text-align: right;\n",
       "    }\n",
       "</style>\n",
       "<table border=\"1\" class=\"dataframe\">\n",
       "  <thead>\n",
       "    <tr style=\"text-align: right;\">\n",
       "      <th></th>\n",
       "      <th>R, Om</th>\n",
       "      <th>x, cm</th>\n",
       "      <th>x, m</th>\n",
       "      <th>(R+R0)^-1</th>\n",
       "    </tr>\n",
       "  </thead>\n",
       "  <tbody>\n",
       "    <tr>\n",
       "      <th>0</th>\n",
       "      <td>50000</td>\n",
       "      <td>24.2</td>\n",
       "      <td>0.242</td>\n",
       "      <td>0.000020</td>\n",
       "    </tr>\n",
       "    <tr>\n",
       "      <th>1</th>\n",
       "      <td>30000</td>\n",
       "      <td>23.2</td>\n",
       "      <td>0.232</td>\n",
       "      <td>0.000033</td>\n",
       "    </tr>\n",
       "    <tr>\n",
       "      <th>2</th>\n",
       "      <td>20000</td>\n",
       "      <td>21.5</td>\n",
       "      <td>0.215</td>\n",
       "      <td>0.000049</td>\n",
       "    </tr>\n",
       "    <tr>\n",
       "      <th>3</th>\n",
       "      <td>10000</td>\n",
       "      <td>18.3</td>\n",
       "      <td>0.183</td>\n",
       "      <td>0.000095</td>\n",
       "    </tr>\n",
       "    <tr>\n",
       "      <th>4</th>\n",
       "      <td>5000</td>\n",
       "      <td>14.5</td>\n",
       "      <td>0.145</td>\n",
       "      <td>0.000179</td>\n",
       "    </tr>\n",
       "    <tr>\n",
       "      <th>5</th>\n",
       "      <td>3000</td>\n",
       "      <td>11.5</td>\n",
       "      <td>0.115</td>\n",
       "      <td>0.000279</td>\n",
       "    </tr>\n",
       "    <tr>\n",
       "      <th>6</th>\n",
       "      <td>2000</td>\n",
       "      <td>9.8</td>\n",
       "      <td>0.098</td>\n",
       "      <td>0.000388</td>\n",
       "    </tr>\n",
       "    <tr>\n",
       "      <th>7</th>\n",
       "      <td>1500</td>\n",
       "      <td>8.5</td>\n",
       "      <td>0.085</td>\n",
       "      <td>0.000481</td>\n",
       "    </tr>\n",
       "    <tr>\n",
       "      <th>8</th>\n",
       "      <td>1000</td>\n",
       "      <td>7.5</td>\n",
       "      <td>0.075</td>\n",
       "      <td>0.000633</td>\n",
       "    </tr>\n",
       "  </tbody>\n",
       "</table>\n",
       "</div>"
      ],
      "text/plain": [
       "   R, Om  x, cm   x, m  (R+R0)^-1\n",
       "0  50000   24.2  0.242   0.000020\n",
       "1  30000   23.2  0.232   0.000033\n",
       "2  20000   21.5  0.215   0.000049\n",
       "3  10000   18.3  0.183   0.000095\n",
       "4   5000   14.5  0.145   0.000179\n",
       "5   3000   11.5  0.115   0.000279\n",
       "6   2000    9.8  0.098   0.000388\n",
       "7   1500    8.5  0.085   0.000481\n",
       "8   1000    7.5  0.075   0.000633"
      ]
     },
     "execution_count": 13,
     "metadata": {},
     "output_type": "execute_result"
    }
   ],
   "source": [
    "data_3 = pd.DataFrame()\n",
    "data_3['R, Om'] = [50000, 30000, 20000, 10000, 5000, 3000, 2000, 1500, 1000]\n",
    "data_3['x, cm'] = [24.2, 23.2, 21.5, 18.3, 14.5, 11.5, 9.8, 8.5, 7.5]\n",
    "data_3['x, m'] = data_3['x, cm'] / 100\n",
    "data_3['(R+R0)^-1'] = 1. / (data_3['R, Om'] + R0)\n",
    "data_3"
   ]
  },
  {
   "cell_type": "code",
   "execution_count": 14,
   "metadata": {},
   "outputs": [
    {
     "data": {
      "image/png": "[encoded data removed]",
      "text/plain": [
       "<Figure size 1008x576 with 1 Axes>"
      ]
     },
     "metadata": {},
     "output_type": "display_data"
    }
   ],
   "source": [
    "plt.figure(figsize=(14, 8))\n",
    "plt.plot(data_3['(R+R0)^-1'], data_3['x, m'], 'x' )\n",
    "x = np.linspace( 0.000021, 0.000632, 700)\n",
    "f = interpolate.interp1d(data_3['(R+R0)^-1'], data_3['x, m'], kind='quadratic')\n",
    "plt.plot(x , f(x), '-')\n",
    "plt.grid()\n",
    "plt.xlabel(r'$(R+R0)^{-1}$')\n",
    "plt.ylabel(r'$x, m$');\n"
   ]
  },
  {
   "cell_type": "markdown",
   "metadata": {},
   "source": [
    "## Определим по графику критическое сопротивление"
   ]
  },
  {
   "cell_type": "markdown",
   "metadata": {},
   "source": [
    "$l_{max} = e \\cdot l_{кр} \\Rightarrow l_{кр} = \\frac{l_{max}}{e}$ Далее по графику определяем $R_{кр}$  по  $l_{кр}$ "
   ]
  },
  {
   "cell_type": "code",
   "execution_count": 45,
   "metadata": {},
   "outputs": [
    {
     "name": "stdout",
     "output_type": "stream",
     "text": [
      "Rкр = 3418.4\n"
     ]
    }
   ],
   "source": [
    "\n",
    "l_max = 0.332\n",
    "l_cr = 0.122\n",
    "# по графику определили\n",
    "r = 0.0002501 # (R_кр + R0)^-1\n",
    "R_cr = (1. / r) - R0\n",
    "\n",
    "print('Rкр = {:.6}'.format(R_cr))"
   ]
  },
  {
   "cell_type": "markdown",
   "metadata": {},
   "source": [
    "## Часть III. Сравним значения $R_{кр}$"
   ]
  },
  {
   "cell_type": "code",
   "execution_count": 40,
   "metadata": {},
   "outputs": [
    {
     "data": {
      "text/html": [
       "<div>\n",
       "<style scoped>\n",
       "    .dataframe tbody tr th:only-of-type {\n",
       "        vertical-align: middle;\n",
       "    }\n",
       "\n",
       "    .dataframe tbody tr th {\n",
       "        vertical-align: top;\n",
       "    }\n",
       "\n",
       "    .dataframe thead th {\n",
       "        text-align: right;\n",
       "    }\n",
       "</style>\n",
       "<table border=\"1\" class=\"dataframe\">\n",
       "  <thead>\n",
       "    <tr style=\"text-align: right;\">\n",
       "      <th></th>\n",
       "      <th>Режим</th>\n",
       "      <th>R кр</th>\n",
       "    </tr>\n",
       "  </thead>\n",
       "  <tbody>\n",
       "    <tr>\n",
       "      <th>0</th>\n",
       "      <td>Подбор</td>\n",
       "      <td>3400.00</td>\n",
       "    </tr>\n",
       "    <tr>\n",
       "      <th>1</th>\n",
       "      <td>Стационарный</td>\n",
       "      <td>3443.15</td>\n",
       "    </tr>\n",
       "    <tr>\n",
       "      <th>2</th>\n",
       "      <td>Баллистический</td>\n",
       "      <td>3418.40</td>\n",
       "    </tr>\n",
       "  </tbody>\n",
       "</table>\n",
       "</div>"
      ],
      "text/plain": [
       "            Режим     R кр\n",
       "0          Подбор  3400.00\n",
       "1    Стационарный  3443.15\n",
       "2  Баллистический  3418.40"
      ]
     },
     "execution_count": 40,
     "metadata": {},
     "output_type": "execute_result"
    }
   ],
   "source": [
    "data_sr = pd.DataFrame()\n",
    "data_sr['Режим'] = ['Подбор', 'Стационарный', 'Баллистический']\n",
    "data_sr['R кр'] = [3400, 3443.15, 3418.4 ]\n",
    "data_sr"
   ]
  },
  {
   "cell_type": "markdown",
   "metadata": {},
   "source": [
    "## Часть IV.  Расчет баллистической постоянной в критическом режиме."
   ]
  },
  {
   "cell_type": "markdown",
   "metadata": {},
   "source": [
    "### Рассчитаем баллистическую постоянную по формуле: $C_{Q_{кр}} = 2a \\frac{R_1}{R_2} \\frac{U_0 C}{l_{кр}}$"
   ]
  },
  {
   "cell_type": "code",
   "execution_count": 50,
   "metadata": {},
   "outputs": [
    {
     "name": "stdout",
     "output_type": "stream",
     "text": [
      "c2 = (1.166e-06) А/(м/м)\n"
     ]
    }
   ],
   "source": [
    "c2 = a2 * (1. / 15) * ((U0*C ) / l_max)\n",
    "print('c2 = ({:.4}) А/(м/м)'.format(c2))"
   ]
  },
  {
   "cell_type": "markdown",
   "metadata": {},
   "source": [
    "## Часть V. Сравним время релаксации и период свободных колебаний гальванометра."
   ]
  },
  {
   "cell_type": "code",
   "execution_count": 52,
   "metadata": {},
   "outputs": [
    {
     "data": {
      "text/html": [
       "<div>\n",
       "<style scoped>\n",
       "    .dataframe tbody tr th:only-of-type {\n",
       "        vertical-align: middle;\n",
       "    }\n",
       "\n",
       "    .dataframe tbody tr th {\n",
       "        vertical-align: top;\n",
       "    }\n",
       "\n",
       "    .dataframe thead th {\n",
       "        text-align: right;\n",
       "    }\n",
       "</style>\n",
       "<table border=\"1\" class=\"dataframe\">\n",
       "  <thead>\n",
       "    <tr style=\"text-align: right;\">\n",
       "      <th></th>\n",
       "      <th>Величина</th>\n",
       "      <th>Значение</th>\n",
       "    </tr>\n",
       "  </thead>\n",
       "  <tbody>\n",
       "    <tr>\n",
       "      <th>0</th>\n",
       "      <td>Время релаксации</td>\n",
       "      <td>0.00116</td>\n",
       "    </tr>\n",
       "    <tr>\n",
       "      <th>1</th>\n",
       "      <td>Период свободных колебаний</td>\n",
       "      <td>6.84200</td>\n",
       "    </tr>\n",
       "  </tbody>\n",
       "</table>\n",
       "</div>"
      ],
      "text/plain": [
       "                     Величина  Значение\n",
       "0            Время релаксации   0.00116\n",
       "1  Период свободных колебаний   6.84200"
      ]
     },
     "execution_count": 52,
     "metadata": {},
     "output_type": "execute_result"
    }
   ],
   "source": [
    "data_t = pd.DataFrame()\n",
    "data_t['Величина'] = ['Время релаксации', 'Период свободных колебаний']\n",
    "data_t['Значение'] = [R0 * C , 6.842]\n",
    "data_t"
   ]
  },
  {
   "cell_type": "markdown",
   "metadata": {},
   "source": [
    "### Время релаксации много меньше периода свободных колебаний гальванометра."
   ]
  },
  {
   "cell_type": "code",
   "execution_count": null,
   "metadata": {},
   "outputs": [],
   "source": []
  }
 ],
 "metadata": {
  "kernelspec": {
   "display_name": "Python 3",
   "language": "python",
   "name": "python3"
  },
  "language_info": {
   "codemirror_mode": {
    "name": "ipython",
    "version": 3
   },
   "file_extension": ".py",
   "mimetype": "text/x-python",
   "name": "python",
   "nbconvert_exporter": "python",
   "pygments_lexer": "ipython3",
   "version": "3.6.8"
  }
 },
 "nbformat": 4,
 "nbformat_minor": 2
}
