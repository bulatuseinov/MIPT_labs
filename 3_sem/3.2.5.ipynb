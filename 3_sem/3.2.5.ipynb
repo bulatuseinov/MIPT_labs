{
 "cells": [
  {
   "cell_type": "markdown",
   "metadata": {},
   "source": [
    "# Лабораторная работа №3.2.5\n",
    "## Выполнил Усеинов Булат Рустэмович \n",
    "### 778 группа "
   ]
  },
  {
   "cell_type": "code",
   "execution_count": 2,
   "metadata": {},
   "outputs": [],
   "source": [
    "import numpy as np\n",
    "import pandas as pd\n",
    "from scipy import interpolate\n",
    "from matplotlib import pyplot as plt"
   ]
  },
  {
   "cell_type": "markdown",
   "metadata": {},
   "source": [
    "### Объявим приборные погрешности величин в эксперименте."
   ]
  },
  {
   "cell_type": "code",
   "execution_count": 3,
   "metadata": {},
   "outputs": [],
   "source": [
    "delta_L = 0.002\n",
    "delta_C = 2 * (10** (-9))\n",
    "delta_U = 0.5\n",
    "delta_nu = 1\n",
    "delta_a0 = 0.05\n",
    "delta_a100 = 0.01"
   ]
  },
  {
   "cell_type": "markdown",
   "metadata": {},
   "source": [
    "## Часть I. Исследование резонансных кривых."
   ]
  },
  {
   "cell_type": "markdown",
   "metadata": {},
   "source": [
    "### Найдем резонансную частоту по формуле и определим погрешность\n",
    "$$\\nu_0 = \\frac{1}{2\\pi \\sqrt{LC}}$$"
   ]
  },
  {
   "cell_type": "code",
   "execution_count": 4,
   "metadata": {},
   "outputs": [
    {
     "name": "stdout",
     "output_type": "stream",
     "text": [
      "deltaNu = 31.830988618379067\n"
     ]
    }
   ],
   "source": [
    "L = 0.1\n",
    "C = 1* 10 ** -7\n",
    "eps_L = delta_L / L\n",
    "eps_C = delta_C / C\n",
    "eps_LC = eps_L + eps_C\n",
    "delta_LC = eps_LC * L*C\n",
    "delta_nu0 = (((L*C)**(-1.5))*delta_LC)/(4 * np.pi)\n",
    "print(\"deltaNu =\",delta_nu0)"
   ]
  },
  {
   "cell_type": "code",
   "execution_count": 5,
   "metadata": {
    "scrolled": true
   },
   "outputs": [
    {
     "name": "stdout",
     "output_type": "stream",
     "text": [
      "Nu = 1591.5507752443825\n"
     ]
    }
   ],
   "source": [
    "NU = 1.0 / (2 * 3.14159 * ((L*C)**0.5))\n",
    "print (\"Nu =\", NU)"
   ]
  },
  {
   "cell_type": "markdown",
   "metadata": {},
   "source": [
    "### Теоритический резонанс $\\nu = 1591\\pm 32 Гц$ не совпадает с экспериментальным $\\nu_0 = 1567 Гц$, определленным по максимальной амплитуде колебаний на экране осциллографа"
   ]
  },
  {
   "cell_type": "markdown",
   "metadata": {},
   "source": [
    "### Проведем эксперимент для $R = 0 \\Omega$"
   ]
  },
  {
   "cell_type": "code",
   "execution_count": 6,
   "metadata": {},
   "outputs": [],
   "source": [
    "data0 = pd.DataFrame()\n",
    "data0[\"U, points\"] = [10, 12, 14, 16, 18, 20, 22, 23, 24, 25, 26, 28, 30, 32, 34, 36, 32, 30, 28, 26, 25, 24, 23, 22, 20, 18, 16, 14, 12]\n",
    "data0[\"U, V\"] = data0[\"U, points\"] * (3.0 / 63)\n",
    "data0[\"Nu, Hz\"] = [1505, 1515, 1518, 1530, 1536, 1540, 1543, 1545, 1546, 1548, 1550, 1552, 1555, 1558, 1560, 1568, 1577, 1580, 1583, 1586, 1588, 1590, 1591, 1594, 1597, 1602, 1609, 1615, 1624]\n",
    "data0[\"U/U0\"] = data0[\"U, points\"] / 36.0\n",
    "data0[\"Nu/Nu0\"] = data0[\"Nu, Hz\"] / 1568.0\n",
    "data0[\"delta_NuNu0\"] = data0[\"Nu/Nu0\"] * ((1.0/data0[\"Nu, Hz\"])+(1.0/1568))\n",
    "data100 = pd.DataFrame()\n",
    "data100[\"U, points\"] = [6, 8, 10, 12, 14, 15, 16, 17, 18, 20, 22, 22.5, 22, 20, 18, 17, 16, 15, 14, 12, 10, 8, 6]\n",
    "data100[\"U, V\"] = data100[\"U, points\"] * (1.0 / 63)\n",
    "data100[\"Nu, Hz\"] = [1308, 1364, 1407, 1438, 1464, 1475, 1486, 1495, 1505, 1525, 1557, 1566, 1592, 1624, 1652, 1667, 1680, 1697, 1715, 1757, 1820, 1918, 2109]\n",
    "data100[\"U/U0\"] = data100[\"U, points\"] / 22.5\n",
    "data100[\"Nu/Nu0\"] = data100[\"Nu, Hz\"] / 1568.0\n",
    "data100[\"delta_NuNu0\"] = data100[\"Nu/Nu0\"] * ((1.0/data100[\"Nu, Hz\"])+(1.0/1568))"
   ]
  },
  {
   "cell_type": "code",
   "execution_count": 7,
   "metadata": {},
   "outputs": [
    {
     "data": {
      "text/html": [
       "<div>\n",
       "<style scoped>\n",
       "    .dataframe tbody tr th:only-of-type {\n",
       "        vertical-align: middle;\n",
       "    }\n",
       "\n",
       "    .dataframe tbody tr th {\n",
       "        vertical-align: top;\n",
       "    }\n",
       "\n",
       "    .dataframe thead th {\n",
       "        text-align: right;\n",
       "    }\n",
       "</style>\n",
       "<table border=\"1\" class=\"dataframe\">\n",
       "  <thead>\n",
       "    <tr style=\"text-align: right;\">\n",
       "      <th></th>\n",
       "      <th>U, points</th>\n",
       "      <th>U, V</th>\n",
       "      <th>Nu, Hz</th>\n",
       "      <th>U/U0</th>\n",
       "      <th>Nu/Nu0</th>\n",
       "      <th>delta_NuNu0</th>\n",
       "    </tr>\n",
       "  </thead>\n",
       "  <tbody>\n",
       "    <tr>\n",
       "      <th>0</th>\n",
       "      <td>10</td>\n",
       "      <td>0.476190</td>\n",
       "      <td>1505</td>\n",
       "      <td>0.277778</td>\n",
       "      <td>0.959821</td>\n",
       "      <td>0.001250</td>\n",
       "    </tr>\n",
       "    <tr>\n",
       "      <th>1</th>\n",
       "      <td>12</td>\n",
       "      <td>0.571429</td>\n",
       "      <td>1515</td>\n",
       "      <td>0.333333</td>\n",
       "      <td>0.966199</td>\n",
       "      <td>0.001254</td>\n",
       "    </tr>\n",
       "    <tr>\n",
       "      <th>2</th>\n",
       "      <td>14</td>\n",
       "      <td>0.666667</td>\n",
       "      <td>1518</td>\n",
       "      <td>0.388889</td>\n",
       "      <td>0.968112</td>\n",
       "      <td>0.001255</td>\n",
       "    </tr>\n",
       "    <tr>\n",
       "      <th>3</th>\n",
       "      <td>16</td>\n",
       "      <td>0.761905</td>\n",
       "      <td>1530</td>\n",
       "      <td>0.444444</td>\n",
       "      <td>0.975765</td>\n",
       "      <td>0.001260</td>\n",
       "    </tr>\n",
       "    <tr>\n",
       "      <th>4</th>\n",
       "      <td>18</td>\n",
       "      <td>0.857143</td>\n",
       "      <td>1536</td>\n",
       "      <td>0.500000</td>\n",
       "      <td>0.979592</td>\n",
       "      <td>0.001262</td>\n",
       "    </tr>\n",
       "    <tr>\n",
       "      <th>5</th>\n",
       "      <td>20</td>\n",
       "      <td>0.952381</td>\n",
       "      <td>1540</td>\n",
       "      <td>0.555556</td>\n",
       "      <td>0.982143</td>\n",
       "      <td>0.001264</td>\n",
       "    </tr>\n",
       "    <tr>\n",
       "      <th>6</th>\n",
       "      <td>22</td>\n",
       "      <td>1.047619</td>\n",
       "      <td>1543</td>\n",
       "      <td>0.611111</td>\n",
       "      <td>0.984056</td>\n",
       "      <td>0.001265</td>\n",
       "    </tr>\n",
       "    <tr>\n",
       "      <th>7</th>\n",
       "      <td>23</td>\n",
       "      <td>1.095238</td>\n",
       "      <td>1545</td>\n",
       "      <td>0.638889</td>\n",
       "      <td>0.985332</td>\n",
       "      <td>0.001266</td>\n",
       "    </tr>\n",
       "    <tr>\n",
       "      <th>8</th>\n",
       "      <td>24</td>\n",
       "      <td>1.142857</td>\n",
       "      <td>1546</td>\n",
       "      <td>0.666667</td>\n",
       "      <td>0.985969</td>\n",
       "      <td>0.001267</td>\n",
       "    </tr>\n",
       "    <tr>\n",
       "      <th>9</th>\n",
       "      <td>25</td>\n",
       "      <td>1.190476</td>\n",
       "      <td>1548</td>\n",
       "      <td>0.694444</td>\n",
       "      <td>0.987245</td>\n",
       "      <td>0.001267</td>\n",
       "    </tr>\n",
       "    <tr>\n",
       "      <th>10</th>\n",
       "      <td>26</td>\n",
       "      <td>1.238095</td>\n",
       "      <td>1550</td>\n",
       "      <td>0.722222</td>\n",
       "      <td>0.988520</td>\n",
       "      <td>0.001268</td>\n",
       "    </tr>\n",
       "    <tr>\n",
       "      <th>11</th>\n",
       "      <td>28</td>\n",
       "      <td>1.333333</td>\n",
       "      <td>1552</td>\n",
       "      <td>0.777778</td>\n",
       "      <td>0.989796</td>\n",
       "      <td>0.001269</td>\n",
       "    </tr>\n",
       "    <tr>\n",
       "      <th>12</th>\n",
       "      <td>30</td>\n",
       "      <td>1.428571</td>\n",
       "      <td>1555</td>\n",
       "      <td>0.833333</td>\n",
       "      <td>0.991709</td>\n",
       "      <td>0.001270</td>\n",
       "    </tr>\n",
       "    <tr>\n",
       "      <th>13</th>\n",
       "      <td>32</td>\n",
       "      <td>1.523810</td>\n",
       "      <td>1558</td>\n",
       "      <td>0.888889</td>\n",
       "      <td>0.993622</td>\n",
       "      <td>0.001271</td>\n",
       "    </tr>\n",
       "    <tr>\n",
       "      <th>14</th>\n",
       "      <td>34</td>\n",
       "      <td>1.619048</td>\n",
       "      <td>1560</td>\n",
       "      <td>0.944444</td>\n",
       "      <td>0.994898</td>\n",
       "      <td>0.001272</td>\n",
       "    </tr>\n",
       "    <tr>\n",
       "      <th>15</th>\n",
       "      <td>36</td>\n",
       "      <td>1.714286</td>\n",
       "      <td>1568</td>\n",
       "      <td>1.000000</td>\n",
       "      <td>1.000000</td>\n",
       "      <td>0.001276</td>\n",
       "    </tr>\n",
       "    <tr>\n",
       "      <th>16</th>\n",
       "      <td>32</td>\n",
       "      <td>1.523810</td>\n",
       "      <td>1577</td>\n",
       "      <td>0.888889</td>\n",
       "      <td>1.005740</td>\n",
       "      <td>0.001279</td>\n",
       "    </tr>\n",
       "    <tr>\n",
       "      <th>17</th>\n",
       "      <td>30</td>\n",
       "      <td>1.428571</td>\n",
       "      <td>1580</td>\n",
       "      <td>0.833333</td>\n",
       "      <td>1.007653</td>\n",
       "      <td>0.001280</td>\n",
       "    </tr>\n",
       "    <tr>\n",
       "      <th>18</th>\n",
       "      <td>28</td>\n",
       "      <td>1.333333</td>\n",
       "      <td>1583</td>\n",
       "      <td>0.777778</td>\n",
       "      <td>1.009566</td>\n",
       "      <td>0.001282</td>\n",
       "    </tr>\n",
       "    <tr>\n",
       "      <th>19</th>\n",
       "      <td>26</td>\n",
       "      <td>1.238095</td>\n",
       "      <td>1586</td>\n",
       "      <td>0.722222</td>\n",
       "      <td>1.011480</td>\n",
       "      <td>0.001283</td>\n",
       "    </tr>\n",
       "    <tr>\n",
       "      <th>20</th>\n",
       "      <td>25</td>\n",
       "      <td>1.190476</td>\n",
       "      <td>1588</td>\n",
       "      <td>0.694444</td>\n",
       "      <td>1.012755</td>\n",
       "      <td>0.001284</td>\n",
       "    </tr>\n",
       "    <tr>\n",
       "      <th>21</th>\n",
       "      <td>24</td>\n",
       "      <td>1.142857</td>\n",
       "      <td>1590</td>\n",
       "      <td>0.666667</td>\n",
       "      <td>1.014031</td>\n",
       "      <td>0.001284</td>\n",
       "    </tr>\n",
       "    <tr>\n",
       "      <th>22</th>\n",
       "      <td>23</td>\n",
       "      <td>1.095238</td>\n",
       "      <td>1591</td>\n",
       "      <td>0.638889</td>\n",
       "      <td>1.014668</td>\n",
       "      <td>0.001285</td>\n",
       "    </tr>\n",
       "    <tr>\n",
       "      <th>23</th>\n",
       "      <td>22</td>\n",
       "      <td>1.047619</td>\n",
       "      <td>1594</td>\n",
       "      <td>0.611111</td>\n",
       "      <td>1.016582</td>\n",
       "      <td>0.001286</td>\n",
       "    </tr>\n",
       "    <tr>\n",
       "      <th>24</th>\n",
       "      <td>20</td>\n",
       "      <td>0.952381</td>\n",
       "      <td>1597</td>\n",
       "      <td>0.555556</td>\n",
       "      <td>1.018495</td>\n",
       "      <td>0.001287</td>\n",
       "    </tr>\n",
       "    <tr>\n",
       "      <th>25</th>\n",
       "      <td>18</td>\n",
       "      <td>0.857143</td>\n",
       "      <td>1602</td>\n",
       "      <td>0.500000</td>\n",
       "      <td>1.021684</td>\n",
       "      <td>0.001289</td>\n",
       "    </tr>\n",
       "    <tr>\n",
       "      <th>26</th>\n",
       "      <td>16</td>\n",
       "      <td>0.761905</td>\n",
       "      <td>1609</td>\n",
       "      <td>0.444444</td>\n",
       "      <td>1.026148</td>\n",
       "      <td>0.001292</td>\n",
       "    </tr>\n",
       "    <tr>\n",
       "      <th>27</th>\n",
       "      <td>14</td>\n",
       "      <td>0.666667</td>\n",
       "      <td>1615</td>\n",
       "      <td>0.388889</td>\n",
       "      <td>1.029974</td>\n",
       "      <td>0.001295</td>\n",
       "    </tr>\n",
       "    <tr>\n",
       "      <th>28</th>\n",
       "      <td>12</td>\n",
       "      <td>0.571429</td>\n",
       "      <td>1624</td>\n",
       "      <td>0.333333</td>\n",
       "      <td>1.035714</td>\n",
       "      <td>0.001298</td>\n",
       "    </tr>\n",
       "  </tbody>\n",
       "</table>\n",
       "</div>"
      ],
      "text/plain": [
       "    U, points      U, V  Nu, Hz      U/U0    Nu/Nu0  delta_NuNu0\n",
       "0          10  0.476190    1505  0.277778  0.959821     0.001250\n",
       "1          12  0.571429    1515  0.333333  0.966199     0.001254\n",
       "2          14  0.666667    1518  0.388889  0.968112     0.001255\n",
       "3          16  0.761905    1530  0.444444  0.975765     0.001260\n",
       "4          18  0.857143    1536  0.500000  0.979592     0.001262\n",
       "5          20  0.952381    1540  0.555556  0.982143     0.001264\n",
       "6          22  1.047619    1543  0.611111  0.984056     0.001265\n",
       "7          23  1.095238    1545  0.638889  0.985332     0.001266\n",
       "8          24  1.142857    1546  0.666667  0.985969     0.001267\n",
       "9          25  1.190476    1548  0.694444  0.987245     0.001267\n",
       "10         26  1.238095    1550  0.722222  0.988520     0.001268\n",
       "11         28  1.333333    1552  0.777778  0.989796     0.001269\n",
       "12         30  1.428571    1555  0.833333  0.991709     0.001270\n",
       "13         32  1.523810    1558  0.888889  0.993622     0.001271\n",
       "14         34  1.619048    1560  0.944444  0.994898     0.001272\n",
       "15         36  1.714286    1568  1.000000  1.000000     0.001276\n",
       "16         32  1.523810    1577  0.888889  1.005740     0.001279\n",
       "17         30  1.428571    1580  0.833333  1.007653     0.001280\n",
       "18         28  1.333333    1583  0.777778  1.009566     0.001282\n",
       "19         26  1.238095    1586  0.722222  1.011480     0.001283\n",
       "20         25  1.190476    1588  0.694444  1.012755     0.001284\n",
       "21         24  1.142857    1590  0.666667  1.014031     0.001284\n",
       "22         23  1.095238    1591  0.638889  1.014668     0.001285\n",
       "23         22  1.047619    1594  0.611111  1.016582     0.001286\n",
       "24         20  0.952381    1597  0.555556  1.018495     0.001287\n",
       "25         18  0.857143    1602  0.500000  1.021684     0.001289\n",
       "26         16  0.761905    1609  0.444444  1.026148     0.001292\n",
       "27         14  0.666667    1615  0.388889  1.029974     0.001295\n",
       "28         12  0.571429    1624  0.333333  1.035714     0.001298"
      ]
     },
     "execution_count": 7,
     "metadata": {},
     "output_type": "execute_result"
    }
   ],
   "source": [
    "data0"
   ]
  },
  {
   "cell_type": "markdown",
   "metadata": {},
   "source": [
    "### Проведем эксперимент для $R = 100 \\Omega$"
   ]
  },
  {
   "cell_type": "code",
   "execution_count": 8,
   "metadata": {},
   "outputs": [
    {
     "data": {
      "text/html": [
       "<div>\n",
       "<style scoped>\n",
       "    .dataframe tbody tr th:only-of-type {\n",
       "        vertical-align: middle;\n",
       "    }\n",
       "\n",
       "    .dataframe tbody tr th {\n",
       "        vertical-align: top;\n",
       "    }\n",
       "\n",
       "    .dataframe thead th {\n",
       "        text-align: right;\n",
       "    }\n",
       "</style>\n",
       "<table border=\"1\" class=\"dataframe\">\n",
       "  <thead>\n",
       "    <tr style=\"text-align: right;\">\n",
       "      <th></th>\n",
       "      <th>U, points</th>\n",
       "      <th>U, V</th>\n",
       "      <th>Nu, Hz</th>\n",
       "      <th>U/U0</th>\n",
       "      <th>Nu/Nu0</th>\n",
       "      <th>delta_NuNu0</th>\n",
       "    </tr>\n",
       "  </thead>\n",
       "  <tbody>\n",
       "    <tr>\n",
       "      <th>0</th>\n",
       "      <td>6.0</td>\n",
       "      <td>0.095238</td>\n",
       "      <td>1308</td>\n",
       "      <td>0.266667</td>\n",
       "      <td>0.834184</td>\n",
       "      <td>0.001170</td>\n",
       "    </tr>\n",
       "    <tr>\n",
       "      <th>1</th>\n",
       "      <td>8.0</td>\n",
       "      <td>0.126984</td>\n",
       "      <td>1364</td>\n",
       "      <td>0.355556</td>\n",
       "      <td>0.869898</td>\n",
       "      <td>0.001193</td>\n",
       "    </tr>\n",
       "    <tr>\n",
       "      <th>2</th>\n",
       "      <td>10.0</td>\n",
       "      <td>0.158730</td>\n",
       "      <td>1407</td>\n",
       "      <td>0.444444</td>\n",
       "      <td>0.897321</td>\n",
       "      <td>0.001210</td>\n",
       "    </tr>\n",
       "    <tr>\n",
       "      <th>3</th>\n",
       "      <td>12.0</td>\n",
       "      <td>0.190476</td>\n",
       "      <td>1438</td>\n",
       "      <td>0.533333</td>\n",
       "      <td>0.917092</td>\n",
       "      <td>0.001223</td>\n",
       "    </tr>\n",
       "    <tr>\n",
       "      <th>4</th>\n",
       "      <td>14.0</td>\n",
       "      <td>0.222222</td>\n",
       "      <td>1464</td>\n",
       "      <td>0.622222</td>\n",
       "      <td>0.933673</td>\n",
       "      <td>0.001233</td>\n",
       "    </tr>\n",
       "    <tr>\n",
       "      <th>5</th>\n",
       "      <td>15.0</td>\n",
       "      <td>0.238095</td>\n",
       "      <td>1475</td>\n",
       "      <td>0.666667</td>\n",
       "      <td>0.940689</td>\n",
       "      <td>0.001238</td>\n",
       "    </tr>\n",
       "    <tr>\n",
       "      <th>6</th>\n",
       "      <td>16.0</td>\n",
       "      <td>0.253968</td>\n",
       "      <td>1486</td>\n",
       "      <td>0.711111</td>\n",
       "      <td>0.947704</td>\n",
       "      <td>0.001242</td>\n",
       "    </tr>\n",
       "    <tr>\n",
       "      <th>7</th>\n",
       "      <td>17.0</td>\n",
       "      <td>0.269841</td>\n",
       "      <td>1495</td>\n",
       "      <td>0.755556</td>\n",
       "      <td>0.953444</td>\n",
       "      <td>0.001246</td>\n",
       "    </tr>\n",
       "    <tr>\n",
       "      <th>8</th>\n",
       "      <td>18.0</td>\n",
       "      <td>0.285714</td>\n",
       "      <td>1505</td>\n",
       "      <td>0.800000</td>\n",
       "      <td>0.959821</td>\n",
       "      <td>0.001250</td>\n",
       "    </tr>\n",
       "    <tr>\n",
       "      <th>9</th>\n",
       "      <td>20.0</td>\n",
       "      <td>0.317460</td>\n",
       "      <td>1525</td>\n",
       "      <td>0.888889</td>\n",
       "      <td>0.972577</td>\n",
       "      <td>0.001258</td>\n",
       "    </tr>\n",
       "    <tr>\n",
       "      <th>10</th>\n",
       "      <td>22.0</td>\n",
       "      <td>0.349206</td>\n",
       "      <td>1557</td>\n",
       "      <td>0.977778</td>\n",
       "      <td>0.992985</td>\n",
       "      <td>0.001271</td>\n",
       "    </tr>\n",
       "    <tr>\n",
       "      <th>11</th>\n",
       "      <td>22.5</td>\n",
       "      <td>0.357143</td>\n",
       "      <td>1566</td>\n",
       "      <td>1.000000</td>\n",
       "      <td>0.998724</td>\n",
       "      <td>0.001275</td>\n",
       "    </tr>\n",
       "    <tr>\n",
       "      <th>12</th>\n",
       "      <td>22.0</td>\n",
       "      <td>0.349206</td>\n",
       "      <td>1592</td>\n",
       "      <td>0.977778</td>\n",
       "      <td>1.015306</td>\n",
       "      <td>0.001285</td>\n",
       "    </tr>\n",
       "    <tr>\n",
       "      <th>13</th>\n",
       "      <td>20.0</td>\n",
       "      <td>0.317460</td>\n",
       "      <td>1624</td>\n",
       "      <td>0.888889</td>\n",
       "      <td>1.035714</td>\n",
       "      <td>0.001298</td>\n",
       "    </tr>\n",
       "    <tr>\n",
       "      <th>14</th>\n",
       "      <td>18.0</td>\n",
       "      <td>0.285714</td>\n",
       "      <td>1652</td>\n",
       "      <td>0.800000</td>\n",
       "      <td>1.053571</td>\n",
       "      <td>0.001310</td>\n",
       "    </tr>\n",
       "    <tr>\n",
       "      <th>15</th>\n",
       "      <td>17.0</td>\n",
       "      <td>0.269841</td>\n",
       "      <td>1667</td>\n",
       "      <td>0.755556</td>\n",
       "      <td>1.063138</td>\n",
       "      <td>0.001316</td>\n",
       "    </tr>\n",
       "    <tr>\n",
       "      <th>16</th>\n",
       "      <td>16.0</td>\n",
       "      <td>0.253968</td>\n",
       "      <td>1680</td>\n",
       "      <td>0.711111</td>\n",
       "      <td>1.071429</td>\n",
       "      <td>0.001321</td>\n",
       "    </tr>\n",
       "    <tr>\n",
       "      <th>17</th>\n",
       "      <td>15.0</td>\n",
       "      <td>0.238095</td>\n",
       "      <td>1697</td>\n",
       "      <td>0.666667</td>\n",
       "      <td>1.082270</td>\n",
       "      <td>0.001328</td>\n",
       "    </tr>\n",
       "    <tr>\n",
       "      <th>18</th>\n",
       "      <td>14.0</td>\n",
       "      <td>0.222222</td>\n",
       "      <td>1715</td>\n",
       "      <td>0.622222</td>\n",
       "      <td>1.093750</td>\n",
       "      <td>0.001335</td>\n",
       "    </tr>\n",
       "    <tr>\n",
       "      <th>19</th>\n",
       "      <td>12.0</td>\n",
       "      <td>0.190476</td>\n",
       "      <td>1757</td>\n",
       "      <td>0.533333</td>\n",
       "      <td>1.120536</td>\n",
       "      <td>0.001352</td>\n",
       "    </tr>\n",
       "    <tr>\n",
       "      <th>20</th>\n",
       "      <td>10.0</td>\n",
       "      <td>0.158730</td>\n",
       "      <td>1820</td>\n",
       "      <td>0.444444</td>\n",
       "      <td>1.160714</td>\n",
       "      <td>0.001378</td>\n",
       "    </tr>\n",
       "    <tr>\n",
       "      <th>21</th>\n",
       "      <td>8.0</td>\n",
       "      <td>0.126984</td>\n",
       "      <td>1918</td>\n",
       "      <td>0.355556</td>\n",
       "      <td>1.223214</td>\n",
       "      <td>0.001418</td>\n",
       "    </tr>\n",
       "    <tr>\n",
       "      <th>22</th>\n",
       "      <td>6.0</td>\n",
       "      <td>0.095238</td>\n",
       "      <td>2109</td>\n",
       "      <td>0.266667</td>\n",
       "      <td>1.345026</td>\n",
       "      <td>0.001496</td>\n",
       "    </tr>\n",
       "  </tbody>\n",
       "</table>\n",
       "</div>"
      ],
      "text/plain": [
       "    U, points      U, V  Nu, Hz      U/U0    Nu/Nu0  delta_NuNu0\n",
       "0         6.0  0.095238    1308  0.266667  0.834184     0.001170\n",
       "1         8.0  0.126984    1364  0.355556  0.869898     0.001193\n",
       "2        10.0  0.158730    1407  0.444444  0.897321     0.001210\n",
       "3        12.0  0.190476    1438  0.533333  0.917092     0.001223\n",
       "4        14.0  0.222222    1464  0.622222  0.933673     0.001233\n",
       "5        15.0  0.238095    1475  0.666667  0.940689     0.001238\n",
       "6        16.0  0.253968    1486  0.711111  0.947704     0.001242\n",
       "7        17.0  0.269841    1495  0.755556  0.953444     0.001246\n",
       "8        18.0  0.285714    1505  0.800000  0.959821     0.001250\n",
       "9        20.0  0.317460    1525  0.888889  0.972577     0.001258\n",
       "10       22.0  0.349206    1557  0.977778  0.992985     0.001271\n",
       "11       22.5  0.357143    1566  1.000000  0.998724     0.001275\n",
       "12       22.0  0.349206    1592  0.977778  1.015306     0.001285\n",
       "13       20.0  0.317460    1624  0.888889  1.035714     0.001298\n",
       "14       18.0  0.285714    1652  0.800000  1.053571     0.001310\n",
       "15       17.0  0.269841    1667  0.755556  1.063138     0.001316\n",
       "16       16.0  0.253968    1680  0.711111  1.071429     0.001321\n",
       "17       15.0  0.238095    1697  0.666667  1.082270     0.001328\n",
       "18       14.0  0.222222    1715  0.622222  1.093750     0.001335\n",
       "19       12.0  0.190476    1757  0.533333  1.120536     0.001352\n",
       "20       10.0  0.158730    1820  0.444444  1.160714     0.001378\n",
       "21        8.0  0.126984    1918  0.355556  1.223214     0.001418\n",
       "22        6.0  0.095238    2109  0.266667  1.345026     0.001496"
      ]
     },
     "execution_count": 8,
     "metadata": {},
     "output_type": "execute_result"
    }
   ],
   "source": [
    "data100"
   ]
  },
  {
   "cell_type": "markdown",
   "metadata": {},
   "source": [
    "### В одних осях построим оба графика $U/U_0 (\\nu / \\nu_0)$  для $R =0 \\Omega$ и $R = 100 \\Omega$"
   ]
  },
  {
   "cell_type": "code",
   "execution_count": 9,
   "metadata": {},
   "outputs": [
    {
     "data": {
      "text/plain": [
       "<matplotlib.legend.Legend at 0x1114ad470>"
      ]
     },
     "execution_count": 9,
     "metadata": {},
     "output_type": "execute_result"
    },
    {
     "data": {
      "image/png": "[encoded data removed]",
      "text/plain": [
       "<matplotlib.figure.Figure at 0x111432278>"
      ]
     },
     "metadata": {},
     "output_type": "display_data"
    }
   ],
   "source": [
    "\n",
    "x0 = np.linspace(0.96, 1.035, 700)\n",
    "x100 = np.linspace(0.84, 1.34, 700)\n",
    "f0 = interpolate.interp1d(data0[\"Nu/Nu0\"], data0[\"U/U0\"], kind='cubic')\n",
    "f100 = interpolate.interp1d(data100[\"Nu/Nu0\"], data100[\"U/U0\"], kind='cubic')\n",
    "plt.figure(figsize=(14,8))\n",
    "plt.plot(x0, f0(x0), '-', label = \"R=0Om\")\n",
    "plt.plot(x100, f100(x100), '-', label = \"R=100Om\" )\n",
    "plt.plot(data0[\"Nu/Nu0\"], data0[\"U/U0\"], 'v')\n",
    "plt.plot(data100[\"Nu/Nu0\"], data100[\"U/U0\"], '^')\n",
    "plt.plot([0.8, 1.3], [1./(2** 0.5), 1./(2** 0.5)])\n",
    "plt.xlabel(\"Nu/Nu0\")\n",
    "plt.ylabel(\"U/U0\")\n",
    "plt.grid()\n",
    "plt.legend()"
   ]
  },
  {
   "cell_type": "markdown",
   "metadata": {},
   "source": [
    "#### Найдем точки на графиках лежащие на высоте $\\dfrac{1}{\\sqrt{2}}$ и посчитаем \"ширину\" графика на этой высоте для $R = 0\\Omega$."
   ]
  },
  {
   "cell_type": "code",
   "execution_count": 10,
   "metadata": {},
   "outputs": [
    {
     "name": "stdout",
     "output_type": "stream",
     "text": [
      "0.9880042918454935\n",
      "1.012145922746781\n"
     ]
    }
   ],
   "source": [
    "for i in x0:\n",
    "    if (f0(i) < (1./(2** 0.5) + 0.001)) and (f0(i) > (1./(2** 0.5) - 0.001)):\n",
    "        print(i)"
   ]
  },
  {
   "cell_type": "code",
   "execution_count": 11,
   "metadata": {},
   "outputs": [
    {
     "data": {
      "text/plain": [
       "0.024141630901287514"
      ]
     },
     "execution_count": 11,
     "metadata": {},
     "output_type": "execute_result"
    }
   ],
   "source": [
    "deltaomega2 = 1.012145922746781 - 0.9880042918454935\n",
    "deltaomega2"
   ]
  },
  {
   "cell_type": "code",
   "execution_count": 12,
   "metadata": {},
   "outputs": [
    {
     "data": {
      "text/plain": [
       "0.08284444444444458"
      ]
     },
     "execution_count": 12,
     "metadata": {},
     "output_type": "execute_result"
    }
   ],
   "source": [
    "delta_omega2 = 2*0.001\n",
    "eps_omega2 = delta_omega2/deltaomega2\n",
    "eps_omega2"
   ]
  },
  {
   "cell_type": "markdown",
   "metadata": {},
   "source": [
    "#### Рассчитаем добротность контура с сопротивлением $R = 0\\Omega$ по формуле:\n",
    "\n",
    "$$Q = \\dfrac{1}{2\\Delta\\Omega}$$\n",
    "\n",
    "$2\\Delta\\Omega = 0.024$"
   ]
  },
  {
   "cell_type": "code",
   "execution_count": 13,
   "metadata": {
    "scrolled": true
   },
   "outputs": [
    {
     "name": "stdout",
     "output_type": "stream",
     "text": [
      "Q0 = 41.42222222222229 +/- 3.431600987654332\n"
     ]
    }
   ],
   "source": [
    "Q_0 = 1 / ( deltaomega2)\n",
    "delta_Q_0 = Q_0 * eps_omega2\n",
    "print(\"Q0 =\",Q_0,\"+/-\",delta_Q_0)"
   ]
  },
  {
   "cell_type": "markdown",
   "metadata": {},
   "source": [
    "### Получаем добротность при $Q_{0\\Omega} = 41.42 \\pm 3.43 $"
   ]
  },
  {
   "cell_type": "markdown",
   "metadata": {},
   "source": [
    "### Найдем точки на графиках лежащие на высоте $\\dfrac{1}{\\sqrt{2}}$ и посчитаем \"ширину\" графика на этой высоте для $R = 100\\Omega$."
   ]
  },
  {
   "cell_type": "code",
   "execution_count": 14,
   "metadata": {
    "scrolled": true
   },
   "outputs": [
    {
     "name": "stdout",
     "output_type": "stream",
     "text": [
      "0.9472961373390558\n",
      "1.072474964234621\n"
     ]
    }
   ],
   "source": [
    "for i in x100:\n",
    "    if (f100(i) < (1./(2** 0.5) + 0.002)) and (f100(i) > (1./(2** 0.5) - 0.002)):\n",
    "        print(i)"
   ]
  },
  {
   "cell_type": "code",
   "execution_count": 15,
   "metadata": {},
   "outputs": [
    {
     "data": {
      "text/plain": [
       "0.12517882689556514"
      ]
     },
     "execution_count": 15,
     "metadata": {},
     "output_type": "execute_result"
    }
   ],
   "source": [
    "deltaomega2_1 = 1.072474964234621 - 0.9472961373390558\n",
    "deltaomega2_1\n"
   ]
  },
  {
   "cell_type": "code",
   "execution_count": 16,
   "metadata": {},
   "outputs": [
    {
     "data": {
      "text/plain": [
       "0.01597714285714285"
      ]
     },
     "execution_count": 16,
     "metadata": {},
     "output_type": "execute_result"
    }
   ],
   "source": [
    "delta_omega2_1 = 2*0.001\n",
    "eps_omega2_1 = delta_omega2_1/deltaomega2_1\n",
    "eps_omega2_1"
   ]
  },
  {
   "cell_type": "markdown",
   "metadata": {},
   "source": [
    "### Рассчитаем добротность контура с сопротивлением $R = 100\\Omega$ по формуле:\n",
    "\n",
    "$$Q = \\dfrac{1}{2\\Delta\\Omega}$$\n",
    "\n",
    "$2\\Delta\\Omega = 0.125$"
   ]
  },
  {
   "cell_type": "code",
   "execution_count": 17,
   "metadata": {},
   "outputs": [
    {
     "name": "stdout",
     "output_type": "stream",
     "text": [
      "Q100 = 7.988571428571426 +/- 0.1276345469387754\n"
     ]
    }
   ],
   "source": [
    "Q_100 = 1 / ( deltaomega2_1)\n",
    "delta_Q_100 = Q_100 * eps_omega2_1\n",
    "print(\"Q100 =\",Q_100,\"+/-\",delta_Q_100)"
   ]
  },
  {
   "cell_type": "markdown",
   "metadata": {},
   "source": [
    "### Получаем добротность $Q_{100\\Omega} = 7.99 \\pm 0.13 $"
   ]
  },
  {
   "cell_type": "markdown",
   "metadata": {},
   "source": [
    "## Часть II. Процессы установления и затухания колебаний."
   ]
  },
  {
   "cell_type": "markdown",
   "metadata": {},
   "source": [
    "### Снимем значения амплитуд с осциллографа и количество периодов между этими амплитудами для возрастающего и убывающего участка цуга для сопротивлений $R = 0\\Omega \\text{ и } R = 100\\Omega$"
   ]
  },
  {
   "cell_type": "code",
   "execution_count": 18,
   "metadata": {},
   "outputs": [],
   "source": [
    "U00 = 34\n",
    "data_0 = pd.DataFrame()\n",
    "data_0[\"Uk, points\"] = [8., 8, 26, 28]\n",
    "data_0[\"Uk, V\"] = data_0[\"Uk, points\"] * 0.1\n",
    "data_0[\"Ukn, points\"] = [12, 15.5, 28, 29.5]\n",
    "data_0[\"Ukn, V\"] = data_0[\"Ukn, points\"] * 0.1\n",
    "data_0[\"N\"] = [2, 4, 3, 5]\n",
    "data_0[\"uk, points\"] = [32., 32, 20, 18.5]\n",
    "data_0[\"uk, V\"] = data_0[\"uk, points\"] * 0.1\n",
    "data_0[\"ukn, points\"] = [25, 22, 16, 13]\n",
    "data_0[\"ukn, V\"] = data_0[\"ukn, points\"] * 0.1\n",
    "data_0[\"n\"] = [3, 5, 3, 4]\n",
    "U0100 = 37\n",
    "data_100 = pd.DataFrame()\n",
    "data_100[\"Uk, points\"] = [14, 14, 30, 32]\n",
    "data_100[\"Uk, V\"] = data_100[\"Uk, points\"] * 0.02\n",
    "data_100[\"Ukn, points\"] = [30, 32, 34, 34.5]\n",
    "data_100[\"Ukn, V\"] = data_100[\"Ukn, points\"] * 0.02\n",
    "data_100[\"N\"] = [3, 4, 2, 2]\n",
    "data_100[\"uk, points\"] = [37, 37, 25, 17]\n",
    "data_100[\"uk, V\"] = data_100[\"uk, points\"] * 0.02\n",
    "data_100[\"ukn, points\"] = [25, 17, 8, 7.5]\n",
    "data_100[\"ukn, V\"] = data_100[\"ukn, points\"] * 0.02\n",
    "data_100[\"n\"] = [1, 2, 3, 2]"
   ]
  },
  {
   "cell_type": "code",
   "execution_count": 19,
   "metadata": {},
   "outputs": [
    {
     "data": {
      "text/html": [
       "<div>\n",
       "<style scoped>\n",
       "    .dataframe tbody tr th:only-of-type {\n",
       "        vertical-align: middle;\n",
       "    }\n",
       "\n",
       "    .dataframe tbody tr th {\n",
       "        vertical-align: top;\n",
       "    }\n",
       "\n",
       "    .dataframe thead th {\n",
       "        text-align: right;\n",
       "    }\n",
       "</style>\n",
       "<table border=\"1\" class=\"dataframe\">\n",
       "  <thead>\n",
       "    <tr style=\"text-align: right;\">\n",
       "      <th></th>\n",
       "      <th>Uk, points</th>\n",
       "      <th>Uk, V</th>\n",
       "      <th>Ukn, points</th>\n",
       "      <th>Ukn, V</th>\n",
       "      <th>N</th>\n",
       "      <th>uk, points</th>\n",
       "      <th>uk, V</th>\n",
       "      <th>ukn, points</th>\n",
       "      <th>ukn, V</th>\n",
       "      <th>n</th>\n",
       "    </tr>\n",
       "  </thead>\n",
       "  <tbody>\n",
       "    <tr>\n",
       "      <th>0</th>\n",
       "      <td>8.0</td>\n",
       "      <td>0.8</td>\n",
       "      <td>12.0</td>\n",
       "      <td>1.20</td>\n",
       "      <td>2</td>\n",
       "      <td>32.0</td>\n",
       "      <td>3.20</td>\n",
       "      <td>25</td>\n",
       "      <td>2.5</td>\n",
       "      <td>3</td>\n",
       "    </tr>\n",
       "    <tr>\n",
       "      <th>1</th>\n",
       "      <td>8.0</td>\n",
       "      <td>0.8</td>\n",
       "      <td>15.5</td>\n",
       "      <td>1.55</td>\n",
       "      <td>4</td>\n",
       "      <td>32.0</td>\n",
       "      <td>3.20</td>\n",
       "      <td>22</td>\n",
       "      <td>2.2</td>\n",
       "      <td>5</td>\n",
       "    </tr>\n",
       "    <tr>\n",
       "      <th>2</th>\n",
       "      <td>26.0</td>\n",
       "      <td>2.6</td>\n",
       "      <td>28.0</td>\n",
       "      <td>2.80</td>\n",
       "      <td>3</td>\n",
       "      <td>20.0</td>\n",
       "      <td>2.00</td>\n",
       "      <td>16</td>\n",
       "      <td>1.6</td>\n",
       "      <td>3</td>\n",
       "    </tr>\n",
       "    <tr>\n",
       "      <th>3</th>\n",
       "      <td>28.0</td>\n",
       "      <td>2.8</td>\n",
       "      <td>29.5</td>\n",
       "      <td>2.95</td>\n",
       "      <td>5</td>\n",
       "      <td>18.5</td>\n",
       "      <td>1.85</td>\n",
       "      <td>13</td>\n",
       "      <td>1.3</td>\n",
       "      <td>4</td>\n",
       "    </tr>\n",
       "  </tbody>\n",
       "</table>\n",
       "</div>"
      ],
      "text/plain": [
       "   Uk, points  Uk, V  Ukn, points  Ukn, V  N  uk, points  uk, V  ukn, points  \\\n",
       "0         8.0    0.8         12.0    1.20  2        32.0   3.20           25   \n",
       "1         8.0    0.8         15.5    1.55  4        32.0   3.20           22   \n",
       "2        26.0    2.6         28.0    2.80  3        20.0   2.00           16   \n",
       "3        28.0    2.8         29.5    2.95  5        18.5   1.85           13   \n",
       "\n",
       "   ukn, V  n  \n",
       "0     2.5  3  \n",
       "1     2.2  5  \n",
       "2     1.6  3  \n",
       "3     1.3  4  "
      ]
     },
     "execution_count": 19,
     "metadata": {},
     "output_type": "execute_result"
    }
   ],
   "source": [
    "data_0"
   ]
  },
  {
   "cell_type": "code",
   "execution_count": 20,
   "metadata": {},
   "outputs": [
    {
     "data": {
      "text/html": [
       "<div>\n",
       "<style scoped>\n",
       "    .dataframe tbody tr th:only-of-type {\n",
       "        vertical-align: middle;\n",
       "    }\n",
       "\n",
       "    .dataframe tbody tr th {\n",
       "        vertical-align: top;\n",
       "    }\n",
       "\n",
       "    .dataframe thead th {\n",
       "        text-align: right;\n",
       "    }\n",
       "</style>\n",
       "<table border=\"1\" class=\"dataframe\">\n",
       "  <thead>\n",
       "    <tr style=\"text-align: right;\">\n",
       "      <th></th>\n",
       "      <th>Uk, points</th>\n",
       "      <th>Uk, V</th>\n",
       "      <th>Ukn, points</th>\n",
       "      <th>Ukn, V</th>\n",
       "      <th>N</th>\n",
       "      <th>uk, points</th>\n",
       "      <th>uk, V</th>\n",
       "      <th>ukn, points</th>\n",
       "      <th>ukn, V</th>\n",
       "      <th>n</th>\n",
       "    </tr>\n",
       "  </thead>\n",
       "  <tbody>\n",
       "    <tr>\n",
       "      <th>0</th>\n",
       "      <td>14</td>\n",
       "      <td>0.28</td>\n",
       "      <td>30.0</td>\n",
       "      <td>0.60</td>\n",
       "      <td>3</td>\n",
       "      <td>37</td>\n",
       "      <td>0.74</td>\n",
       "      <td>25.0</td>\n",
       "      <td>0.50</td>\n",
       "      <td>1</td>\n",
       "    </tr>\n",
       "    <tr>\n",
       "      <th>1</th>\n",
       "      <td>14</td>\n",
       "      <td>0.28</td>\n",
       "      <td>32.0</td>\n",
       "      <td>0.64</td>\n",
       "      <td>4</td>\n",
       "      <td>37</td>\n",
       "      <td>0.74</td>\n",
       "      <td>17.0</td>\n",
       "      <td>0.34</td>\n",
       "      <td>2</td>\n",
       "    </tr>\n",
       "    <tr>\n",
       "      <th>2</th>\n",
       "      <td>30</td>\n",
       "      <td>0.60</td>\n",
       "      <td>34.0</td>\n",
       "      <td>0.68</td>\n",
       "      <td>2</td>\n",
       "      <td>25</td>\n",
       "      <td>0.50</td>\n",
       "      <td>8.0</td>\n",
       "      <td>0.16</td>\n",
       "      <td>3</td>\n",
       "    </tr>\n",
       "    <tr>\n",
       "      <th>3</th>\n",
       "      <td>32</td>\n",
       "      <td>0.64</td>\n",
       "      <td>34.5</td>\n",
       "      <td>0.69</td>\n",
       "      <td>2</td>\n",
       "      <td>17</td>\n",
       "      <td>0.34</td>\n",
       "      <td>7.5</td>\n",
       "      <td>0.15</td>\n",
       "      <td>2</td>\n",
       "    </tr>\n",
       "  </tbody>\n",
       "</table>\n",
       "</div>"
      ],
      "text/plain": [
       "   Uk, points  Uk, V  Ukn, points  Ukn, V  N  uk, points  uk, V  ukn, points  \\\n",
       "0          14   0.28         30.0    0.60  3          37   0.74         25.0   \n",
       "1          14   0.28         32.0    0.64  4          37   0.74         17.0   \n",
       "2          30   0.60         34.0    0.68  2          25   0.50          8.0   \n",
       "3          32   0.64         34.5    0.69  2          17   0.34          7.5   \n",
       "\n",
       "   ukn, V  n  \n",
       "0    0.50  1  \n",
       "1    0.34  2  \n",
       "2    0.16  3  \n",
       "3    0.15  2  "
      ]
     },
     "execution_count": 20,
     "metadata": {},
     "output_type": "execute_result"
    }
   ],
   "source": [
    "data_100"
   ]
  },
  {
   "cell_type": "markdown",
   "metadata": {},
   "source": [
    "### Рассчитаем добротность контура по формулам и ее погрешность\n",
    "\n",
    " $\\theta =  \\dfrac{1}{n} \\cdot \\log{\\dfrac{U_0 - U_k}{U_0 - U_{kn}}}$\n",
    " \n",
    " $Q = \\dfrac{\\pi}{\\theta}$"
   ]
  },
  {
   "cell_type": "code",
   "execution_count": 21,
   "metadata": {
    "scrolled": false
   },
   "outputs": [
    {
     "data": {
      "text/html": [
       "<div>\n",
       "<style scoped>\n",
       "    .dataframe tbody tr th:only-of-type {\n",
       "        vertical-align: middle;\n",
       "    }\n",
       "\n",
       "    .dataframe tbody tr th {\n",
       "        vertical-align: top;\n",
       "    }\n",
       "\n",
       "    .dataframe thead th {\n",
       "        text-align: right;\n",
       "    }\n",
       "</style>\n",
       "<table border=\"1\" class=\"dataframe\">\n",
       "  <thead>\n",
       "    <tr style=\"text-align: right;\">\n",
       "      <th></th>\n",
       "      <th>Uk, points</th>\n",
       "      <th>Uk, V</th>\n",
       "      <th>Ukn, points</th>\n",
       "      <th>Ukn, V</th>\n",
       "      <th>N</th>\n",
       "      <th>uk, points</th>\n",
       "      <th>uk, V</th>\n",
       "      <th>ukn, points</th>\n",
       "      <th>ukn, V</th>\n",
       "      <th>n</th>\n",
       "      <th>Tetta</th>\n",
       "      <th>delta_Tetta</th>\n",
       "      <th>Q_1</th>\n",
       "      <th>delta_Q_1</th>\n",
       "      <th>tetta</th>\n",
       "      <th>delta_tetta</th>\n",
       "      <th>Q_2</th>\n",
       "      <th>delta_Q_2</th>\n",
       "    </tr>\n",
       "  </thead>\n",
       "  <tbody>\n",
       "    <tr>\n",
       "      <th>0</th>\n",
       "      <td>8.0</td>\n",
       "      <td>0.8</td>\n",
       "      <td>12.0</td>\n",
       "      <td>1.20</td>\n",
       "      <td>2</td>\n",
       "      <td>32.0</td>\n",
       "      <td>3.20</td>\n",
       "      <td>25</td>\n",
       "      <td>2.5</td>\n",
       "      <td>3</td>\n",
       "      <td>0.083527</td>\n",
       "      <td>0.002098</td>\n",
       "      <td>37.611683</td>\n",
       "      <td>0.944672</td>\n",
       "      <td>0.082287</td>\n",
       "      <td>0.010185</td>\n",
       "      <td>38.178623</td>\n",
       "      <td>4.725629</td>\n",
       "    </tr>\n",
       "    <tr>\n",
       "      <th>1</th>\n",
       "      <td>8.0</td>\n",
       "      <td>0.8</td>\n",
       "      <td>15.5</td>\n",
       "      <td>1.55</td>\n",
       "      <td>4</td>\n",
       "      <td>32.0</td>\n",
       "      <td>3.20</td>\n",
       "      <td>22</td>\n",
       "      <td>2.2</td>\n",
       "      <td>5</td>\n",
       "      <td>0.085081</td>\n",
       "      <td>0.001156</td>\n",
       "      <td>36.924531</td>\n",
       "      <td>0.501886</td>\n",
       "      <td>0.074939</td>\n",
       "      <td>0.005833</td>\n",
       "      <td>41.922172</td>\n",
       "      <td>3.263281</td>\n",
       "    </tr>\n",
       "    <tr>\n",
       "      <th>2</th>\n",
       "      <td>26.0</td>\n",
       "      <td>2.6</td>\n",
       "      <td>28.0</td>\n",
       "      <td>2.80</td>\n",
       "      <td>3</td>\n",
       "      <td>20.0</td>\n",
       "      <td>2.00</td>\n",
       "      <td>16</td>\n",
       "      <td>1.6</td>\n",
       "      <td>3</td>\n",
       "      <td>0.095894</td>\n",
       "      <td>0.004861</td>\n",
       "      <td>32.761089</td>\n",
       "      <td>1.660743</td>\n",
       "      <td>0.074381</td>\n",
       "      <td>0.002116</td>\n",
       "      <td>42.236390</td>\n",
       "      <td>1.201771</td>\n",
       "    </tr>\n",
       "    <tr>\n",
       "      <th>3</th>\n",
       "      <td>28.0</td>\n",
       "      <td>2.8</td>\n",
       "      <td>29.5</td>\n",
       "      <td>2.95</td>\n",
       "      <td>5</td>\n",
       "      <td>18.5</td>\n",
       "      <td>1.85</td>\n",
       "      <td>13</td>\n",
       "      <td>1.3</td>\n",
       "      <td>4</td>\n",
       "      <td>0.057536</td>\n",
       "      <td>0.003889</td>\n",
       "      <td>54.601815</td>\n",
       "      <td>3.690539</td>\n",
       "      <td>0.088205</td>\n",
       "      <td>0.001402</td>\n",
       "      <td>35.616806</td>\n",
       "      <td>0.565994</td>\n",
       "    </tr>\n",
       "  </tbody>\n",
       "</table>\n",
       "</div>"
      ],
      "text/plain": [
       "   Uk, points  Uk, V  Ukn, points  Ukn, V  N  uk, points  uk, V  ukn, points  \\\n",
       "0         8.0    0.8         12.0    1.20  2        32.0   3.20           25   \n",
       "1         8.0    0.8         15.5    1.55  4        32.0   3.20           22   \n",
       "2        26.0    2.6         28.0    2.80  3        20.0   2.00           16   \n",
       "3        28.0    2.8         29.5    2.95  5        18.5   1.85           13   \n",
       "\n",
       "   ukn, V  n     Tetta  delta_Tetta        Q_1  delta_Q_1     tetta  \\\n",
       "0     2.5  3  0.083527     0.002098  37.611683   0.944672  0.082287   \n",
       "1     2.2  5  0.085081     0.001156  36.924531   0.501886  0.074939   \n",
       "2     1.6  3  0.095894     0.004861  32.761089   1.660743  0.074381   \n",
       "3     1.3  4  0.057536     0.003889  54.601815   3.690539  0.088205   \n",
       "\n",
       "   delta_tetta        Q_2  delta_Q_2  \n",
       "0     0.010185  38.178623   4.725629  \n",
       "1     0.005833  41.922172   3.263281  \n",
       "2     0.002116  42.236390   1.201771  \n",
       "3     0.001402  35.616806   0.565994  "
      ]
     },
     "execution_count": 21,
     "metadata": {},
     "output_type": "execute_result"
    }
   ],
   "source": [
    "data_0[\"Tetta\"] = (1./data_0[\"N\"]) * np.log((U00 - data_0[\"Uk, points\"]) / (U00 - data_0[\"Ukn, points\"]))\n",
    "data_0[\"delta_Tetta\"] = ((U00 - data_0[\"Uk, points\"]) / (U00 - data_0[\"Ukn, points\"]))*((delta_a0/(U00-data_0[\"Uk, points\"]))+(delta_a0/(U00-data_0[\"Ukn, points\"])))/((U00 - data_0[\"Uk, points\"]) *data_0[\"N\"] / (U00 - data_0[\"Ukn, points\"]))\n",
    "data_0[\"Q_1\"] = np.pi / data_0[\"Tetta\"]\n",
    "data_0[\"delta_Q_1\"] = (data_0[\"delta_Tetta\"]/data_0[\"Tetta\"])*data_0[\"Q_1\"]\n",
    "data_0[\"tetta\"] = (1./data_0[\"n\"]) * np.log((data_0[\"uk, points\"]) / (data_0[\"ukn, points\"]))\n",
    "data_0[\"delta_tetta\"] = ((U00 - data_0[\"uk, points\"]) / (U00 - data_0[\"ukn, points\"]))*((delta_a0/(U00-data_0[\"uk, points\"]))+(delta_a0/(U00-data_0[\"ukn, points\"])))/((U00 - data_0[\"uk, points\"]) *data_0[\"n\"] / (U00 - data_0[\"ukn, points\"]))\n",
    "data_0[\"Q_2\"] = np.pi / data_0[\"tetta\"]\n",
    "data_0[\"delta_Q_2\"] = (data_0[\"delta_tetta\"]/data_0[\"tetta\"])*data_0[\"Q_2\"]\n",
    "\n",
    "data_0"
   ]
  },
  {
   "cell_type": "code",
   "execution_count": 22,
   "metadata": {},
   "outputs": [
    {
     "name": "stdout",
     "output_type": "stream",
     "text": [
      "Q_1 = 40.47477938803502 +/- 1.6994598492621809\n"
     ]
    }
   ],
   "source": [
    "print(\"Q_1 =\",data_0[\"Q_1\"].mean(), \"+/-\", data_0[\"delta_Q_1\"].mean())\n"
   ]
  },
  {
   "cell_type": "code",
   "execution_count": 23,
   "metadata": {},
   "outputs": [
    {
     "name": "stdout",
     "output_type": "stream",
     "text": [
      "Q_2 = 39.488497889482126 +/- 2.439168819937284\n"
     ]
    }
   ],
   "source": [
    "print(\"Q_2 =\",data_0[\"Q_2\"].mean(), \"+/-\", data_0[\"delta_Q_2\"].mean())"
   ]
  },
  {
   "cell_type": "markdown",
   "metadata": {},
   "source": [
    "### Получаем $Q_{0\\Omega}^{\\uparrow} = 40.47 \\pm 1.69$ и $Q_{0\\Omega}^{\\downarrow} = 39.48 \\pm 2.44$"
   ]
  },
  {
   "cell_type": "code",
   "execution_count": 24,
   "metadata": {
    "scrolled": true
   },
   "outputs": [
    {
     "data": {
      "text/html": [
       "<div>\n",
       "<style scoped>\n",
       "    .dataframe tbody tr th:only-of-type {\n",
       "        vertical-align: middle;\n",
       "    }\n",
       "\n",
       "    .dataframe tbody tr th {\n",
       "        vertical-align: top;\n",
       "    }\n",
       "\n",
       "    .dataframe thead th {\n",
       "        text-align: right;\n",
       "    }\n",
       "</style>\n",
       "<table border=\"1\" class=\"dataframe\">\n",
       "  <thead>\n",
       "    <tr style=\"text-align: right;\">\n",
       "      <th></th>\n",
       "      <th>Uk, points</th>\n",
       "      <th>Uk, V</th>\n",
       "      <th>Ukn, points</th>\n",
       "      <th>Ukn, V</th>\n",
       "      <th>N</th>\n",
       "      <th>uk, points</th>\n",
       "      <th>uk, V</th>\n",
       "      <th>ukn, points</th>\n",
       "      <th>ukn, V</th>\n",
       "      <th>n</th>\n",
       "      <th>Tetta</th>\n",
       "      <th>delta_Tetta</th>\n",
       "      <th>Q_1</th>\n",
       "      <th>delta_Q_1</th>\n",
       "      <th>tetta</th>\n",
       "      <th>delta_tetta</th>\n",
       "      <th>Q_2</th>\n",
       "      <th>delta_Q_2</th>\n",
       "    </tr>\n",
       "  </thead>\n",
       "  <tbody>\n",
       "    <tr>\n",
       "      <th>0</th>\n",
       "      <td>14</td>\n",
       "      <td>0.28</td>\n",
       "      <td>30.0</td>\n",
       "      <td>0.60</td>\n",
       "      <td>3</td>\n",
       "      <td>37</td>\n",
       "      <td>0.74</td>\n",
       "      <td>25.0</td>\n",
       "      <td>0.50</td>\n",
       "      <td>1</td>\n",
       "      <td>0.396528</td>\n",
       "      <td>0.000621</td>\n",
       "      <td>7.922751</td>\n",
       "      <td>0.012410</td>\n",
       "      <td>0.392042</td>\n",
       "      <td>NaN</td>\n",
       "      <td>8.013407</td>\n",
       "      <td>NaN</td>\n",
       "    </tr>\n",
       "    <tr>\n",
       "      <th>1</th>\n",
       "      <td>14</td>\n",
       "      <td>0.28</td>\n",
       "      <td>32.0</td>\n",
       "      <td>0.64</td>\n",
       "      <td>4</td>\n",
       "      <td>37</td>\n",
       "      <td>0.74</td>\n",
       "      <td>17.0</td>\n",
       "      <td>0.34</td>\n",
       "      <td>2</td>\n",
       "      <td>0.381514</td>\n",
       "      <td>0.000609</td>\n",
       "      <td>8.234539</td>\n",
       "      <td>0.013138</td>\n",
       "      <td>0.388852</td>\n",
       "      <td>NaN</td>\n",
       "      <td>8.079142</td>\n",
       "      <td>NaN</td>\n",
       "    </tr>\n",
       "    <tr>\n",
       "      <th>2</th>\n",
       "      <td>30</td>\n",
       "      <td>0.60</td>\n",
       "      <td>34.0</td>\n",
       "      <td>0.68</td>\n",
       "      <td>2</td>\n",
       "      <td>25</td>\n",
       "      <td>0.50</td>\n",
       "      <td>8.0</td>\n",
       "      <td>0.16</td>\n",
       "      <td>3</td>\n",
       "      <td>0.423649</td>\n",
       "      <td>0.002381</td>\n",
       "      <td>7.415557</td>\n",
       "      <td>0.041676</td>\n",
       "      <td>0.379811</td>\n",
       "      <td>0.000393</td>\n",
       "      <td>8.271454</td>\n",
       "      <td>0.008553</td>\n",
       "    </tr>\n",
       "    <tr>\n",
       "      <th>3</th>\n",
       "      <td>32</td>\n",
       "      <td>0.64</td>\n",
       "      <td>34.5</td>\n",
       "      <td>0.69</td>\n",
       "      <td>2</td>\n",
       "      <td>17</td>\n",
       "      <td>0.34</td>\n",
       "      <td>7.5</td>\n",
       "      <td>0.15</td>\n",
       "      <td>2</td>\n",
       "      <td>0.346574</td>\n",
       "      <td>0.003000</td>\n",
       "      <td>9.064720</td>\n",
       "      <td>0.078466</td>\n",
       "      <td>0.409155</td>\n",
       "      <td>0.000419</td>\n",
       "      <td>7.678243</td>\n",
       "      <td>0.007872</td>\n",
       "    </tr>\n",
       "  </tbody>\n",
       "</table>\n",
       "</div>"
      ],
      "text/plain": [
       "   Uk, points  Uk, V  Ukn, points  Ukn, V  N  uk, points  uk, V  ukn, points  \\\n",
       "0          14   0.28         30.0    0.60  3          37   0.74         25.0   \n",
       "1          14   0.28         32.0    0.64  4          37   0.74         17.0   \n",
       "2          30   0.60         34.0    0.68  2          25   0.50          8.0   \n",
       "3          32   0.64         34.5    0.69  2          17   0.34          7.5   \n",
       "\n",
       "   ukn, V  n     Tetta  delta_Tetta       Q_1  delta_Q_1     tetta  \\\n",
       "0    0.50  1  0.396528     0.000621  7.922751   0.012410  0.392042   \n",
       "1    0.34  2  0.381514     0.000609  8.234539   0.013138  0.388852   \n",
       "2    0.16  3  0.423649     0.002381  7.415557   0.041676  0.379811   \n",
       "3    0.15  2  0.346574     0.003000  9.064720   0.078466  0.409155   \n",
       "\n",
       "   delta_tetta       Q_2  delta_Q_2  \n",
       "0          NaN  8.013407        NaN  \n",
       "1          NaN  8.079142        NaN  \n",
       "2     0.000393  8.271454   0.008553  \n",
       "3     0.000419  7.678243   0.007872  "
      ]
     },
     "execution_count": 24,
     "metadata": {},
     "output_type": "execute_result"
    }
   ],
   "source": [
    "data_100[\"Tetta\"] = (1./data_100[\"N\"]) * np.log((U0100 - data_100[\"Uk, points\"]) / (U0100 - data_100[\"Ukn, points\"]))\n",
    "data_100[\"delta_Tetta\"] = ((U0100 - data_100[\"Uk, points\"]) / (U0100 - data_100[\"Ukn, points\"]))*((delta_a100/(U0100-data_100[\"Uk, points\"]))+(delta_a100/(U0100-data_100[\"Ukn, points\"])))/((U0100 - data_100[\"Uk, points\"]) *data_100[\"N\"] / (U0100 - data_100[\"Ukn, points\"]))\n",
    "data_100[\"Q_1\"] = np.pi / data_100[\"Tetta\"]\n",
    "data_100[\"delta_Q_1\"] = (data_100[\"delta_Tetta\"]/data_100[\"Tetta\"])*data_100[\"Q_1\"]\n",
    "data_100[\"tetta\"] = (1./data_100[\"n\"]) * np.log((data_100[\"uk, points\"]) / (data_100[\"ukn, points\"]))\n",
    "data_100[\"delta_tetta\"] = ((U0100 - data_100[\"uk, points\"]) / (U0100 - data_100[\"ukn, points\"]))*((delta_a100/(U0100-data_100[\"uk, points\"]))+(delta_a100/(U0100-data_100[\"ukn, points\"])))/((U0100 - data_100[\"uk, points\"]) *data_100[\"n\"] / (U0100 - data_100[\"ukn, points\"]))\n",
    "data_100[\"Q_2\"] = np.pi / data_100[\"tetta\"]\n",
    "data_100[\"delta_Q_2\"] = (data_100[\"delta_tetta\"]/data_100[\"tetta\"])*data_100[\"Q_2\"]\n",
    "data_100"
   ]
  },
  {
   "cell_type": "code",
   "execution_count": 25,
   "metadata": {},
   "outputs": [
    {
     "name": "stdout",
     "output_type": "stream",
     "text": [
      "Q_1 = 8.159391734084437 +/- 0.036422525649538864\n"
     ]
    }
   ],
   "source": [
    "print(\"Q_1 =\",data_100[\"Q_1\"].mean(), \"+/-\", data_100[\"delta_Q_1\"].mean())"
   ]
  },
  {
   "cell_type": "code",
   "execution_count": 26,
   "metadata": {},
   "outputs": [
    {
     "name": "stdout",
     "output_type": "stream",
     "text": [
      "Q_2 = 8.010561163274302 +/- 0.008212398239875011\n"
     ]
    }
   ],
   "source": [
    "print(\"Q_2 =\",data_100[\"Q_2\"].mean(), \"+/-\", data_100[\"delta_Q_2\"].mean())"
   ]
  },
  {
   "cell_type": "markdown",
   "metadata": {},
   "source": [
    "### Получаем $Q_{100\\Omega}^{\\uparrow} = 8.16 \\pm 0.04$ и $Q_{100\\Omega}^{\\downarrow} = 8.01 \\pm 0.01$"
   ]
  },
  {
   "cell_type": "markdown",
   "metadata": {},
   "source": [
    "## Часть III.  Теоретический расчет"
   ]
  },
  {
   "cell_type": "markdown",
   "metadata": {},
   "source": [
    "###  Снимем значения динамического сопротивление индукции L"
   ]
  },
  {
   "cell_type": "code",
   "execution_count": 27,
   "metadata": {},
   "outputs": [
    {
     "data": {
      "text/html": [
       "<div>\n",
       "<style scoped>\n",
       "    .dataframe tbody tr th:only-of-type {\n",
       "        vertical-align: middle;\n",
       "    }\n",
       "\n",
       "    .dataframe tbody tr th {\n",
       "        vertical-align: top;\n",
       "    }\n",
       "\n",
       "    .dataframe thead th {\n",
       "        text-align: right;\n",
       "    }\n",
       "</style>\n",
       "<table border=\"1\" class=\"dataframe\">\n",
       "  <thead>\n",
       "    <tr style=\"text-align: right;\">\n",
       "      <th></th>\n",
       "      <th>Частота</th>\n",
       "      <th>R_L</th>\n",
       "      <th>L</th>\n",
       "    </tr>\n",
       "  </thead>\n",
       "  <tbody>\n",
       "    <tr>\n",
       "      <th>0</th>\n",
       "      <td>50</td>\n",
       "      <td>21.76</td>\n",
       "      <td>100.02</td>\n",
       "    </tr>\n",
       "    <tr>\n",
       "      <th>1</th>\n",
       "      <td>500</td>\n",
       "      <td>22.07</td>\n",
       "      <td>99.98</td>\n",
       "    </tr>\n",
       "    <tr>\n",
       "      <th>2</th>\n",
       "      <td>1500</td>\n",
       "      <td>24.02</td>\n",
       "      <td>100.00</td>\n",
       "    </tr>\n",
       "  </tbody>\n",
       "</table>\n",
       "</div>"
      ],
      "text/plain": [
       "   Частота    R_L       L\n",
       "0       50  21.76  100.02\n",
       "1      500  22.07   99.98\n",
       "2     1500  24.02  100.00"
      ]
     },
     "execution_count": 27,
     "metadata": {},
     "output_type": "execute_result"
    }
   ],
   "source": [
    "datat = pd.DataFrame()\n",
    "datat[\"Частота\"] = [50,500,1500]\n",
    "datat[\"R_L\"] = [21.76, 22.07, 24.02]\n",
    "datat[\"L\"] = [100.02, 99.98, 100.00]\n",
    "datat"
   ]
  },
  {
   "cell_type": "markdown",
   "metadata": {},
   "source": [
    "### Рассчитаем добротность теоретически по формуле  $Q = \\dfrac{1}{R_{общ}} \\sqrt{\\dfrac{L}{C}}$ \n",
    "\n",
    "$R_{общ} = R_L + R$"
   ]
  },
  {
   "cell_type": "code",
   "execution_count": 28,
   "metadata": {},
   "outputs": [
    {
     "data": {
      "text/html": [
       "<div>\n",
       "<style scoped>\n",
       "    .dataframe tbody tr th:only-of-type {\n",
       "        vertical-align: middle;\n",
       "    }\n",
       "\n",
       "    .dataframe tbody tr th {\n",
       "        vertical-align: top;\n",
       "    }\n",
       "\n",
       "    .dataframe thead th {\n",
       "        text-align: right;\n",
       "    }\n",
       "</style>\n",
       "<table border=\"1\" class=\"dataframe\">\n",
       "  <thead>\n",
       "    <tr style=\"text-align: right;\">\n",
       "      <th></th>\n",
       "      <th>R</th>\n",
       "      <th>R_L</th>\n",
       "      <th>R_o</th>\n",
       "      <th>Q</th>\n",
       "    </tr>\n",
       "  </thead>\n",
       "  <tbody>\n",
       "    <tr>\n",
       "      <th>0</th>\n",
       "      <td>0</td>\n",
       "      <td>24.02</td>\n",
       "      <td>24.02</td>\n",
       "      <td>41.631973</td>\n",
       "    </tr>\n",
       "    <tr>\n",
       "      <th>1</th>\n",
       "      <td>100</td>\n",
       "      <td>24.02</td>\n",
       "      <td>124.02</td>\n",
       "      <td>8.063216</td>\n",
       "    </tr>\n",
       "  </tbody>\n",
       "</table>\n",
       "</div>"
      ],
      "text/plain": [
       "     R    R_L     R_o          Q\n",
       "0    0  24.02   24.02  41.631973\n",
       "1  100  24.02  124.02   8.063216"
      ]
     },
     "execution_count": 28,
     "metadata": {},
     "output_type": "execute_result"
    }
   ],
   "source": [
    "datar = pd.DataFrame()\n",
    "datar[\"R\"] = [0,100]\n",
    "datar[\"R_L\"] = [24.02, 24.02]\n",
    "datar[\"R_o\"] = datar[\"R\"] + datar[\"R_L\"]\n",
    "datar[\"Q\"] = (0.1/0.0000001)**0.5/datar[\"R_o\"]\n",
    "datar"
   ]
  },
  {
   "cell_type": "markdown",
   "metadata": {},
   "source": [
    "## Вывод"
   ]
  },
  {
   "cell_type": "code",
   "execution_count": 29,
   "metadata": {},
   "outputs": [
    {
     "data": {
      "text/html": [
       "<div>\n",
       "<style scoped>\n",
       "    .dataframe tbody tr th:only-of-type {\n",
       "        vertical-align: middle;\n",
       "    }\n",
       "\n",
       "    .dataframe tbody tr th {\n",
       "        vertical-align: top;\n",
       "    }\n",
       "\n",
       "    .dataframe thead th {\n",
       "        text-align: right;\n",
       "    }\n",
       "</style>\n",
       "<table border=\"1\" class=\"dataframe\">\n",
       "  <thead>\n",
       "    <tr style=\"text-align: right;\">\n",
       "      <th></th>\n",
       "      <th>R, Ом</th>\n",
       "      <th>R_конт, Ом</th>\n",
       "      <th>резонанс</th>\n",
       "      <th>Цуг вверх</th>\n",
       "      <th>Цуг вниз</th>\n",
       "      <th>Теория</th>\n",
       "    </tr>\n",
       "  </thead>\n",
       "  <tbody>\n",
       "    <tr>\n",
       "      <th>0</th>\n",
       "      <td>0</td>\n",
       "      <td>24.02</td>\n",
       "      <td>41.42±3.43</td>\n",
       "      <td>40.47±1.69</td>\n",
       "      <td>39.48±2.44</td>\n",
       "      <td>41.63</td>\n",
       "    </tr>\n",
       "    <tr>\n",
       "      <th>1</th>\n",
       "      <td>100</td>\n",
       "      <td>124.02</td>\n",
       "      <td>7.99±0.13</td>\n",
       "      <td>8.16±0.04</td>\n",
       "      <td>8.01±0.01</td>\n",
       "      <td>8.06</td>\n",
       "    </tr>\n",
       "  </tbody>\n",
       "</table>\n",
       "</div>"
      ],
      "text/plain": [
       "   R, Ом  R_конт, Ом    резонанс   Цуг вверх    Цуг вниз  Теория\n",
       "0      0       24.02  41.42±3.43  40.47±1.69  39.48±2.44   41.63\n",
       "1    100      124.02   7.99±0.13   8.16±0.04   8.01±0.01    8.06"
      ]
     },
     "execution_count": 29,
     "metadata": {},
     "output_type": "execute_result"
    }
   ],
   "source": [
    "datall = pd.DataFrame()\n",
    "datall[\"R, Ом\"] = [0,100]\n",
    "datall[\"R_конт, Ом\"] = [24.02,124.02]\n",
    "datall[\"резонанс\"] = [\"41.42±3.43\",\"7.99±0.13\"]\n",
    "datall[\"Цуг вверх\"] = [\"40.47±1.69\",\"8.16±0.04\"]\n",
    "datall[\"Цуг вниз\"] = [\"39.48±2.44\",\"8.01±0.01\"]\n",
    "datall[\"Теория\"] = [41.63,8.06]\n",
    "datall"
   ]
  },
  {
   "cell_type": "markdown",
   "metadata": {},
   "source": [
    "### Приведем формулы, по которым были рассчитаны погрешности: \n",
    "\n",
    "$$\\Delta\\nu_0 = \\dfrac{\\delta \\nu_0}{\\delta (LC)}\\cdot (LC)\\cdot(\\varepsilon_L +\\varepsilon_C)$$\n",
    "\n",
    "$$\\Delta(\\dfrac{U_0}{U}) = \\dfrac{U_0}{U} \\cdot (\\dfrac{\\Delta U_0}{U_0} + \\dfrac{\\Delta U}{U})$$\n",
    "\n",
    "$$\\Delta(\\dfrac{\\nu_0}{\\nu}) = \\dfrac{\\nu_0}{\\nu} \\cdot (\\dfrac{\\Delta \\nu_0}{\\nu_0} + \\dfrac{\\Delta \\nu}{\\nu})$$\n",
    "\n",
    "$$\\Delta \\theta = \\dfrac{\\Delta(\\frac{U_0-U_n}{U_0-U_{kn}})}{\\frac{U_0-U_n}{U_0-U_{kn}}\\cdot n}$$\n",
    "\n",
    "$$\\Delta Q= \\varepsilon_{\\theta}\\cdot Q $$"
   ]
  },
  {
   "cell_type": "code",
   "execution_count": null,
   "metadata": {},
   "outputs": [],
   "source": []
  },
  {
   "cell_type": "code",
   "execution_count": null,
   "metadata": {},
   "outputs": [],
   "source": []
  }
 ],
 "metadata": {
  "kernelspec": {
   "display_name": "Python 3",
   "language": "python",
   "name": "python3"
  },
  "language_info": {
   "codemirror_mode": {
    "name": "ipython",
    "version": 3
   },
   "file_extension": ".py",
   "mimetype": "text/x-python",
   "name": "python",
   "nbconvert_exporter": "python",
   "pygments_lexer": "ipython3",
   "version": "3.6.4"
  }
 },
 "nbformat": 4,
 "nbformat_minor": 2
}
