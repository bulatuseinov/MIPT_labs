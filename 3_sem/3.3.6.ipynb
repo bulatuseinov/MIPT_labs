{
 "cells": [
  {
   "cell_type": "markdown",
   "metadata": {},
   "source": [
    "# Лабораторная работа №3.3.6"
   ]
  },
  {
   "cell_type": "markdown",
   "metadata": {},
   "source": [
    "## Выполнил Усеинов Булат\n",
    "### группа 778"
   ]
  },
  {
   "cell_type": "markdown",
   "metadata": {},
   "source": [
    "## Часть I. Калибровка э.магнита"
   ]
  },
  {
   "cell_type": "code",
   "execution_count": 2,
   "metadata": {},
   "outputs": [],
   "source": [
    "import numpy as np\n",
    "import pandas as pd\n",
    "from scipy import interpolate\n",
    "from matplotlib import pyplot as plt"
   ]
  },
  {
   "cell_type": "code",
   "execution_count": 3,
   "metadata": {},
   "outputs": [
    {
     "data": {
      "text/html": [
       "<div>\n",
       "<style scoped>\n",
       "    .dataframe tbody tr th:only-of-type {\n",
       "        vertical-align: middle;\n",
       "    }\n",
       "\n",
       "    .dataframe tbody tr th {\n",
       "        vertical-align: top;\n",
       "    }\n",
       "\n",
       "    .dataframe thead th {\n",
       "        text-align: right;\n",
       "    }\n",
       "</style>\n",
       "<table border=\"1\" class=\"dataframe\">\n",
       "  <thead>\n",
       "    <tr style=\"text-align: right;\">\n",
       "      <th></th>\n",
       "      <th>Im, A</th>\n",
       "      <th>B, мТл</th>\n",
       "    </tr>\n",
       "  </thead>\n",
       "  <tbody>\n",
       "    <tr>\n",
       "      <th>0</th>\n",
       "      <td>0.00</td>\n",
       "      <td>9.36</td>\n",
       "    </tr>\n",
       "    <tr>\n",
       "      <th>1</th>\n",
       "      <td>0.07</td>\n",
       "      <td>68.80</td>\n",
       "    </tr>\n",
       "    <tr>\n",
       "      <th>2</th>\n",
       "      <td>0.14</td>\n",
       "      <td>138.70</td>\n",
       "    </tr>\n",
       "    <tr>\n",
       "      <th>3</th>\n",
       "      <td>0.21</td>\n",
       "      <td>204.00</td>\n",
       "    </tr>\n",
       "    <tr>\n",
       "      <th>4</th>\n",
       "      <td>0.28</td>\n",
       "      <td>267.00</td>\n",
       "    </tr>\n",
       "    <tr>\n",
       "      <th>5</th>\n",
       "      <td>0.35</td>\n",
       "      <td>315.00</td>\n",
       "    </tr>\n",
       "    <tr>\n",
       "      <th>6</th>\n",
       "      <td>0.42</td>\n",
       "      <td>348.00</td>\n",
       "    </tr>\n",
       "    <tr>\n",
       "      <th>7</th>\n",
       "      <td>0.49</td>\n",
       "      <td>367.00</td>\n",
       "    </tr>\n",
       "    <tr>\n",
       "      <th>8</th>\n",
       "      <td>0.56</td>\n",
       "      <td>381.00</td>\n",
       "    </tr>\n",
       "  </tbody>\n",
       "</table>\n",
       "</div>"
      ],
      "text/plain": [
       "   Im, A  B, мТл\n",
       "0   0.00    9.36\n",
       "1   0.07   68.80\n",
       "2   0.14  138.70\n",
       "3   0.21  204.00\n",
       "4   0.28  267.00\n",
       "5   0.35  315.00\n",
       "6   0.42  348.00\n",
       "7   0.49  367.00\n",
       "8   0.56  381.00"
      ]
     },
     "execution_count": 3,
     "metadata": {},
     "output_type": "execute_result"
    }
   ],
   "source": [
    "data = pd.DataFrame()\n",
    "data[\"Im, A\"] = [0.00, 0.07, 0.14, 0.21 , 0.28, 0.35, 0.42, 0.49, 0.56] \n",
    "data[\"B, мТл\"] = [9.36, 68.8, 138.7, 204, 267, 315, 348, 367, 381]\n",
    "data"
   ]
  },
  {
   "cell_type": "code",
   "execution_count": 4,
   "metadata": {},
   "outputs": [],
   "source": [
    "f = interpolate.interp1d(data['Im, A'], data['B, мТл'], kind='cubic')"
   ]
  },
  {
   "cell_type": "code",
   "execution_count": 5,
   "metadata": {
    "scrolled": true
   },
   "outputs": [
    {
     "data": {
      "image/png": "[encoded data removed]",
      "text/plain": [
       "<matplotlib.figure.Figure at 0x1811026470>"
      ]
     },
     "metadata": {},
     "output_type": "display_data"
    }
   ],
   "source": [
    "x = np.linspace(0, 0.56, 700)\n",
    "plt.figure(figsize=(14,8))\n",
    "plt.plot(x, f(x), '-' )\n",
    "plt.plot(data['Im, A'], data['B, мТл'], '*')\n",
    "plt.xlabel(r\"$I_m, A$\")\n",
    "plt.ylabel(r\"$B, мТл$\")\n",
    "plt.grid()"
   ]
  },
  {
   "cell_type": "markdown",
   "metadata": {},
   "source": [
    " ## Часть II.  Диск Корбино."
   ]
  },
  {
   "cell_type": "markdown",
   "metadata": {},
   "source": [
    "Диск Корбино выполнен ил антимонида индия (LnSb) и имеет следующие параметры:"
   ]
  },
  {
   "cell_type": "code",
   "execution_count": 6,
   "metadata": {},
   "outputs": [],
   "source": [
    "D = 0.018\n",
    "d = 0.003\n",
    "h = 0.0018"
   ]
  },
  {
   "cell_type": "markdown",
   "metadata": {},
   "source": [
    "### Снимем зависимость напряжения на образце от тока через обмотки эл.магнита."
   ]
  },
  {
   "cell_type": "code",
   "execution_count": 7,
   "metadata": {},
   "outputs": [
    {
     "data": {
      "text/html": [
       "<div>\n",
       "<style scoped>\n",
       "    .dataframe tbody tr th:only-of-type {\n",
       "        vertical-align: middle;\n",
       "    }\n",
       "\n",
       "    .dataframe tbody tr th {\n",
       "        vertical-align: top;\n",
       "    }\n",
       "\n",
       "    .dataframe thead th {\n",
       "        text-align: right;\n",
       "    }\n",
       "</style>\n",
       "<table border=\"1\" class=\"dataframe\">\n",
       "  <thead>\n",
       "    <tr style=\"text-align: right;\">\n",
       "      <th></th>\n",
       "      <th>U, мВ</th>\n",
       "      <th>Im, A</th>\n",
       "      <th>(U-U0)/U0</th>\n",
       "      <th>B**2</th>\n",
       "    </tr>\n",
       "  </thead>\n",
       "  <tbody>\n",
       "    <tr>\n",
       "      <th>0</th>\n",
       "      <td>0.56</td>\n",
       "      <td>0.00</td>\n",
       "      <td>0.018182</td>\n",
       "      <td>0.000088</td>\n",
       "    </tr>\n",
       "    <tr>\n",
       "      <th>1</th>\n",
       "      <td>0.66</td>\n",
       "      <td>0.07</td>\n",
       "      <td>0.200000</td>\n",
       "      <td>0.004733</td>\n",
       "    </tr>\n",
       "    <tr>\n",
       "      <th>2</th>\n",
       "      <td>0.75</td>\n",
       "      <td>0.10</td>\n",
       "      <td>0.363636</td>\n",
       "      <td>0.009742</td>\n",
       "    </tr>\n",
       "    <tr>\n",
       "      <th>3</th>\n",
       "      <td>0.92</td>\n",
       "      <td>0.14</td>\n",
       "      <td>0.672727</td>\n",
       "      <td>0.019238</td>\n",
       "    </tr>\n",
       "    <tr>\n",
       "      <th>4</th>\n",
       "      <td>1.26</td>\n",
       "      <td>0.21</td>\n",
       "      <td>1.290909</td>\n",
       "      <td>0.041616</td>\n",
       "    </tr>\n",
       "    <tr>\n",
       "      <th>5</th>\n",
       "      <td>1.52</td>\n",
       "      <td>0.25</td>\n",
       "      <td>1.763636</td>\n",
       "      <td>0.058105</td>\n",
       "    </tr>\n",
       "    <tr>\n",
       "      <th>6</th>\n",
       "      <td>1.73</td>\n",
       "      <td>0.28</td>\n",
       "      <td>2.145455</td>\n",
       "      <td>0.071289</td>\n",
       "    </tr>\n",
       "    <tr>\n",
       "      <th>7</th>\n",
       "      <td>1.83</td>\n",
       "      <td>0.30</td>\n",
       "      <td>2.327273</td>\n",
       "      <td>0.079793</td>\n",
       "    </tr>\n",
       "    <tr>\n",
       "      <th>8</th>\n",
       "      <td>2.10</td>\n",
       "      <td>0.35</td>\n",
       "      <td>2.818182</td>\n",
       "      <td>0.099225</td>\n",
       "    </tr>\n",
       "    <tr>\n",
       "      <th>9</th>\n",
       "      <td>2.40</td>\n",
       "      <td>0.42</td>\n",
       "      <td>3.363636</td>\n",
       "      <td>0.121104</td>\n",
       "    </tr>\n",
       "    <tr>\n",
       "      <th>10</th>\n",
       "      <td>2.59</td>\n",
       "      <td>0.49</td>\n",
       "      <td>3.709091</td>\n",
       "      <td>0.134689</td>\n",
       "    </tr>\n",
       "    <tr>\n",
       "      <th>11</th>\n",
       "      <td>2.73</td>\n",
       "      <td>0.56</td>\n",
       "      <td>3.963636</td>\n",
       "      <td>0.145161</td>\n",
       "    </tr>\n",
       "  </tbody>\n",
       "</table>\n",
       "</div>"
      ],
      "text/plain": [
       "    U, мВ  Im, A  (U-U0)/U0      B**2\n",
       "0    0.56   0.00   0.018182  0.000088\n",
       "1    0.66   0.07   0.200000  0.004733\n",
       "2    0.75   0.10   0.363636  0.009742\n",
       "3    0.92   0.14   0.672727  0.019238\n",
       "4    1.26   0.21   1.290909  0.041616\n",
       "5    1.52   0.25   1.763636  0.058105\n",
       "6    1.73   0.28   2.145455  0.071289\n",
       "7    1.83   0.30   2.327273  0.079793\n",
       "8    2.10   0.35   2.818182  0.099225\n",
       "9    2.40   0.42   3.363636  0.121104\n",
       "10   2.59   0.49   3.709091  0.134689\n",
       "11   2.73   0.56   3.963636  0.145161"
      ]
     },
     "execution_count": 7,
     "metadata": {},
     "output_type": "execute_result"
    }
   ],
   "source": [
    "data1 = pd.DataFrame()\n",
    "data1[\"U, мВ\"] = [0.56, 0.66, 0.75, 0.92, 1.26, 1.52, 1.73, 1.83, 2.10, 2.40, 2.59, 2.73]\n",
    "data1[\"Im, A\"] = [0.00, 0.07, 0.1, 0.14, 0.21, 0.25, 0.28, 0.30, 0.35, 0.42, 0.49, 0.56]\n",
    "U0 = 0.55\n",
    "data1[\"(U-U0)/U0\"] = ((data1[\"U, мВ\"] - U0) / U0)\n",
    "data1[\"B**2\"] = (f(data1[\"Im, A\"]) ** 2) * 0.000001\n",
    "data1"
   ]
  },
  {
   "cell_type": "markdown",
   "metadata": {},
   "source": [
    " ## Часть II.  Пластинка перпендикулярно и параллельно линиям магнитного поля."
   ]
  },
  {
   "cell_type": "code",
   "execution_count": 8,
   "metadata": {},
   "outputs": [
    {
     "data": {
      "text/html": [
       "<div>\n",
       "<style scoped>\n",
       "    .dataframe tbody tr th:only-of-type {\n",
       "        vertical-align: middle;\n",
       "    }\n",
       "\n",
       "    .dataframe tbody tr th {\n",
       "        vertical-align: top;\n",
       "    }\n",
       "\n",
       "    .dataframe thead th {\n",
       "        text-align: right;\n",
       "    }\n",
       "</style>\n",
       "<table border=\"1\" class=\"dataframe\">\n",
       "  <thead>\n",
       "    <tr style=\"text-align: right;\">\n",
       "      <th></th>\n",
       "      <th>U, мВ</th>\n",
       "      <th>Im, A</th>\n",
       "      <th>(U-U0)/U0</th>\n",
       "      <th>B**2</th>\n",
       "    </tr>\n",
       "  </thead>\n",
       "  <tbody>\n",
       "    <tr>\n",
       "      <th>0</th>\n",
       "      <td>2.73</td>\n",
       "      <td>0.00</td>\n",
       "      <td>0.007380</td>\n",
       "      <td>0.000088</td>\n",
       "    </tr>\n",
       "    <tr>\n",
       "      <th>1</th>\n",
       "      <td>2.77</td>\n",
       "      <td>0.07</td>\n",
       "      <td>0.022140</td>\n",
       "      <td>0.004733</td>\n",
       "    </tr>\n",
       "    <tr>\n",
       "      <th>2</th>\n",
       "      <td>2.80</td>\n",
       "      <td>0.10</td>\n",
       "      <td>0.033210</td>\n",
       "      <td>0.009742</td>\n",
       "    </tr>\n",
       "    <tr>\n",
       "      <th>3</th>\n",
       "      <td>2.86</td>\n",
       "      <td>0.14</td>\n",
       "      <td>0.055351</td>\n",
       "      <td>0.019238</td>\n",
       "    </tr>\n",
       "    <tr>\n",
       "      <th>4</th>\n",
       "      <td>2.97</td>\n",
       "      <td>0.21</td>\n",
       "      <td>0.095941</td>\n",
       "      <td>0.041616</td>\n",
       "    </tr>\n",
       "    <tr>\n",
       "      <th>5</th>\n",
       "      <td>3.03</td>\n",
       "      <td>0.25</td>\n",
       "      <td>0.118081</td>\n",
       "      <td>0.058105</td>\n",
       "    </tr>\n",
       "    <tr>\n",
       "      <th>6</th>\n",
       "      <td>3.08</td>\n",
       "      <td>0.28</td>\n",
       "      <td>0.136531</td>\n",
       "      <td>0.071289</td>\n",
       "    </tr>\n",
       "    <tr>\n",
       "      <th>7</th>\n",
       "      <td>3.12</td>\n",
       "      <td>0.30</td>\n",
       "      <td>0.151292</td>\n",
       "      <td>0.079793</td>\n",
       "    </tr>\n",
       "    <tr>\n",
       "      <th>8</th>\n",
       "      <td>3.18</td>\n",
       "      <td>0.35</td>\n",
       "      <td>0.173432</td>\n",
       "      <td>0.099225</td>\n",
       "    </tr>\n",
       "    <tr>\n",
       "      <th>9</th>\n",
       "      <td>3.24</td>\n",
       "      <td>0.42</td>\n",
       "      <td>0.195572</td>\n",
       "      <td>0.121104</td>\n",
       "    </tr>\n",
       "    <tr>\n",
       "      <th>10</th>\n",
       "      <td>3.28</td>\n",
       "      <td>0.49</td>\n",
       "      <td>0.210332</td>\n",
       "      <td>0.134689</td>\n",
       "    </tr>\n",
       "    <tr>\n",
       "      <th>11</th>\n",
       "      <td>3.33</td>\n",
       "      <td>0.56</td>\n",
       "      <td>0.228782</td>\n",
       "      <td>0.145161</td>\n",
       "    </tr>\n",
       "  </tbody>\n",
       "</table>\n",
       "</div>"
      ],
      "text/plain": [
       "    U, мВ  Im, A  (U-U0)/U0      B**2\n",
       "0    2.73   0.00   0.007380  0.000088\n",
       "1    2.77   0.07   0.022140  0.004733\n",
       "2    2.80   0.10   0.033210  0.009742\n",
       "3    2.86   0.14   0.055351  0.019238\n",
       "4    2.97   0.21   0.095941  0.041616\n",
       "5    3.03   0.25   0.118081  0.058105\n",
       "6    3.08   0.28   0.136531  0.071289\n",
       "7    3.12   0.30   0.151292  0.079793\n",
       "8    3.18   0.35   0.173432  0.099225\n",
       "9    3.24   0.42   0.195572  0.121104\n",
       "10   3.28   0.49   0.210332  0.134689\n",
       "11   3.33   0.56   0.228782  0.145161"
      ]
     },
     "execution_count": 8,
     "metadata": {},
     "output_type": "execute_result"
    }
   ],
   "source": [
    "data2 = pd.DataFrame()\n",
    "data2[\"U, мВ\"] = [2.73, 2.77, 2.80, 2.86, 2.97, 3.03, 3.08, 3.12, 3.18, 3.24, 3.28, 3.33]\n",
    "data2[\"Im, A\"] = [0.00, 0.07, 0.1, 0.14, 0.21, 0.25, 0.28, 0.30, 0.35, 0.42, 0.49, 0.56]\n",
    "U02 = 2.71\n",
    "data2[\"(U-U0)/U0\"] = ((data2[\"U, мВ\"] - U02) / U02)\n",
    "data2[\"B**2\"] = (f(data2[\"Im, A\"]) ** 2) * 0.000001\n",
    "data2"
   ]
  },
  {
   "cell_type": "code",
   "execution_count": 9,
   "metadata": {},
   "outputs": [
    {
     "data": {
      "text/html": [
       "<div>\n",
       "<style scoped>\n",
       "    .dataframe tbody tr th:only-of-type {\n",
       "        vertical-align: middle;\n",
       "    }\n",
       "\n",
       "    .dataframe tbody tr th {\n",
       "        vertical-align: top;\n",
       "    }\n",
       "\n",
       "    .dataframe thead th {\n",
       "        text-align: right;\n",
       "    }\n",
       "</style>\n",
       "<table border=\"1\" class=\"dataframe\">\n",
       "  <thead>\n",
       "    <tr style=\"text-align: right;\">\n",
       "      <th></th>\n",
       "      <th>U, мВ</th>\n",
       "      <th>Im, A</th>\n",
       "      <th>(U-U0)/U0</th>\n",
       "      <th>B**2</th>\n",
       "    </tr>\n",
       "  </thead>\n",
       "  <tbody>\n",
       "    <tr>\n",
       "      <th>0</th>\n",
       "      <td>2.70</td>\n",
       "      <td>0.00</td>\n",
       "      <td>-0.003690</td>\n",
       "      <td>0.000088</td>\n",
       "    </tr>\n",
       "    <tr>\n",
       "      <th>1</th>\n",
       "      <td>2.73</td>\n",
       "      <td>0.07</td>\n",
       "      <td>0.007380</td>\n",
       "      <td>0.004733</td>\n",
       "    </tr>\n",
       "    <tr>\n",
       "      <th>2</th>\n",
       "      <td>2.76</td>\n",
       "      <td>0.10</td>\n",
       "      <td>0.018450</td>\n",
       "      <td>0.009742</td>\n",
       "    </tr>\n",
       "    <tr>\n",
       "      <th>3</th>\n",
       "      <td>2.79</td>\n",
       "      <td>0.14</td>\n",
       "      <td>0.029520</td>\n",
       "      <td>0.019238</td>\n",
       "    </tr>\n",
       "    <tr>\n",
       "      <th>4</th>\n",
       "      <td>2.88</td>\n",
       "      <td>0.21</td>\n",
       "      <td>0.062731</td>\n",
       "      <td>0.041616</td>\n",
       "    </tr>\n",
       "    <tr>\n",
       "      <th>5</th>\n",
       "      <td>2.93</td>\n",
       "      <td>0.25</td>\n",
       "      <td>0.081181</td>\n",
       "      <td>0.058105</td>\n",
       "    </tr>\n",
       "    <tr>\n",
       "      <th>6</th>\n",
       "      <td>2.97</td>\n",
       "      <td>0.28</td>\n",
       "      <td>0.095941</td>\n",
       "      <td>0.071289</td>\n",
       "    </tr>\n",
       "    <tr>\n",
       "      <th>7</th>\n",
       "      <td>2.99</td>\n",
       "      <td>0.30</td>\n",
       "      <td>0.103321</td>\n",
       "      <td>0.079793</td>\n",
       "    </tr>\n",
       "    <tr>\n",
       "      <th>8</th>\n",
       "      <td>3.04</td>\n",
       "      <td>0.35</td>\n",
       "      <td>0.121771</td>\n",
       "      <td>0.099225</td>\n",
       "    </tr>\n",
       "    <tr>\n",
       "      <th>9</th>\n",
       "      <td>3.09</td>\n",
       "      <td>0.42</td>\n",
       "      <td>0.140221</td>\n",
       "      <td>0.121104</td>\n",
       "    </tr>\n",
       "    <tr>\n",
       "      <th>10</th>\n",
       "      <td>3.12</td>\n",
       "      <td>0.49</td>\n",
       "      <td>0.151292</td>\n",
       "      <td>0.134689</td>\n",
       "    </tr>\n",
       "    <tr>\n",
       "      <th>11</th>\n",
       "      <td>3.14</td>\n",
       "      <td>0.56</td>\n",
       "      <td>0.158672</td>\n",
       "      <td>0.145161</td>\n",
       "    </tr>\n",
       "  </tbody>\n",
       "</table>\n",
       "</div>"
      ],
      "text/plain": [
       "    U, мВ  Im, A  (U-U0)/U0      B**2\n",
       "0    2.70   0.00  -0.003690  0.000088\n",
       "1    2.73   0.07   0.007380  0.004733\n",
       "2    2.76   0.10   0.018450  0.009742\n",
       "3    2.79   0.14   0.029520  0.019238\n",
       "4    2.88   0.21   0.062731  0.041616\n",
       "5    2.93   0.25   0.081181  0.058105\n",
       "6    2.97   0.28   0.095941  0.071289\n",
       "7    2.99   0.30   0.103321  0.079793\n",
       "8    3.04   0.35   0.121771  0.099225\n",
       "9    3.09   0.42   0.140221  0.121104\n",
       "10   3.12   0.49   0.151292  0.134689\n",
       "11   3.14   0.56   0.158672  0.145161"
      ]
     },
     "execution_count": 9,
     "metadata": {},
     "output_type": "execute_result"
    }
   ],
   "source": [
    "data3 = pd.DataFrame()\n",
    "data3[\"U, мВ\"] = [2.70, 2.73, 2.76, 2.79, 2.88, 2.93, 2.97, 2.99, 3.04, 3.09, 3.12, 3.14]\n",
    "data3[\"Im, A\"] = [0.00, 0.07, 0.1, 0.14, 0.21, 0.25, 0.28, 0.30, 0.35, 0.42, 0.49, 0.56]\n",
    "U03 = 2.71\n",
    "data3[\"(U-U0)/U0\"] = ((data3[\"U, мВ\"] - U03) / U03)\n",
    "data3[\"B**2\"] = (f(data3[\"Im, A\"]) ** 2) * 0.000001\n",
    "data3"
   ]
  },
  {
   "cell_type": "code",
   "execution_count": null,
   "metadata": {},
   "outputs": [],
   "source": []
  },
  {
   "cell_type": "code",
   "execution_count": 10,
   "metadata": {
    "scrolled": true
   },
   "outputs": [
    {
     "data": {
      "image/png": "[encoded data removed]",
      "text/plain": [
       "<matplotlib.figure.Figure at 0x181a2844a8>"
      ]
     },
     "metadata": {},
     "output_type": "display_data"
    }
   ],
   "source": [
    "plt.figure(figsize=(14,9))\n",
    "plt.plot(data1[\"B**2\"], data1[\"(U-U0)/U0\"], 'o')\n",
    "A = np.vstack([data1[\"B**2\"], np.ones(len(data1[\"B**2\"]))]).T\n",
    "b2, a = np.linalg.lstsq(A, data1[\"(U-U0)/U0\"], rcond = None)[0]\n",
    "plt.plot(data1[\"B**2\"],b2*data1[\"B**2\"] + a, 'r', label = 'Диск Корбино')\n",
    "\n",
    "plt.xlabel(r\"$B^2$\")\n",
    "plt.ylabel(r\"$\\frac{U-U0}{U0}$\")\n",
    "plt.grid()\n",
    "plt.legend();"
   ]
  },
  {
   "cell_type": "code",
   "execution_count": 11,
   "metadata": {},
   "outputs": [
    {
     "data": {
      "image/png": "[encoded data removed]",
      "text/plain": [
       "<matplotlib.figure.Figure at 0x181a80a7b8>"
      ]
     },
     "metadata": {},
     "output_type": "display_data"
    }
   ],
   "source": [
    "plt.figure(figsize=(14,8))\n",
    "plt.plot(data2[\"B**2\"], data2[\"(U-U0)/U0\"], 'o')\n",
    "A = np.vstack([data2[\"B**2\"], np.ones(len(data2[\"B**2\"]))]).T\n",
    "b_1, a_1 = np.linalg.lstsq(A, data2[\"(U-U0)/U0\"], rcond = None)[0]\n",
    "plt.plot(data2[\"B**2\"],b_1*data2[\"B**2\"] + a_1, 'r', label = 'Перпендикулярно')\n",
    "\n",
    "plt.plot(data3[\"B**2\"], data3[\"(U-U0)/U0\"], 'o')\n",
    "A = np.vstack([data3[\"B**2\"], np.ones(len(data3[\"B**2\"]))]).T\n",
    "b_2, a_2 = np.linalg.lstsq(A, data3[\"(U-U0)/U0\"], rcond = None)[0]\n",
    "plt.plot(data3[\"B**2\"],b_2*data3[\"B**2\"] + a_2, 'r', label = 'Параллельно')\n",
    "\n",
    "plt.xlabel(r\"$B^2$\")\n",
    "plt.ylabel(r\"$\\frac{U-U0}{U0}$\")\n",
    "plt.grid()\n",
    "plt.legend();"
   ]
  },
  {
   "cell_type": "code",
   "execution_count": 12,
   "metadata": {},
   "outputs": [
    {
     "name": "stdout",
     "output_type": "stream",
     "text": [
      "Перпендикулярный = 1.467 +- 0.0081\n",
      "Параллельный = 1.102 +-  0.0109\n"
     ]
    }
   ],
   "source": [
    "#Определим наклон перпедикулярного и параллельного случаев\n",
    "b_1\n",
    "b_2\n",
    "\n",
    "#Определим погрешность наклонов\n",
    "for i in range(12):\n",
    "    sum3 = 0.\n",
    "    sum4 = 0.\n",
    "    sum5 = 0.\n",
    "    sum6 = 0.\n",
    "    sum3 += (data2[\"(U-U0)/U0\"][i]-b_1*data2[\"B**2\"][i]-a_1)**2 \n",
    "    sum4 += (data2[\"B**2\"][i] - np.mean(data2[\"B**2\"]))\n",
    "    sum5 += (data3[\"(U-U0)/U0\"][i]-b_2*data3[\"B**2\"][i]-a_2)**2\n",
    "    sum6 += (data3[\"B**2\"][i] - np.mean(data3[\"B**2\"]))\n",
    "delta_per = (sum3/(10*sum4))**0.5\n",
    "delta_par = (sum5/(10*sum6))**0.5\n",
    "print(\"Перпендикулярный = {:.4} +-\".format(b_1),round(delta_per, 4) )\n",
    "print(\"Параллельный = {:.4} +- \".format(b_2), round(delta_par, 4) )\n"
   ]
  },
  {
   "cell_type": "code",
   "execution_count": null,
   "metadata": {},
   "outputs": [],
   "source": []
  },
  {
   "cell_type": "code",
   "execution_count": null,
   "metadata": {},
   "outputs": [],
   "source": []
  },
  {
   "cell_type": "code",
   "execution_count": null,
   "metadata": {},
   "outputs": [],
   "source": []
  },
  {
   "cell_type": "markdown",
   "metadata": {},
   "source": [
    "### Определим наклон графика для диска Корбино."
   ]
  },
  {
   "cell_type": "markdown",
   "metadata": {},
   "source": [
    "$$\\frac{\\Delta\\rho}{\\rho_0} =(bB)^2$$\n",
    "\n",
    "$$\\frac{\\Delta\\rho}{\\rho_0} = \\frac{\\Delta U}{U_0}$$\n",
    "\n",
    "$$b = \\sqrt{\\frac{\\Delta U}{U_0 \\cdot B^2}}$$"
   ]
  },
  {
   "cell_type": "code",
   "execution_count": 248,
   "metadata": {},
   "outputs": [
    {
     "name": "stdout",
     "output_type": "stream",
     "text": [
      "b = 5.192\n"
     ]
    }
   ],
   "source": [
    "b = b2**0.5\n",
    "print(\"b = {:.4}\".format(b))"
   ]
  },
  {
   "cell_type": "code",
   "execution_count": 249,
   "metadata": {},
   "outputs": [
    {
     "name": "stdout",
     "output_type": "stream",
     "text": [
      "delta_b =  0.007874320979355691\n"
     ]
    }
   ],
   "source": [
    " #Определим погрешность b\n",
    "for i in range(12):\n",
    "    sum1 = 0.\n",
    "    sum2 = 0.\n",
    "    sum1 += (data1[\"(U-U0)/U0\"][i]-b2*data1[\"B**2\"][i]-a)**2\n",
    "    sum2 += (data1[\"B**2\"][i] - np.mean(data1[\"B**2\"]))\n",
    "delta_b2 = (sum1/(10*sum2))**0.5\n",
    "\n",
    "delta_b = delta_b2/(2*b)\n",
    "print (\"delta_b = \",delta_b)"
   ]
  },
  {
   "cell_type": "markdown",
   "metadata": {},
   "source": [
    "### Значение подвижности носителей заряда есть  $b = 5.192 \\pm 0.008$"
   ]
  },
  {
   "cell_type": "markdown",
   "metadata": {},
   "source": [
    "### По формуле определим удельное сопротивление образца.\n"
   ]
  },
  {
   "cell_type": "markdown",
   "metadata": {},
   "source": [
    "$$R_0 = \\frac{U_0}{I_0} = \\frac{0.55}{21}$$\n",
    "\n",
    "$$\\rho_0 = \\frac{2 R_0 \\pi h}{\\ln\\frac{D}{d}}$$"
   ]
  },
  {
   "cell_type": "code",
   "execution_count": 250,
   "metadata": {},
   "outputs": [
    {
     "name": "stdout",
     "output_type": "stream",
     "text": [
      "rho_0 =  0.00016531644588772923\n"
     ]
    }
   ],
   "source": [
    "rho_0 = (2*(0.55/21)*np.pi*0.0018)/(np.log(18/3.))\n",
    "print(\"rho_0 = \", rho_0)"
   ]
  },
  {
   "cell_type": "code",
   "execution_count": 251,
   "metadata": {},
   "outputs": [
    {
     "name": "stdout",
     "output_type": "stream",
     "text": [
      "delta_R_0 =  0.0007846099898773676\n",
      "delta_rho_0 =  1.089033012030084e-05\n"
     ]
    }
   ],
   "source": [
    "# Определим погрешность  R_0\n",
    "R_0 = 0.55/21\n",
    "delta_R_0 = 0.55/21 * ((0.01/0.55)**2 + (0.5/21)**2)**0.5\n",
    "print(\"delta_R_0 = \", delta_R_0)\n",
    "# Определим погрешность ро_0\n",
    "delta_rho_0 = rho_0 * ((0.1/1.8)**2 + (delta_R_0/R_0)**2 + ((1/np.log(18/3.))*((0.1/18)**2 + (0.1/3)**2)**0.5)**2)**0.5\n",
    "print(\"delta_rho_0 = \", delta_rho_0)"
   ]
  },
  {
   "cell_type": "markdown",
   "metadata": {},
   "source": [
    "### Значение удельного сопротивления $\\rho_0 = (1.653 \\pm 0.109) \\cdot 10^{-4}\\ \\ \\ Om\\cdot m$ "
   ]
  },
  {
   "cell_type": "markdown",
   "metadata": {},
   "source": [
    "### По формуле определим Концентрацию носителей заряда."
   ]
  },
  {
   "cell_type": "markdown",
   "metadata": {},
   "source": [
    "$$\\frac{1}{\\rho_0} = e\\cdot n \\cdot b$$\n",
    "\n",
    "$$n = \\frac{1}{eb\\rho_0}$$"
   ]
  },
  {
   "cell_type": "code",
   "execution_count": 252,
   "metadata": {},
   "outputs": [
    {
     "name": "stdout",
     "output_type": "stream",
     "text": [
      "n =  7.281375053853126e+21\n"
     ]
    }
   ],
   "source": [
    "n = 1.0 / ((1.6)*(10**(-19))*b*rho_0)\n",
    "print(\"n = \",n)"
   ]
  },
  {
   "cell_type": "code",
   "execution_count": 253,
   "metadata": {},
   "outputs": [
    {
     "name": "stdout",
     "output_type": "stream",
     "text": [
      "delta_n =  4.797924877642065e+20\n"
     ]
    }
   ],
   "source": [
    "# Определим погрешность концентрации\n",
    "delta_n = n*((delta_rho_0/rho_0)**2 + (delta_b/b)**2)**0.5\n",
    "print(\"delta_n = \",delta_n)"
   ]
  },
  {
   "cell_type": "markdown",
   "metadata": {},
   "source": [
    "### Значение концентрации подвижных носителей заряда $n = (7.28 \\pm 0.48) \\cdot 10^{21}$"
   ]
  },
  {
   "cell_type": "markdown",
   "metadata": {},
   "source": [
    "### Формулы для расчета погрешностей в этой работе:\n",
    "$$\\Delta(b^2) = 2b\\Delta b$$\n",
    "\n",
    "$$\\Delta b = \\frac{\\Delta b^2}{2b}$$\n",
    "\n",
    "$$\\Delta R_0 = R_0 \\cdot \\sqrt{(\\frac{\\Delta U_0}{U_0})^2+(\\frac{\\Delta I_0}{I_0})^2}$$\n",
    "\n",
    "$$\\Delta \\rho_0 = \\rho_0 \\sqrt{(\\frac{\\Delta h}{h})^2 + (\\frac{\\Delta R_0}{R_0})^2 + (\\sqrt{(\\frac{\\Delta D}{D})^2 +(\\frac{\\Delta d}{d})^2}\\frac{1}{\\ln{\\frac{D}{d}}})^2}$$\n",
    "\n",
    "$$\\Delta n = n \\sqrt{(\\frac{\\Delta \\rho_0}{\\rho_0})^2+(\\frac{\\Delta b}{b})^2}$$\n",
    "\n",
    "$$S_b = \\sqrt{\\frac{1}{n-1}\\cdot(\\frac{\\Sigma(y_i-bx_i-a)^2}{\\Sigma(x_i-\\overline x)^2})}$$"
   ]
  },
  {
   "cell_type": "code",
   "execution_count": null,
   "metadata": {},
   "outputs": [],
   "source": []
  },
  {
   "cell_type": "code",
   "execution_count": null,
   "metadata": {},
   "outputs": [],
   "source": []
  },
  {
   "cell_type": "code",
   "execution_count": null,
   "metadata": {},
   "outputs": [],
   "source": []
  }
 ],
 "metadata": {
  "kernelspec": {
   "display_name": "Python 3",
   "language": "python",
   "name": "python3"
  },
  "language_info": {
   "codemirror_mode": {
    "name": "ipython",
    "version": 3
   },
   "file_extension": ".py",
   "mimetype": "text/x-python",
   "name": "python",
   "nbconvert_exporter": "python",
   "pygments_lexer": "ipython3",
   "version": "3.6.8"
  }
 },
 "nbformat": 4,
 "nbformat_minor": 2
}
