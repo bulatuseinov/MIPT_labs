{
 "cells": [
  {
   "cell_type": "markdown",
   "metadata": {},
   "source": [
    "# Лабораторная работа № 4.3.3\n",
    "# \"Исследование разрешающей способности микроскопа методом Аббе\"\n",
    "## Выполнили: \n",
    "- Самойленко Александр 778 гр.\n",
    "- Усеинов Булат 778 гр."
   ]
  },
  {
   "cell_type": "markdown",
   "metadata": {},
   "source": [
    "$\\textbf{Цель работы:}$ Определение разрешающей способности объектива микроскопа методом Аббе"
   ]
  },
  {
   "cell_type": "markdown",
   "metadata": {},
   "source": [
    "$\\textbf{В работе используются:}$ Лазер, кассета с набором сеток разного периода, линзы, щель с микрометрическим винтов."
   ]
  },
  {
   "cell_type": "markdown",
   "metadata": {},
   "source": [
    "## Ход работы:"
   ]
  },
  {
   "cell_type": "code",
   "execution_count": 2,
   "metadata": {},
   "outputs": [],
   "source": [
    "import pandas as pd"
   ]
  },
  {
   "cell_type": "markdown",
   "metadata": {},
   "source": [
    " $\\textbf{1.}$ Для определения расстояния между соседними дифф. максимумами измерим расстояние между удаленными друг от друга максимумами (горизонт. или верт.) и число промежутков между ними."
   ]
  },
  {
   "cell_type": "code",
   "execution_count": 3,
   "metadata": {},
   "outputs": [],
   "source": [
    "L = 110 #cm"
   ]
  },
  {
   "cell_type": "code",
   "execution_count": 4,
   "metadata": {},
   "outputs": [
    {
     "data": {
      "text/html": [
       "<div>\n",
       "<style scoped>\n",
       "    .dataframe tbody tr th:only-of-type {\n",
       "        vertical-align: middle;\n",
       "    }\n",
       "\n",
       "    .dataframe tbody tr th {\n",
       "        vertical-align: top;\n",
       "    }\n",
       "\n",
       "    .dataframe thead th {\n",
       "        text-align: right;\n",
       "    }\n",
       "</style>\n",
       "<table border=\"1\" class=\"dataframe\">\n",
       "  <thead>\n",
       "    <tr style=\"text-align: right;\">\n",
       "      <th></th>\n",
       "      <th>n</th>\n",
       "      <th>m</th>\n",
       "      <th>d, cm</th>\n",
       "      <th>deltad, cm</th>\n",
       "    </tr>\n",
       "  </thead>\n",
       "  <tbody>\n",
       "    <tr>\n",
       "      <th>0</th>\n",
       "      <td>2</td>\n",
       "      <td>8</td>\n",
       "      <td>3</td>\n",
       "      <td>0.1</td>\n",
       "    </tr>\n",
       "    <tr>\n",
       "      <th>1</th>\n",
       "      <td>3</td>\n",
       "      <td>9</td>\n",
       "      <td>11</td>\n",
       "      <td>0.1</td>\n",
       "    </tr>\n",
       "    <tr>\n",
       "      <th>2</th>\n",
       "      <td>4</td>\n",
       "      <td>10</td>\n",
       "      <td>15</td>\n",
       "      <td>0.1</td>\n",
       "    </tr>\n",
       "    <tr>\n",
       "      <th>3</th>\n",
       "      <td>5</td>\n",
       "      <td>15</td>\n",
       "      <td>8</td>\n",
       "      <td>0.1</td>\n",
       "    </tr>\n",
       "    <tr>\n",
       "      <th>4</th>\n",
       "      <td>6</td>\n",
       "      <td>7</td>\n",
       "      <td>11</td>\n",
       "      <td>0.1</td>\n",
       "    </tr>\n",
       "  </tbody>\n",
       "</table>\n",
       "</div>"
      ],
      "text/plain": [
       "   n   m  d, cm  deltad, cm\n",
       "0  2   8      3         0.1\n",
       "1  3   9     11         0.1\n",
       "2  4  10     15         0.1\n",
       "3  5  15      8         0.1\n",
       "4  6   7     11         0.1"
      ]
     },
     "execution_count": 4,
     "metadata": {},
     "output_type": "execute_result"
    }
   ],
   "source": [
    "data1 = pd.DataFrame()\n",
    "data1[\"n\"] = [2, 3, 4, 5, 6]\n",
    "data1[\"m\"] = [8, 9 , 10, 15, 7]\n",
    "data1[\"d, cm\"] = [3, 11, 15, 8, 11]\n",
    "data1['deltad, cm'] = [0.1] * 5\n",
    "data1"
   ]
  },
  {
   "cell_type": "markdown",
   "metadata": {},
   "source": [
    "$\\textbf{2.}$ Соберем новую схему и измерим в ней расстояния"
   ]
  },
  {
   "cell_type": "code",
   "execution_count": 5,
   "metadata": {},
   "outputs": [],
   "source": [
    "a1 = 9.8 # +- 0.1 cm\n",
    "a2 = 2.5 # +- 0.1 cm\n",
    "b1 = 90 # +- 2 cm\n",
    "b2 = 36 # +- 2 cm"
   ]
  },
  {
   "cell_type": "markdown",
   "metadata": {},
   "source": [
    "$\\text{3.}$ Поместим щелевую диафрагму с микрометрическим винтов в фокальную плоскоть $F$ линзы $L_!$. Определим для каждой решетки минимальный размер диафрагмы $D$ при котором на экране еще видно изображение сетки."
   ]
  },
  {
   "cell_type": "code",
   "execution_count": 6,
   "metadata": {},
   "outputs": [
    {
     "data": {
      "text/html": [
       "<div>\n",
       "<style scoped>\n",
       "    .dataframe tbody tr th:only-of-type {\n",
       "        vertical-align: middle;\n",
       "    }\n",
       "\n",
       "    .dataframe tbody tr th {\n",
       "        vertical-align: top;\n",
       "    }\n",
       "\n",
       "    .dataframe thead th {\n",
       "        text-align: right;\n",
       "    }\n",
       "</style>\n",
       "<table border=\"1\" class=\"dataframe\">\n",
       "  <thead>\n",
       "    <tr style=\"text-align: right;\">\n",
       "      <th></th>\n",
       "      <th>n</th>\n",
       "      <th>D, ris</th>\n",
       "      <th>D, del</th>\n",
       "      <th>deltaD, del</th>\n",
       "    </tr>\n",
       "  </thead>\n",
       "  <tbody>\n",
       "    <tr>\n",
       "      <th>0</th>\n",
       "      <td>2</td>\n",
       "      <td>0</td>\n",
       "      <td>47</td>\n",
       "      <td>1</td>\n",
       "    </tr>\n",
       "    <tr>\n",
       "      <th>1</th>\n",
       "      <td>3</td>\n",
       "      <td>1</td>\n",
       "      <td>27</td>\n",
       "      <td>1</td>\n",
       "    </tr>\n",
       "    <tr>\n",
       "      <th>2</th>\n",
       "      <td>4</td>\n",
       "      <td>0</td>\n",
       "      <td>78</td>\n",
       "      <td>1</td>\n",
       "    </tr>\n",
       "    <tr>\n",
       "      <th>3</th>\n",
       "      <td>5</td>\n",
       "      <td>0</td>\n",
       "      <td>80</td>\n",
       "      <td>1</td>\n",
       "    </tr>\n",
       "    <tr>\n",
       "      <th>4</th>\n",
       "      <td>6</td>\n",
       "      <td>1</td>\n",
       "      <td>97</td>\n",
       "      <td>1</td>\n",
       "    </tr>\n",
       "  </tbody>\n",
       "</table>\n",
       "</div>"
      ],
      "text/plain": [
       "   n  D, ris  D, del  deltaD, del\n",
       "0  2       0      47            1\n",
       "1  3       1      27            1\n",
       "2  4       0      78            1\n",
       "3  5       0      80            1\n",
       "4  6       1      97            1"
      ]
     },
     "execution_count": 6,
     "metadata": {},
     "output_type": "execute_result"
    }
   ],
   "source": [
    "data2 = pd.DataFrame()\n",
    "data2[\"n\"] = [2, 3, 4, 5, 6]\n",
    "data2[\"D, ris\"] = [0, 1, 0, 0, 1]\n",
    "data2[\"D, del\"] = [47, 27, 78, 80, 97]\n",
    "data2[\"deltaD, del\"] = [1]*5\n",
    "data2"
   ]
  },
  {
   "cell_type": "markdown",
   "metadata": {},
   "source": [
    "$\\textbf{4.}$ Определим $\\Theta_x$ как $\\arcsin (\\dfrac{m_x\\cdot \\lambda}{d})$, а $\\Theta_у$ как $\\arcsin (\\dfrac{m_у\\cdot \\lambda}{d})$"
   ]
  },
  {
   "cell_type": "code",
   "execution_count": 7,
   "metadata": {},
   "outputs": [
    {
     "data": {
      "text/html": [
       "<div>\n",
       "<style scoped>\n",
       "    .dataframe tbody tr th:only-of-type {\n",
       "        vertical-align: middle;\n",
       "    }\n",
       "\n",
       "    .dataframe tbody tr th {\n",
       "        vertical-align: top;\n",
       "    }\n",
       "\n",
       "    .dataframe thead th {\n",
       "        text-align: right;\n",
       "    }\n",
       "</style>\n",
       "<table border=\"1\" class=\"dataframe\">\n",
       "  <thead>\n",
       "    <tr style=\"text-align: right;\">\n",
       "      <th></th>\n",
       "      <th>n</th>\n",
       "      <th>theta_x, 10^-6</th>\n",
       "      <th>theta_y, 10^-6</th>\n",
       "    </tr>\n",
       "  </thead>\n",
       "  <tbody>\n",
       "    <tr>\n",
       "      <th>0</th>\n",
       "      <td>2</td>\n",
       "      <td>141.9</td>\n",
       "      <td>28.0</td>\n",
       "    </tr>\n",
       "    <tr>\n",
       "      <th>1</th>\n",
       "      <td>3</td>\n",
       "      <td>44.3</td>\n",
       "      <td>106.4</td>\n",
       "    </tr>\n",
       "    <tr>\n",
       "      <th>2</th>\n",
       "      <td>4</td>\n",
       "      <td>66.5</td>\n",
       "      <td>133.0</td>\n",
       "    </tr>\n",
       "    <tr>\n",
       "      <th>3</th>\n",
       "      <td>5</td>\n",
       "      <td>88.7</td>\n",
       "      <td>45.6</td>\n",
       "    </tr>\n",
       "    <tr>\n",
       "      <th>4</th>\n",
       "      <td>6</td>\n",
       "      <td>33.9</td>\n",
       "      <td>141.9</td>\n",
       "    </tr>\n",
       "  </tbody>\n",
       "</table>\n",
       "</div>"
      ],
      "text/plain": [
       "   n  theta_x, 10^-6  theta_y, 10^-6\n",
       "0  2           141.9            28.0\n",
       "1  3            44.3           106.4\n",
       "2  4            66.5           133.0\n",
       "3  5            88.7            45.6\n",
       "4  6            33.9           141.9"
      ]
     },
     "execution_count": 7,
     "metadata": {},
     "output_type": "execute_result"
    }
   ],
   "source": [
    "data3 = pd.DataFrame()\n",
    "data3[\"n\"] = [2, 3, 4, 5, 6]\n",
    "data3[\"theta_x, 10^-6\"] = [141.9, 44.3, 66.5, 88.7, 33.9]\n",
    "data3[\"theta_y, 10^-6\"] = [28, 106.4, 133, 45.6, 141.9]\n",
    "data3"
   ]
  },
  {
   "cell_type": "markdown",
   "metadata": {},
   "source": [
    "$\\textbf{5.}$ Рассчитаем период решетки $d$ по пространственному сектору."
   ]
  },
  {
   "cell_type": "code",
   "execution_count": 8,
   "metadata": {},
   "outputs": [
    {
     "data": {
      "text/html": [
       "<div>\n",
       "<style scoped>\n",
       "    .dataframe tbody tr th:only-of-type {\n",
       "        vertical-align: middle;\n",
       "    }\n",
       "\n",
       "    .dataframe tbody tr th {\n",
       "        vertical-align: top;\n",
       "    }\n",
       "\n",
       "    .dataframe thead th {\n",
       "        text-align: right;\n",
       "    }\n",
       "</style>\n",
       "<table border=\"1\" class=\"dataframe\">\n",
       "  <thead>\n",
       "    <tr style=\"text-align: right;\">\n",
       "      <th></th>\n",
       "      <th>n</th>\n",
       "      <th>m</th>\n",
       "      <th>delta_x, mm</th>\n",
       "      <th>d, mm</th>\n",
       "    </tr>\n",
       "  </thead>\n",
       "  <tbody>\n",
       "    <tr>\n",
       "      <th>0</th>\n",
       "      <td>2</td>\n",
       "      <td>8</td>\n",
       "      <td>300</td>\n",
       "      <td>0.0406±0.0005</td>\n",
       "    </tr>\n",
       "    <tr>\n",
       "      <th>1</th>\n",
       "      <td>3</td>\n",
       "      <td>15</td>\n",
       "      <td>280</td>\n",
       "      <td>0.0516±0.0005</td>\n",
       "    </tr>\n",
       "    <tr>\n",
       "      <th>2</th>\n",
       "      <td>4</td>\n",
       "      <td>10</td>\n",
       "      <td>150</td>\n",
       "      <td>0.0492±0.0005</td>\n",
       "    </tr>\n",
       "    <tr>\n",
       "      <th>3</th>\n",
       "      <td>5</td>\n",
       "      <td>15</td>\n",
       "      <td>90</td>\n",
       "      <td>0.103±0.0008</td>\n",
       "    </tr>\n",
       "    <tr>\n",
       "      <th>4</th>\n",
       "      <td>6</td>\n",
       "      <td>7</td>\n",
       "      <td>110</td>\n",
       "      <td>0.1620±0.0010</td>\n",
       "    </tr>\n",
       "  </tbody>\n",
       "</table>\n",
       "</div>"
      ],
      "text/plain": [
       "   n   m  delta_x, mm          d, mm\n",
       "0  2   8          300  0.0406±0.0005\n",
       "1  3  15          280  0.0516±0.0005\n",
       "2  4  10          150  0.0492±0.0005\n",
       "3  5  15           90   0.103±0.0008\n",
       "4  6   7          110  0.1620±0.0010"
      ]
     },
     "execution_count": 8,
     "metadata": {},
     "output_type": "execute_result"
    }
   ],
   "source": [
    "data4 = pd.DataFrame()\n",
    "data4[\"n\"] = [2, 3, 4, 5, 6]\n",
    "data4[\"m\"] = [8, 15, 10, 15, 7]\n",
    "data4[\"delta_x, mm\"] = [300, 280, 150, 90, 110]\n",
    "data4[\"d, mm\"] = ['0.0406±0.0005', '0.0516±0.0005', '0.0492±0.0005', '0.103±0.0008', '0.1620±0.0010']\n",
    "data4"
   ]
  },
  {
   "cell_type": "markdown",
   "metadata": {},
   "source": [
    "$\\textbf{6.}$ Рассчитаем период решетки $d$ по изображению, полученному с помощью микроскопа."
   ]
  },
  {
   "cell_type": "code",
   "execution_count": 9,
   "metadata": {},
   "outputs": [
    {
     "data": {
      "text/html": [
       "<div>\n",
       "<style scoped>\n",
       "    .dataframe tbody tr th:only-of-type {\n",
       "        vertical-align: middle;\n",
       "    }\n",
       "\n",
       "    .dataframe tbody tr th {\n",
       "        vertical-align: top;\n",
       "    }\n",
       "\n",
       "    .dataframe thead th {\n",
       "        text-align: right;\n",
       "    }\n",
       "</style>\n",
       "<table border=\"1\" class=\"dataframe\">\n",
       "  <thead>\n",
       "    <tr style=\"text-align: right;\">\n",
       "      <th></th>\n",
       "      <th>n</th>\n",
       "      <th>m</th>\n",
       "      <th>delta_x, mm</th>\n",
       "      <th>Г</th>\n",
       "      <th>d, mm</th>\n",
       "    </tr>\n",
       "  </thead>\n",
       "  <tbody>\n",
       "    <tr>\n",
       "      <th>0</th>\n",
       "      <td>2</td>\n",
       "      <td>2</td>\n",
       "      <td>38</td>\n",
       "      <td>11.8</td>\n",
       "      <td>0.0405±0.0005</td>\n",
       "    </tr>\n",
       "    <tr>\n",
       "      <th>1</th>\n",
       "      <td>3</td>\n",
       "      <td>4</td>\n",
       "      <td>20</td>\n",
       "      <td>11.8</td>\n",
       "      <td>0.0511±0.0005</td>\n",
       "    </tr>\n",
       "    <tr>\n",
       "      <th>2</th>\n",
       "      <td>4</td>\n",
       "      <td>5</td>\n",
       "      <td>40</td>\n",
       "      <td>11.8</td>\n",
       "      <td>0.0489±0.0005</td>\n",
       "    </tr>\n",
       "    <tr>\n",
       "      <th>3</th>\n",
       "      <td>5</td>\n",
       "      <td>6</td>\n",
       "      <td>70</td>\n",
       "      <td>11.8</td>\n",
       "      <td>0.099±0.0008</td>\n",
       "    </tr>\n",
       "    <tr>\n",
       "      <th>4</th>\n",
       "      <td>6</td>\n",
       "      <td>8</td>\n",
       "      <td>30</td>\n",
       "      <td>11.8</td>\n",
       "      <td>0.157±0.0010</td>\n",
       "    </tr>\n",
       "  </tbody>\n",
       "</table>\n",
       "</div>"
      ],
      "text/plain": [
       "   n  m  delta_x, mm     Г          d, mm\n",
       "0  2  2           38  11.8  0.0405±0.0005\n",
       "1  3  4           20  11.8  0.0511±0.0005\n",
       "2  4  5           40  11.8  0.0489±0.0005\n",
       "3  5  6           70  11.8   0.099±0.0008\n",
       "4  6  8           30  11.8   0.157±0.0010"
      ]
     },
     "execution_count": 9,
     "metadata": {},
     "output_type": "execute_result"
    }
   ],
   "source": [
    "data5 = pd.DataFrame()\n",
    "data5[\"n\"] = [2, 3, 4, 5, 6]\n",
    "data5[\"m\"] = [2, 4, 5, 6, 8]\n",
    "data5[\"delta_x, mm\"] = [38, 20, 40, 70, 30]\n",
    "data5[\"Г\"] = [11.8]*5\n",
    "data5[\"d, mm\"] = ['0.0405±0.0005', '0.0511±0.0005', '0.0489±0.0005', '0.099±0.0008', '0.157±0.0010']\n",
    "data5"
   ]
  },
  {
   "cell_type": "markdown",
   "metadata": {},
   "source": [
    "$\\textbf{7.}$ Рассчитаем период решетки с помощью формулы: \n",
    "\n",
    "$d \\geq \\dfrac{\\lambda}{\\sin(u)} \\approx \\dfrac{\\lambda}{\\frac{D}{2f}}$\n",
    "\n",
    "(по оценке разрешающей способности)"
   ]
  },
  {
   "cell_type": "code",
   "execution_count": 10,
   "metadata": {},
   "outputs": [
    {
     "data": {
      "text/html": [
       "<div>\n",
       "<style scoped>\n",
       "    .dataframe tbody tr th:only-of-type {\n",
       "        vertical-align: middle;\n",
       "    }\n",
       "\n",
       "    .dataframe tbody tr th {\n",
       "        vertical-align: top;\n",
       "    }\n",
       "\n",
       "    .dataframe thead th {\n",
       "        text-align: right;\n",
       "    }\n",
       "</style>\n",
       "<table border=\"1\" class=\"dataframe\">\n",
       "  <thead>\n",
       "    <tr style=\"text-align: right;\">\n",
       "      <th></th>\n",
       "      <th>n</th>\n",
       "      <th>D, mm</th>\n",
       "      <th>D/2f</th>\n",
       "      <th>d, mm</th>\n",
       "      <th>1/D, mm-1</th>\n",
       "      <th>delta 1/D, mm-1</th>\n",
       "    </tr>\n",
       "  </thead>\n",
       "  <tbody>\n",
       "    <tr>\n",
       "      <th>0</th>\n",
       "      <td>2</td>\n",
       "      <td>1.65</td>\n",
       "      <td>0.0075±0.0003</td>\n",
       "      <td>0.0405</td>\n",
       "      <td>0.61</td>\n",
       "      <td>0.01</td>\n",
       "    </tr>\n",
       "    <tr>\n",
       "      <th>1</th>\n",
       "      <td>3</td>\n",
       "      <td>1.35</td>\n",
       "      <td>0.0061±0.0002</td>\n",
       "      <td>0.0518</td>\n",
       "      <td>0.74</td>\n",
       "      <td>0.01</td>\n",
       "    </tr>\n",
       "    <tr>\n",
       "      <th>2</th>\n",
       "      <td>4</td>\n",
       "      <td>1.08</td>\n",
       "      <td>0.0049±0.0002</td>\n",
       "      <td>0.0492</td>\n",
       "      <td>0.93</td>\n",
       "      <td>0.02</td>\n",
       "    </tr>\n",
       "    <tr>\n",
       "      <th>3</th>\n",
       "      <td>5</td>\n",
       "      <td>0.79</td>\n",
       "      <td>0.0036±0.0001</td>\n",
       "      <td>0.1050</td>\n",
       "      <td>1.27</td>\n",
       "      <td>0.03</td>\n",
       "    </tr>\n",
       "    <tr>\n",
       "      <th>4</th>\n",
       "      <td>6</td>\n",
       "      <td>0.58</td>\n",
       "      <td>0.0026±0.0001</td>\n",
       "      <td>0.1620</td>\n",
       "      <td>1.72</td>\n",
       "      <td>0.03</td>\n",
       "    </tr>\n",
       "  </tbody>\n",
       "</table>\n",
       "</div>"
      ],
      "text/plain": [
       "   n  D, mm           D/2f   d, mm  1/D, mm-1  delta 1/D, mm-1\n",
       "0  2   1.65  0.0075±0.0003  0.0405       0.61             0.01\n",
       "1  3   1.35  0.0061±0.0002  0.0518       0.74             0.01\n",
       "2  4   1.08  0.0049±0.0002  0.0492       0.93             0.02\n",
       "3  5   0.79  0.0036±0.0001  0.1050       1.27             0.03\n",
       "4  6   0.58  0.0026±0.0001  0.1620       1.72             0.03"
      ]
     },
     "execution_count": 10,
     "metadata": {},
     "output_type": "execute_result"
    }
   ],
   "source": [
    "data6 = pd.DataFrame()\n",
    "data6[\"n\"] = [2, 3, 4, 5, 6]\n",
    "data6[\"D, mm\"] = [1.65, 1.35, 1.08, 0.79, 0.58]\n",
    "data6[\"D/2f\"] = ['0.0075±0.0003', '0.0061±0.0002', '0.0049±0.0002', '0.0036±0.0001', '0.0026±0.0001']\n",
    "data6[\"d, mm\"] = [0.0405, 0.0518, 0.0492, 0.105, 0.162]\n",
    "data6[\"1/D, mm-1\"] = [round(x,2) for x in 1 / data6[\"D, mm\"]]\n",
    "data6[\"delta 1/D, mm-1\"] = [0.01, 0.01, 0.02, 0.03, 0.03]\n",
    "data6"
   ]
  },
  {
   "cell_type": "markdown",
   "metadata": {},
   "source": [
    "$\\textbf{8.}$ Построим график зависимости $d (\\frac{1}{D})$"
   ]
  },
  {
   "cell_type": "code",
   "execution_count": 13,
   "metadata": {},
   "outputs": [
    {
     "data": {
      "image/png": "[encoded data removed]",
      "text/plain": [
       "<Figure size 1008x576 with 1 Axes>"
      ]
     },
     "metadata": {
      "needs_background": "light"
     },
     "output_type": "display_data"
    }
   ],
   "source": [
    "from matplotlib import pyplot as plt\n",
    "import numpy as np\n",
    "\n",
    "plt.figure(figsize=(14,8))\n",
    "plt.title(r'$d(\\frac{1}{D})$')\n",
    "plt.plot(data6[\"1/D, mm-1\"], data6[\"d, mm\"], 'x' )\n",
    "A = np.vstack([data6[\"1/D, mm-1\"], np.ones(len(data6[\"1/D, mm-1\"]))]).T\n",
    "b, a = np.linalg.lstsq(A, data6[\"d, mm\"], rcond = None)[0]\n",
    "plt.plot(data6[\"1/D, mm-1\"], b*data6[\"1/D, mm-1\"] + a, '--')\n",
    "plt.grid()\n",
    "plt.xlabel(r'$\\frac{1}{D} \\ \\ mm$')\n",
    "plt.ylabel(r'$d\\ \\  mm$');"
   ]
  },
  {
   "cell_type": "code",
   "execution_count": null,
   "metadata": {},
   "outputs": [],
   "source": []
  }
 ],
 "metadata": {
  "kernelspec": {
   "display_name": "Python 3",
   "language": "python",
   "name": "python3"
  },
  "language_info": {
   "codemirror_mode": {
    "name": "ipython",
    "version": 3
   },
   "file_extension": ".py",
   "mimetype": "text/x-python",
   "name": "python",
   "nbconvert_exporter": "python",
   "pygments_lexer": "ipython3",
   "version": "3.7.3"
  }
 },
 "nbformat": 4,
 "nbformat_minor": 4
}
