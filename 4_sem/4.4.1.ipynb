{
 "cells": [
  {
   "cell_type": "markdown",
   "metadata": {},
   "source": [
    "# Лабораторная работа № 4.4.1\n",
    "# \"Амплитудная дифракционная решётка\"\n",
    "## Выполнили: \n",
    "- Самойленко Александр 778 гр.\n",
    "- Усеинов Булат 778 гр."
   ]
  },
  {
   "cell_type": "code",
   "execution_count": 1,
   "metadata": {},
   "outputs": [],
   "source": [
    "import numpy as np\n",
    "import pandas as pd\n",
    "from matplotlib import pyplot as plt\n",
    "from scipy import interpolate\n",
    "import math\n",
    "from IPython.core.display import Image, display"
   ]
  },
  {
   "cell_type": "markdown",
   "metadata": {},
   "source": [
    "$\\textbf{Цель работы:}$ Знакомство с работой и настройкой гониометра $Г_5$, определение спектральных характеристик амплитудной решётки.\n"
   ]
  },
  {
   "cell_type": "markdown",
   "metadata": {},
   "source": [
    "$\\textbf{В работе используются:}$ гониометр, дифракционная решётка, ртутная лампа."
   ]
  },
  {
   "cell_type": "markdown",
   "metadata": {},
   "source": [
    "## $\\textbf{Ход работы:}$"
   ]
  },
  {
   "cell_type": "markdown",
   "metadata": {},
   "source": [
    "#### 1) Юстировка гониометра"
   ]
  },
  {
   "cell_type": "markdown",
   "metadata": {},
   "source": [
    "#### 2) Установка решетки"
   ]
  },
  {
   "cell_type": "markdown",
   "metadata": {},
   "source": [
    "\n",
    "Основание оправы решётки и её штрихи могут быть не перпендикулярны друг другу, поэтому плоскость столика следует немного наклонить. Установим решётку на столик так, чтобы её плоскость была перпендикулярна оси зрительной трубы и параллельна одному из установочных винтов. В центре поля зрения расположена белая ахроматическая полоса (спектр нулевого порядка). Высота полос должна быть менее четверти поля зрения трубы. Поворачивая алидаду, найдем изображение линий максимального порядка, и винтом 8, параллельным плоскости решётки, вернем центр изображения щели к горизонтальной оси отсчётного креста зрительной трубы."
   ]
  },
  {
   "cell_type": "markdown",
   "metadata": {},
   "source": [
    "#### 3) Исследование спектра ртутной лампы"
   ]
  },
  {
   "cell_type": "markdown",
   "metadata": {},
   "source": [
    "Подберем ширину входной щели коллиматора так, чтобы ширина линий жёлтого дублета была чуть больше промежутка между линиями двойного штриха окуляра зрительной трубы. Установим высоту щели, удобную для измерений."
   ]
  },
  {
   "cell_type": "markdown",
   "metadata": {},
   "source": [
    "Измерим угловые координаты спектральных линий ртути в ±1 порядке:"
   ]
  },
  {
   "cell_type": "code",
   "execution_count": 94,
   "metadata": {},
   "outputs": [
    {
     "data": {
      "text/html": [
       "<div>\n",
       "<style scoped>\n",
       "    .dataframe tbody tr th:only-of-type {\n",
       "        vertical-align: middle;\n",
       "    }\n",
       "\n",
       "    .dataframe tbody tr th {\n",
       "        vertical-align: top;\n",
       "    }\n",
       "\n",
       "    .dataframe thead th {\n",
       "        text-align: right;\n",
       "    }\n",
       "</style>\n",
       "<table border=\"1\" class=\"dataframe\">\n",
       "  <thead>\n",
       "    <tr style=\"text-align: right;\">\n",
       "      <th></th>\n",
       "      <th>Color</th>\n",
       "      <th>Deg</th>\n",
       "      <th>Min</th>\n",
       "      <th>Sec</th>\n",
       "      <th>lambda</th>\n",
       "      <th>Rad</th>\n",
       "      <th>sin</th>\n",
       "    </tr>\n",
       "  </thead>\n",
       "  <tbody>\n",
       "    <tr>\n",
       "      <th>0</th>\n",
       "      <td>фиолетовый</td>\n",
       "      <td>11</td>\n",
       "      <td>38</td>\n",
       "      <td>9</td>\n",
       "      <td>404.7</td>\n",
       "      <td>0.203084</td>\n",
       "      <td>0.201691</td>\n",
       "    </tr>\n",
       "    <tr>\n",
       "      <th>1</th>\n",
       "      <td>синий</td>\n",
       "      <td>12</td>\n",
       "      <td>32</td>\n",
       "      <td>54</td>\n",
       "      <td>435.8</td>\n",
       "      <td>0.219010</td>\n",
       "      <td>0.217263</td>\n",
       "    </tr>\n",
       "    <tr>\n",
       "      <th>2</th>\n",
       "      <td>голубой</td>\n",
       "      <td>14</td>\n",
       "      <td>10</td>\n",
       "      <td>36</td>\n",
       "      <td>491.6</td>\n",
       "      <td>0.247430</td>\n",
       "      <td>0.244913</td>\n",
       "    </tr>\n",
       "    <tr>\n",
       "      <th>3</th>\n",
       "      <td>зеленый</td>\n",
       "      <td>15</td>\n",
       "      <td>47</td>\n",
       "      <td>3</td>\n",
       "      <td>546.1</td>\n",
       "      <td>0.275486</td>\n",
       "      <td>0.272014</td>\n",
       "    </tr>\n",
       "    <tr>\n",
       "      <th>4</th>\n",
       "      <td>желтый 2</td>\n",
       "      <td>16</td>\n",
       "      <td>42</td>\n",
       "      <td>4</td>\n",
       "      <td>577.0</td>\n",
       "      <td>0.291489</td>\n",
       "      <td>0.287379</td>\n",
       "    </tr>\n",
       "    <tr>\n",
       "      <th>5</th>\n",
       "      <td>желтый 1</td>\n",
       "      <td>16</td>\n",
       "      <td>45</td>\n",
       "      <td>49</td>\n",
       "      <td>579.1</td>\n",
       "      <td>0.292580</td>\n",
       "      <td>0.288424</td>\n",
       "    </tr>\n",
       "    <tr>\n",
       "      <th>6</th>\n",
       "      <td>красный 2</td>\n",
       "      <td>17</td>\n",
       "      <td>45</td>\n",
       "      <td>27</td>\n",
       "      <td>623.4</td>\n",
       "      <td>0.309927</td>\n",
       "      <td>0.304989</td>\n",
       "    </tr>\n",
       "    <tr>\n",
       "      <th>7</th>\n",
       "      <td>красный 1</td>\n",
       "      <td>18</td>\n",
       "      <td>5</td>\n",
       "      <td>21</td>\n",
       "      <td>690.7</td>\n",
       "      <td>0.315716</td>\n",
       "      <td>0.310497</td>\n",
       "    </tr>\n",
       "  </tbody>\n",
       "</table>\n",
       "</div>"
      ],
      "text/plain": [
       "        Color  Deg  Min  Sec  lambda       Rad       sin\n",
       "0  фиолетовый   11   38    9   404.7  0.203084  0.201691\n",
       "1       синий   12   32   54   435.8  0.219010  0.217263\n",
       "2     голубой   14   10   36   491.6  0.247430  0.244913\n",
       "3     зеленый   15   47    3   546.1  0.275486  0.272014\n",
       "4    желтый 2   16   42    4   577.0  0.291489  0.287379\n",
       "5    желтый 1   16   45   49   579.1  0.292580  0.288424\n",
       "6   красный 2   17   45   27   623.4  0.309927  0.304989\n",
       "7   красный 1   18    5   21   690.7  0.315716  0.310497"
      ]
     },
     "execution_count": 94,
     "metadata": {},
     "output_type": "execute_result"
    }
   ],
   "source": [
    "phis_r = pd.DataFrame(columns=['Color', 'Deg', 'Min', 'Sec', 'lambda','Rad', 'sin'])\n",
    "phis_r['Color'] = ['фиолетовый', 'синий', 'голубой', 'зеленый', 'желтый 2', 'желтый 1', 'красный 2', 'красный 1']\n",
    "phis_r['Deg'] = [11, 12, 14, 15, 16, 16, 17, 18]\n",
    "phis_r['Min'] = [38, 32, 10, 47, 42, 45, 45, 5]\n",
    "phis_r['Sec'] = [9, 54, 36, 3, 4, 49, 27, 21]\n",
    "phis_r['lambda'] = [404.7, 435.8, 491.6, 546.1, 577.0, 579.1, 623.4, 690.7]\n",
    "phis_r['Rad'] = (np.pi/180)*(phis_r['Deg'] + (phis_r['Min']/60) + (phis_r['Sec']/3600))\n",
    "phis_r['sin'] = np.sin(phis_r['Rad'])\n",
    "\n",
    "phis_r"
   ]
  },
  {
   "cell_type": "code",
   "execution_count": 95,
   "metadata": {},
   "outputs": [
    {
     "data": {
      "text/html": [
       "<div>\n",
       "<style scoped>\n",
       "    .dataframe tbody tr th:only-of-type {\n",
       "        vertical-align: middle;\n",
       "    }\n",
       "\n",
       "    .dataframe tbody tr th {\n",
       "        vertical-align: top;\n",
       "    }\n",
       "\n",
       "    .dataframe thead th {\n",
       "        text-align: right;\n",
       "    }\n",
       "</style>\n",
       "<table border=\"1\" class=\"dataframe\">\n",
       "  <thead>\n",
       "    <tr style=\"text-align: right;\">\n",
       "      <th></th>\n",
       "      <th>Color</th>\n",
       "      <th>Deg</th>\n",
       "      <th>Min</th>\n",
       "      <th>Sec</th>\n",
       "      <th>lambda</th>\n",
       "      <th>Rad</th>\n",
       "      <th>sin</th>\n",
       "    </tr>\n",
       "  </thead>\n",
       "  <tbody>\n",
       "    <tr>\n",
       "      <th>0</th>\n",
       "      <td>фиолетовый</td>\n",
       "      <td>11</td>\n",
       "      <td>42</td>\n",
       "      <td>33</td>\n",
       "      <td>404.7</td>\n",
       "      <td>0.204364</td>\n",
       "      <td>0.202944</td>\n",
       "    </tr>\n",
       "    <tr>\n",
       "      <th>1</th>\n",
       "      <td>синий</td>\n",
       "      <td>12</td>\n",
       "      <td>37</td>\n",
       "      <td>42</td>\n",
       "      <td>435.8</td>\n",
       "      <td>0.220406</td>\n",
       "      <td>0.218626</td>\n",
       "    </tr>\n",
       "    <tr>\n",
       "      <th>2</th>\n",
       "      <td>голубой</td>\n",
       "      <td>14</td>\n",
       "      <td>42</td>\n",
       "      <td>52</td>\n",
       "      <td>491.6</td>\n",
       "      <td>0.256816</td>\n",
       "      <td>0.254002</td>\n",
       "    </tr>\n",
       "    <tr>\n",
       "      <th>3</th>\n",
       "      <td>зеленый</td>\n",
       "      <td>15</td>\n",
       "      <td>54</td>\n",
       "      <td>20</td>\n",
       "      <td>546.1</td>\n",
       "      <td>0.277604</td>\n",
       "      <td>0.274052</td>\n",
       "    </tr>\n",
       "    <tr>\n",
       "      <th>4</th>\n",
       "      <td>желтый 2</td>\n",
       "      <td>16</td>\n",
       "      <td>49</td>\n",
       "      <td>57</td>\n",
       "      <td>577.0</td>\n",
       "      <td>0.293783</td>\n",
       "      <td>0.289575</td>\n",
       "    </tr>\n",
       "    <tr>\n",
       "      <th>5</th>\n",
       "      <td>желтый 1</td>\n",
       "      <td>16</td>\n",
       "      <td>53</td>\n",
       "      <td>29</td>\n",
       "      <td>579.1</td>\n",
       "      <td>0.294810</td>\n",
       "      <td>0.290558</td>\n",
       "    </tr>\n",
       "    <tr>\n",
       "      <th>6</th>\n",
       "      <td>красный 2</td>\n",
       "      <td>17</td>\n",
       "      <td>53</td>\n",
       "      <td>51</td>\n",
       "      <td>623.4</td>\n",
       "      <td>0.312370</td>\n",
       "      <td>0.307315</td>\n",
       "    </tr>\n",
       "    <tr>\n",
       "      <th>7</th>\n",
       "      <td>красный 1</td>\n",
       "      <td>18</td>\n",
       "      <td>14</td>\n",
       "      <td>0</td>\n",
       "      <td>690.7</td>\n",
       "      <td>0.318232</td>\n",
       "      <td>0.312888</td>\n",
       "    </tr>\n",
       "  </tbody>\n",
       "</table>\n",
       "</div>"
      ],
      "text/plain": [
       "        Color  Deg  Min  Sec  lambda       Rad       sin\n",
       "0  фиолетовый   11   42   33   404.7  0.204364  0.202944\n",
       "1       синий   12   37   42   435.8  0.220406  0.218626\n",
       "2     голубой   14   42   52   491.6  0.256816  0.254002\n",
       "3     зеленый   15   54   20   546.1  0.277604  0.274052\n",
       "4    желтый 2   16   49   57   577.0  0.293783  0.289575\n",
       "5    желтый 1   16   53   29   579.1  0.294810  0.290558\n",
       "6   красный 2   17   53   51   623.4  0.312370  0.307315\n",
       "7   красный 1   18   14    0   690.7  0.318232  0.312888"
      ]
     },
     "execution_count": 95,
     "metadata": {},
     "output_type": "execute_result"
    }
   ],
   "source": [
    "phis_l = pd.DataFrame(columns=['Color', 'Deg', 'Min', 'Sec', 'lambda', 'Rad', 'sin'])\n",
    "phis_l['Color'] = ['фиолетовый', 'синий', 'голубой', 'зеленый', 'желтый 2', 'желтый 1', 'красный 2', 'красный 1']\n",
    "phis_l['Deg'] = [11, 12, 14, 15, 16, 16, 17, 18]\n",
    "phis_l['Min'] = [42, 37, 42, 54, 49, 53, 53, 14]\n",
    "phis_l['Sec'] = [33, 42, 52, 20, 57, 29, 51, 0]\n",
    "phis_l['lambda'] = [404.7, 435.8, 491.6, 546.1, 577.0, 579.1, 623.4, 690.7]\n",
    "phis_l['Rad'] = (np.pi/180)*(phis_l['Deg'] + (phis_l['Min']/60) + (phis_l['Sec']/3600))\n",
    "phis_l['sin'] = np.sin(phis_l['Rad'])\n",
    "\n",
    "phis_l"
   ]
  },
  {
   "cell_type": "code",
   "execution_count": 96,
   "metadata": {},
   "outputs": [
    {
     "data": {
      "text/html": [
       "<div>\n",
       "<style scoped>\n",
       "    .dataframe tbody tr th:only-of-type {\n",
       "        vertical-align: middle;\n",
       "    }\n",
       "\n",
       "    .dataframe tbody tr th {\n",
       "        vertical-align: top;\n",
       "    }\n",
       "\n",
       "    .dataframe thead th {\n",
       "        text-align: right;\n",
       "    }\n",
       "</style>\n",
       "<table border=\"1\" class=\"dataframe\">\n",
       "  <thead>\n",
       "    <tr style=\"text-align: right;\">\n",
       "      <th></th>\n",
       "      <th>rang</th>\n",
       "      <th>Deg1</th>\n",
       "      <th>Min1</th>\n",
       "      <th>Sec1</th>\n",
       "      <th>Deg2</th>\n",
       "      <th>Min2</th>\n",
       "      <th>Sec2</th>\n",
       "      <th>dphi</th>\n",
       "      <th>dlambda</th>\n",
       "      <th>D</th>\n",
       "    </tr>\n",
       "  </thead>\n",
       "  <tbody>\n",
       "    <tr>\n",
       "      <th>0</th>\n",
       "      <td>1</td>\n",
       "      <td>16</td>\n",
       "      <td>45</td>\n",
       "      <td>49</td>\n",
       "      <td>16</td>\n",
       "      <td>42</td>\n",
       "      <td>4</td>\n",
       "      <td>225</td>\n",
       "      <td>21</td>\n",
       "      <td>10.714286</td>\n",
       "    </tr>\n",
       "    <tr>\n",
       "      <th>1</th>\n",
       "      <td>2</td>\n",
       "      <td>35</td>\n",
       "      <td>3</td>\n",
       "      <td>37</td>\n",
       "      <td>34</td>\n",
       "      <td>51</td>\n",
       "      <td>12</td>\n",
       "      <td>745</td>\n",
       "      <td>21</td>\n",
       "      <td>35.476190</td>\n",
       "    </tr>\n",
       "    <tr>\n",
       "      <th>2</th>\n",
       "      <td>-1</td>\n",
       "      <td>16</td>\n",
       "      <td>53</td>\n",
       "      <td>29</td>\n",
       "      <td>16</td>\n",
       "      <td>49</td>\n",
       "      <td>57</td>\n",
       "      <td>212</td>\n",
       "      <td>21</td>\n",
       "      <td>10.095238</td>\n",
       "    </tr>\n",
       "    <tr>\n",
       "      <th>3</th>\n",
       "      <td>-2</td>\n",
       "      <td>35</td>\n",
       "      <td>33</td>\n",
       "      <td>45</td>\n",
       "      <td>35</td>\n",
       "      <td>21</td>\n",
       "      <td>36</td>\n",
       "      <td>729</td>\n",
       "      <td>21</td>\n",
       "      <td>34.714286</td>\n",
       "    </tr>\n",
       "  </tbody>\n",
       "</table>\n",
       "</div>"
      ],
      "text/plain": [
       "   rang  Deg1  Min1  Sec1  Deg2  Min2  Sec2  dphi  dlambda          D\n",
       "0     1    16    45    49    16    42     4   225       21  10.714286\n",
       "1     2    35     3    37    34    51    12   745       21  35.476190\n",
       "2    -1    16    53    29    16    49    57   212       21  10.095238\n",
       "3    -2    35    33    45    35    21    36   729       21  34.714286"
      ]
     },
     "execution_count": 96,
     "metadata": {},
     "output_type": "execute_result"
    }
   ],
   "source": [
    "yellow = pd.DataFrame()\n",
    "yellow['rang'] = [1,2,-1,-2]\n",
    "yellow['Deg1'] = [16, 35, 16, 35]\n",
    "yellow['Min1'] = [45, 3, 53, 33]\n",
    "yellow['Sec1'] = [49, 37, 29, 45]\n",
    "yellow['Deg2'] = [16, 34,  16, 35] \n",
    "yellow['Min2'] = [42, 51,  49, 21]\n",
    "yellow['Sec2'] = [4, 12,  57, 36]\n",
    "yellow['dphi'] = (yellow['Deg1']*3600 + (yellow['Min1']*60) + yellow['Sec1']) - (yellow['Deg2']*3600 + (yellow['Min2']*60) + yellow['Sec2'])\n",
    "yellow['dlambda'] = [21]*4\n",
    "yellow['D'] = yellow['dphi'] / yellow['dlambda'] \n",
    "yellow"
   ]
  },
  {
   "cell_type": "code",
   "execution_count": 97,
   "metadata": {},
   "outputs": [],
   "source": [
    "#Ширина желтой линии спектра\n",
    "x = 46 # сек"
   ]
  },
  {
   "cell_type": "code",
   "execution_count": 98,
   "metadata": {},
   "outputs": [
    {
     "data": {
      "image/png": "[encoded data removed]",
      "text/plain": [
       "<Figure size 1008x576 with 1 Axes>"
      ]
     },
     "metadata": {},
     "output_type": "display_data"
    }
   ],
   "source": [
    "plt.figure(figsize=(14,8))\n",
    "plt.title(r' sin = f(lambda)')\n",
    "plt.plot(phis_r['lambda'], phis_r['sin'], 'x' )\n",
    "A = np.vstack([phis_r['lambda'], np.ones(len(phis_r['lambda']))]).T\n",
    "b, a = np.linalg.lstsq(A, phis_r['sin'], rcond = None)[0]\n",
    "plt.plot(phis_r['lambda'], b*phis_r['lambda'] + a, '--')\n",
    "plt.grid()\n",
    "plt.xlabel(r'lambda')\n",
    "plt.ylabel(r'sin');"
   ]
  },
  {
   "cell_type": "code",
   "execution_count": 99,
   "metadata": {},
   "outputs": [
    {
     "data": {
      "image/png": "[encoded data removed]",
      "text/plain": [
       "<Figure size 1008x576 with 1 Axes>"
      ]
     },
     "metadata": {},
     "output_type": "display_data"
    }
   ],
   "source": [
    "plt.figure(figsize=(14,8))\n",
    "plt.title(r' sin = f(lambda) ')\n",
    "plt.plot(phis_l['lambda'], phis_l['sin'], 'x' )\n",
    "A = np.vstack([phis_l['lambda'], np.ones(len(phis_l['lambda']))]).T\n",
    "bl, al = np.linalg.lstsq(A, phis_l['sin'], rcond = None)[0]\n",
    "plt.plot(phis_l['lambda'], bl*phis_l['lambda'] + al, '--')\n",
    "plt.grid()\n",
    "plt.xlabel(r'lambda')\n",
    "plt.ylabel(r'sin');"
   ]
  },
  {
   "cell_type": "code",
   "execution_count": 100,
   "metadata": {},
   "outputs": [
    {
     "name": "stdout",
     "output_type": "stream",
     "text": [
      "d = 2423±130 nm\n"
     ]
    }
   ],
   "source": [
    "#период диф решетки\n",
    "d = (1/b+1/bl)/2\n",
    "print(\"d = %0.f±130 nm\" % (d))"
   ]
  },
  {
   "cell_type": "code",
   "execution_count": 101,
   "metadata": {},
   "outputs": [],
   "source": [
    "D = 10.71\n",
    "delta_lambda = x/D"
   ]
  },
  {
   "cell_type": "code",
   "execution_count": 102,
   "metadata": {},
   "outputs": [
    {
     "name": "stdout",
     "output_type": "stream",
     "text": [
      "delta_lambda = 4.3 A\n",
      "R = lambda/delta_lambda =  1300\n"
     ]
    }
   ],
   "source": [
    "print('delta_lambda = 4.3 A')\n",
    "print('R = lambda/delta_lambda = ', int(round(5770/4.3, -2)))"
   ]
  },
  {
   "cell_type": "code",
   "execution_count": null,
   "metadata": {},
   "outputs": [],
   "source": []
  }
 ],
 "metadata": {
  "kernelspec": {
   "display_name": "Python 3",
   "language": "python",
   "name": "python3"
  },
  "language_info": {
   "codemirror_mode": {
    "name": "ipython",
    "version": 3
   },
   "file_extension": ".py",
   "mimetype": "text/x-python",
   "name": "python",
   "nbconvert_exporter": "python",
   "pygments_lexer": "ipython3",
   "version": "3.6.8"
  }
 },
 "nbformat": 4,
 "nbformat_minor": 2
}
